{
 "cells": [
  {
   "cell_type": "code",
   "execution_count": 1,
   "metadata": {},
   "outputs": [],
   "source": [
    "# Put these at the top of every notebook, to get automatic reloading and inline plotting\n",
    "%reload_ext autoreload\n",
    "%autoreload 2\n",
    "%matplotlib inline"
   ]
  },
  {
   "cell_type": "markdown",
   "metadata": {
    "heading_collapsed": true
   },
   "source": [
    "# LSTM 模型"
   ]
  },
  {
   "cell_type": "markdown",
   "metadata": {
    "hidden": true
   },
   "source": [
    "     数据结构说明：\n",
    "     \n",
    "     1、基本数据\n",
    "        1） \n",
    "        self: Open, Close, ..., Volume , INCOME, Flag   -> 为防止某些数据过大， 统一下做log，后面其它的数据统一采用该种方式。\n",
    "        lstm data : line 1: [[open,....],[open,...]] 连续N个数据，通过LSTM 连续观察特征值，再进行分类\n",
    "        \n",
    "     2、网结构：\n",
    "        \n",
    "        1）\n",
    "        Seq: \n",
    "            B, N , (O,H,L,..)  \n",
    "            lstm --> B, N , 256  -->  liner --> B, 128  --> B,  64 --> B, 3\n",
    "    "
   ]
  },
  {
   "cell_type": "markdown",
   "metadata": {
    "heading_collapsed": true
   },
   "source": [
    "# 准备数据"
   ]
  },
  {
   "cell_type": "code",
   "execution_count": 2,
   "metadata": {
    "hidden": true
   },
   "outputs": [],
   "source": [
    "from stock.common.sdata import StockData\n",
    "import numpy as np\n",
    "import torch\n",
    "from torch.utils.data import TensorDataset, DataLoader\n",
    "code = '600016'\n",
    "sd = StockData(code)\n",
    "data = sd.combine_income(ndays=50)\n",
    "data.loc[:,['Open','Close','High','Low','Volume','Amount']] =  \\\n",
    "    data.loc[:,['Open','Close','High','Low','Volume','Amount']].apply(lambda x: (x-np.mean(x))/np.std(x))\n",
    "\n",
    "data_in , target = sd.package_data(data=data)\n",
    "data_in = [x.values for x in data_in]\n",
    "# data_a.apply(lambda x: (x-np.min(x))/(np.max(x)-np.min(x)),axis=1)\n",
    "# for item in data_in:\n",
    "#     # 归一化处理 , 最大值与最小值非常容易受异常点影响，所以这种方法鲁棒性较差，只适合传统精确小数据场景。\n",
    "#     item['Volume'],item['Amount'] = np.log(item['Volume']),np.log(item['Amount'])\n",
    "#     item = item.apply(lambda x: (x-np.min(x))/(np.max(x)-np.min(x)),axis=0)   \n",
    "    # 标准化处理， 标准化在此应该更适合, 在已有样本足够多的情况下比较稳定，适合现代嘈杂大数据场景。\n",
    "                                                                       \n",
    "\n",
    "dlen = int(len(data_in) * 0.9)\n",
    "train_data, train_target = torch.from_numpy(np.array(data_in[0:dlen])).float(), torch.from_numpy(np.array(target[0:dlen])).long()\n",
    "test_data, test_target = torch.from_numpy(np.array(data_in[dlen:])).float(), torch.from_numpy(np.array(target[dlen:]).squeeze()).long()\n"
   ]
  },
  {
   "cell_type": "markdown",
   "metadata": {
    "heading_collapsed": true
   },
   "source": [
    "# 网络模型 一"
   ]
  },
  {
   "cell_type": "code",
   "execution_count": 4,
   "metadata": {
    "hidden": true
   },
   "outputs": [],
   "source": [
    "# 模型\n",
    "import torch.nn  as nn\n",
    "class Net(nn.Module):\n",
    "    def __init__(self, n_feature, n_hidden=256, n_target=3):\n",
    "        super(Net,self).__init__()\n",
    "        self.lstm = nn.LSTM(input_size=n_feature,hidden_size=n_hidden,batch_first=True)\n",
    "        self.layer = nn.Sequential(\n",
    "            nn.Linear(256, 512),\n",
    "            nn.ReLU(),\n",
    "            nn.Linear(512, 256),\n",
    "            nn.ReLU(),\n",
    "            nn.Linear(256, 64),\n",
    "            nn.ReLU(),\n",
    "            nn.Linear(64, n_target),\n",
    "            nn.ReLU()\n",
    "        )\n",
    "    \n",
    "    def forward(self, data):\n",
    "        x, _ = self.lstm(data)\n",
    "        x = self.layer(x)\n",
    "        x = x[:,-1,:]\n",
    "        return x"
   ]
  },
  {
   "cell_type": "code",
   "execution_count": 19,
   "metadata": {
    "hidden": true
   },
   "outputs": [
    {
     "name": "stdout",
     "output_type": "stream",
     "text": [
      "torch.Size([286, 5, 6])\n",
      "tensor([2, 2, 2, 2, 2, 2, 2, 2, 2, 2, 2, 2, 2, 2, 2, 2, 2, 2, 2, 2, 2, 2, 2, 2,\n",
      "        2, 2, 2, 2, 2, 2, 2, 2, 2, 2, 2, 2, 2, 2, 2, 2, 2, 2, 2, 2, 2, 2, 2, 2,\n",
      "        2, 2, 2, 2, 2, 2, 2, 2, 2, 2, 2, 2, 2, 2, 2, 2, 2, 2, 2, 2, 2, 2, 2, 2,\n",
      "        2, 2, 2, 2, 2, 2, 2, 2, 2, 2, 2, 2, 2, 2, 2, 2, 2, 2, 2, 2, 2, 2, 2, 2,\n",
      "        2, 2, 2, 2, 2, 2, 2, 2, 2, 2, 2, 2, 2, 2, 2, 2, 2, 2, 2, 2, 2, 2, 2, 2,\n",
      "        2, 2, 2, 2, 2, 2, 2, 2, 2, 2, 2, 2, 2, 2, 2, 2, 2, 2, 2, 2, 2, 2, 2, 2,\n",
      "        2, 2, 2, 2, 2, 2, 2, 2, 2, 2, 2, 2, 2, 2, 2, 2, 2, 2, 2, 2, 2, 2, 2, 2,\n",
      "        2, 2, 2, 2, 2, 2, 2, 2, 2, 2, 2, 2, 2, 2, 2, 2, 2, 2, 2, 2, 2, 2, 2, 2,\n",
      "        2, 2, 2, 2, 2, 2, 2, 2, 2, 2, 2, 2, 2, 2, 2, 2, 2, 2, 2, 2, 2, 2, 2, 2,\n",
      "        2, 2, 2, 2, 2, 2, 2, 2, 2, 2, 2, 2, 2, 2, 2, 2, 2, 2, 2, 2, 2, 2, 2, 2,\n",
      "        2, 2, 2, 2, 2, 2, 2, 2, 2, 2, 2, 2, 2, 2, 2, 2, 2, 2, 2, 2, 2, 2, 2, 2,\n",
      "        2, 2, 2, 2, 2, 2, 2, 2, 2, 2, 2, 2, 2, 2, 2, 2, 2, 2, 2, 2, 2, 2])\n"
     ]
    },
    {
     "name": "stderr",
     "output_type": "stream",
     "text": [
      "/home/hecong/venv/lib/python3.6/site-packages/ipykernel_launcher.py:3: UserWarning: Implicit dimension choice for softmax has been deprecated. Change the call to include dim=X as an argument.\n",
      "  This is separate from the ipykernel package so we can avoid doing imports until\n"
     ]
    }
   ],
   "source": [
    "print(test_data.size())\n",
    "out = net(test_data)\n",
    "pred = torch.max(F.softmax(out), 1)[1]\n",
    "print(pred)"
   ]
  },
  {
   "cell_type": "code",
   "execution_count": null,
   "metadata": {
    "hidden": true,
    "scrolled": true
   },
   "outputs": [
    {
     "name": "stdout",
     "output_type": "stream",
     "text": [
      "epcho 0 step 39 loss 0.6559\n"
     ]
    },
    {
     "name": "stderr",
     "output_type": "stream",
     "text": [
      "/home/hecong/venv/lib/python3.6/site-packages/ipykernel_launcher.py:65: UserWarning: Implicit dimension choice for softmax has been deprecated. Change the call to include dim=X as an argument.\n"
     ]
    },
    {
     "name": "stdout",
     "output_type": "stream",
     "text": [
      "correct number : 193 (0.6868327402135231)\n",
      "epcho 5 step 39 loss 0.5367\n",
      "correct number : 193 (0.6868327402135231)\n",
      "epcho 10 step 39 loss 0.5312\n",
      "correct number : 193 (0.6868327402135231)\n",
      "epcho 15 step 39 loss 0.5282\n",
      "correct number : 193 (0.6868327402135231)\n",
      "epcho 20 step 39 loss 0.5270\n",
      "correct number : 193 (0.6868327402135231)\n",
      "epcho 25 step 39 loss 0.5284\n",
      "correct number : 193 (0.6868327402135231)\n",
      "epcho 30 step 39 loss 0.5307\n",
      "correct number : 193 (0.6868327402135231)\n",
      "epcho 35 step 39 loss 0.5285\n",
      "correct number : 193 (0.6868327402135231)\n",
      "epcho 40 step 39 loss 0.5214\n",
      "correct number : 193 (0.6868327402135231)\n",
      "epcho 45 step 39 loss 0.5254\n",
      "correct number : 193 (0.6868327402135231)\n",
      "epcho 50 step 39 loss 0.5233\n",
      "correct number : 193 (0.6868327402135231)\n",
      "epcho 55 step 39 loss 0.5312\n",
      "correct number : 193 (0.6868327402135231)\n",
      "epcho 60 step 39 loss 0.5235\n",
      "correct number : 193 (0.6868327402135231)\n",
      "epcho 65 step 39 loss 0.5240\n",
      "correct number : 193 (0.6868327402135231)\n",
      "epcho 70 step 39 loss 0.5219\n",
      "correct number : 193 (0.6868327402135231)\n",
      "epcho 75 step 39 loss 0.5212\n",
      "correct number : 193 (0.6868327402135231)\n"
     ]
    }
   ],
   "source": [
    "# 训练网络\n",
    "import torch.optim as optim\n",
    "import torch.nn.functional as F\n",
    "import os\n",
    "import copy\n",
    "import torch.nn.init as init\n",
    "# from tensorboardX import SummaryWriter\n",
    "from stock.common.log import Logger\n",
    "\n",
    "\n",
    "# 网络参数初始化\n",
    "def weight_init(m):\n",
    "    if isinstance(m, nn.Linear):\n",
    "        init.xavier_normal_(m.weight.data)\n",
    "#         init.xavier_normal_(m.bias.data)\n",
    "    elif isinstance(m, nn.LSTM):\n",
    "        init.xavier_normal_(m.all_weights[0][0])\n",
    "        init.xavier_normal_(m.all_weights[0][1])        \n",
    "\n",
    "#   tensorboard --logdir /home/hecong/dplearn/base/log\n",
    "\n",
    "# writer = SummaryWriter(\"/home/hecong/dplearn/base/log\")\n",
    "logger = Logger('/home/hecong/dplearn/base/log')\n",
    "\n",
    "feature = train_data.shape[2]\n",
    "dataset = TensorDataset(train_data, train_target)\n",
    "train_loader = DataLoader(dataset=dataset, batch_size=64, shuffle=True)\n",
    "\n",
    "net = Net(n_feature=feature)\n",
    "net.apply(weight_init)\n",
    "\n",
    "\n",
    "if os.path.exists('net_model.pkl'):\n",
    "    print('加载上次训练模型...')\n",
    "    net.load_state_dict(torch.load('net_model.pkl'))\n",
    "    \n",
    "\n",
    "loss_function = nn.CrossEntropyLoss()\n",
    "optimizer = optim.Adam(net.parameters(), lr=0.01, weight_decay=1e-3)\n",
    "\n",
    "\n",
    "epcho = 10000\n",
    "for epcho in range(epcho):\n",
    "    run_loss = 0\n",
    "    for step, (x,y) in enumerate(train_loader):\n",
    "        net.train()\n",
    "        optimizer.zero_grad()\n",
    "        target = y.view(-1)\n",
    "        out = net(x)\n",
    "#         print(out)\n",
    "#         pred = torch.max(F.softmax(out), 1)[1]\n",
    "#         print(pred)\n",
    "#         print(target)\n",
    "        loss = loss_function(out,target)\n",
    "        run_loss += loss\n",
    "#         loss.register_hook(lambda g: print(g))\n",
    "        loss.backward()\n",
    "        optimizer.step()\n",
    "    if epcho % 5 == 0:\n",
    "        \n",
    "        print('epcho {} step {} loss {:.4f}'.format(epcho,step, run_loss/step))\n",
    "#         print()\n",
    "        net.eval()\n",
    "        validate_out = net(test_data)\n",
    "        pred = torch.max(F.softmax(validate_out), 1)[1]\n",
    "        correct = sum(pred.data.numpy() == test_target.data.numpy())\n",
    "        print('correct number : %s (%s)' % (correct, (correct / len(test_target.data.numpy()))))\n",
    "        _wts = copy.deepcopy(net.state_dict())  \n",
    "        torch.save(_wts,'net_model.pkl')       \n",
    "        logger.scalar_summary('loss', (run_loss/step), epcho)\n",
    "        logger.scalar_summary('correct', (correct / len(test_target.data.numpy())), epcho)\n",
    "        for name, param in net.named_parameters():\n",
    "            logger.histo_summary(name, param.clone().cpu().data.numpy(), epcho)\n",
    "            if param.grad is not None:\n",
    "                logger.histo_summary(name+'/grad', param.grad.clone().cpu().data.numpy(), epcho)\n",
    "        \n",
    "        \n",
    "        \n",
    "    "
   ]
  },
  {
   "cell_type": "code",
   "execution_count": 10,
   "metadata": {
    "hidden": true
   },
   "outputs": [
    {
     "ename": "AttributeError",
     "evalue": "'bool' object has no attribute 'data'",
     "output_type": "error",
     "traceback": [
      "\u001b[0;31m---------------------------------------------------------------------------\u001b[0m",
      "\u001b[0;31mAttributeError\u001b[0m                            Traceback (most recent call last)",
      "\u001b[0;32m<ipython-input-10-ab45068a19ed>\u001b[0m in \u001b[0;36m<module>\u001b[0;34m()\u001b[0m\n\u001b[0;32m----> 1\u001b[0;31m \u001b[0mprint\u001b[0m\u001b[0;34m(\u001b[0m\u001b[0mnet\u001b[0m\u001b[0;34m.\u001b[0m\u001b[0mlstm\u001b[0m\u001b[0;34m.\u001b[0m\u001b[0mbias\u001b[0m\u001b[0;34m.\u001b[0m\u001b[0mdata\u001b[0m\u001b[0;34m)\u001b[0m\u001b[0;34m\u001b[0m\u001b[0m\n\u001b[0m\u001b[1;32m      2\u001b[0m \u001b[0;34m\u001b[0m\u001b[0m\n",
      "\u001b[0;31mAttributeError\u001b[0m: 'bool' object has no attribute 'data'"
     ]
    }
   ],
   "source": [
    "print(net.lstm.bias.data)\n",
    "    "
   ]
  },
  {
   "cell_type": "code",
   "execution_count": 45,
   "metadata": {
    "hidden": true
   },
   "outputs": [],
   "source": [
    "writer.close()"
   ]
  },
  {
   "cell_type": "code",
   "execution_count": 10,
   "metadata": {
    "hidden": true
   },
   "outputs": [
    {
     "name": "stdout",
     "output_type": "stream",
     "text": [
      "torch.Size([2566, 5, 6])\n"
     ]
    }
   ],
   "source": [
    "# dd = iter(train_loader)\n",
    "# x, y = next(dd)\n",
    "# out = net(x)\n",
    "# print(out.size())\n",
    "\n",
    "print(train_data.size())\n"
   ]
  }
 ],
 "metadata": {
  "kernelspec": {
   "display_name": "Python 3",
   "language": "python",
   "name": "python3"
  },
  "language_info": {
   "codemirror_mode": {
    "name": "ipython",
    "version": 3
   },
   "file_extension": ".py",
   "mimetype": "text/x-python",
   "name": "python",
   "nbconvert_exporter": "python",
   "pygments_lexer": "ipython3",
   "version": "3.6.5"
  }
 },
 "nbformat": 4,
 "nbformat_minor": 2
}
