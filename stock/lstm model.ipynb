{
 "cells": [
  {
   "cell_type": "code",
   "execution_count": 1,
   "metadata": {},
   "outputs": [],
   "source": [
    "# Put these at the top of every notebook, to get automatic reloading and inline plotting\n",
    "%reload_ext autoreload\n",
    "%autoreload 2\n",
    "%matplotlib inline"
   ]
  },
  {
   "cell_type": "markdown",
   "metadata": {},
   "source": [
    "# LSTM 模型"
   ]
  },
  {
   "cell_type": "markdown",
   "metadata": {},
   "source": [
    "     数据结构说明：\n",
    "     \n",
    "     1、基本数据\n",
    "        1） \n",
    "        self: Open, Close, ..., Volume , INCOME, Flag   -> 为防止某些数据过大， 统一下做log，后面其它的数据统一采用该种方式。\n",
    "        lstm data : line 1: [[open,....],[open,...]] 连续N个数据，通过LSTM 连续观察特征值，再进行分类\n",
    "        \n",
    "     2、网结构：\n",
    "        \n",
    "        1）\n",
    "        Seq: \n",
    "            B, N , (O,H,L,..)  \n",
    "            lstm --> B, N , 256  -->  liner --> B, 128  --> B,  64 --> B, 3\n",
    "    "
   ]
  },
  {
   "cell_type": "markdown",
   "metadata": {},
   "source": [
    "# 准备数据"
   ]
  },
  {
   "cell_type": "code",
   "execution_count": 2,
   "metadata": {},
   "outputs": [],
   "source": [
    "from stock.common.sdata import StockData\n",
    "import numpy as np\n",
    "import torch\n",
    "from torch.utils.data import TensorDataset, DataLoader\n",
    "code = '600016'\n",
    "sd = StockData(code)\n",
    "data = sd.combine_income(ndays=5)\n",
    "data.loc[:,['Open','Close','High','Low','Volume','Amount']] =  \\\n",
    "    data.loc[:,['Open','Close','High','Low','Volume','Amount']].apply(lambda x: (x-np.mean(x))/np.std(x))\n",
    "\n",
    "data_in , target = sd.package_data(data=data)\n",
    "data_in = [x.values for x in data_in]\n",
    "# data_a.apply(lambda x: (x-np.min(x))/(np.max(x)-np.min(x)),axis=1)\n",
    "# for item in data_in:\n",
    "#     # 归一化处理 , 最大值与最小值非常容易受异常点影响，所以这种方法鲁棒性较差，只适合传统精确小数据场景。\n",
    "#     item['Volume'],item['Amount'] = np.log(item['Volume']),np.log(item['Amount'])\n",
    "#     item = item.apply(lambda x: (x-np.min(x))/(np.max(x)-np.min(x)),axis=0)   \n",
    "    # 标准化处理， 标准化在此应该更适合, 在已有样本足够多的情况下比较稳定，适合现代嘈杂大数据场景。\n",
    "                                                                       \n",
    "\n",
    "dlen = int(len(data_in) * 0.9)\n",
    "train_data, train_target = torch.from_numpy(np.array(data_in[0:dlen])).float(), torch.from_numpy(np.array(target[0:dlen])).long()\n",
    "test_data, test_target = torch.from_numpy(np.array(data_in[dlen:])).float(), torch.from_numpy(np.array(target[dlen:]).squeeze()).long()\n"
   ]
  },
  {
   "cell_type": "code",
   "execution_count": 28,
   "metadata": {},
   "outputs": [
    {
     "name": "stdout",
     "output_type": "stream",
     "text": [
      "tensor([[[-1.5702, -1.5721, -1.5901, -1.6016, -0.6972, -0.6994],\n",
      "         [-1.5780, -1.5683, -1.5784, -1.5855, -0.8220, -0.7494],\n",
      "         [-1.5741, -1.5454, -1.5901, -1.5855, -0.7177, -0.7062],\n",
      "         [-1.5898, -1.5950, -1.6253, -1.6217, -0.7760, -0.7317],\n",
      "         [-1.5819, -1.5873, -1.6018, -1.5975, -0.8134, -0.7464]],\n",
      "\n",
      "        [[-1.5780, -1.5683, -1.5784, -1.5855, -0.8220, -0.7494],\n",
      "         [-1.5741, -1.5454, -1.5901, -1.5855, -0.7177, -0.7062],\n",
      "         [-1.5898, -1.5950, -1.6253, -1.6217, -0.7760, -0.7317],\n",
      "         [-1.5819, -1.5873, -1.6018, -1.5975, -0.8134, -0.7464],\n",
      "         [-1.5976, -1.5835, -1.5823, -1.5975, -0.8340, -0.7544]],\n",
      "\n",
      "        [[-1.5741, -1.5454, -1.5901, -1.5855, -0.7177, -0.7062],\n",
      "         [-1.5898, -1.5950, -1.6253, -1.6217, -0.7760, -0.7317],\n",
      "         [-1.5819, -1.5873, -1.6018, -1.5975, -0.8134, -0.7464],\n",
      "         [-1.5976, -1.5835, -1.5823, -1.5975, -0.8340, -0.7544],\n",
      "         [-1.5741, -1.5492, -1.5588, -1.5734, -0.7112, -0.7036]],\n",
      "\n",
      "        ...,\n",
      "\n",
      "        [[ 0.2181,  0.1620,  0.1798,  0.2194, -0.2007, -0.1691],\n",
      "         [ 0.1829,  0.1467,  0.1955,  0.2315, -0.3383, -0.2864],\n",
      "         [ 0.1986,  0.1544,  0.1994,  0.2395, -0.5479, -0.4662],\n",
      "         [ 0.2025,  0.1658,  0.2033,  0.2516, -0.4866, -0.4121],\n",
      "         [ 0.2103,  0.1544,  0.1798,  0.2275, -0.5898, -0.5026]],\n",
      "\n",
      "        [[ 0.1829,  0.1467,  0.1955,  0.2315, -0.3383, -0.2864],\n",
      "         [ 0.1986,  0.1544,  0.1994,  0.2395, -0.5479, -0.4662],\n",
      "         [ 0.2025,  0.1658,  0.2033,  0.2516, -0.4866, -0.4121],\n",
      "         [ 0.2103,  0.1544,  0.1798,  0.2275, -0.5898, -0.5026],\n",
      "         [ 0.1868,  0.1429,  0.1681,  0.2154, -0.5209, -0.4456]],\n",
      "\n",
      "        [[ 0.1986,  0.1544,  0.1994,  0.2395, -0.5479, -0.4662],\n",
      "         [ 0.2025,  0.1658,  0.2033,  0.2516, -0.4866, -0.4121],\n",
      "         [ 0.2103,  0.1544,  0.1798,  0.2275, -0.5898, -0.5026],\n",
      "         [ 0.1868,  0.1429,  0.1681,  0.2154, -0.5209, -0.4456],\n",
      "         [ 0.1634,  0.1163,  0.1446,  0.1752, -0.4326, -0.3737]]])\n"
     ]
    }
   ],
   "source": [
    "print(train_data)"
   ]
  },
  {
   "cell_type": "markdown",
   "metadata": {},
   "source": [
    "# 网络模型 一"
   ]
  },
  {
   "cell_type": "code",
   "execution_count": 3,
   "metadata": {},
   "outputs": [],
   "source": [
    "# 模型\n",
    "import torch.nn  as nn\n",
    "class Net(nn.Module):\n",
    "    def __init__(self, n_feature, n_hidden=256, n_target=3):\n",
    "        super(Net,self).__init__()\n",
    "        self.lstm = nn.LSTM(input_size=n_feature,hidden_size=n_hidden,batch_first=True)\n",
    "        self.layer = nn.Sequential(\n",
    "            nn.Linear(256, 512),\n",
    "            nn.ReLU(),\n",
    "            nn.Linear(512, 256),\n",
    "            nn.ReLU(),\n",
    "            nn.Linear(256, 64),\n",
    "            nn.ReLU(),\n",
    "            nn.Linear(64, n_target),\n",
    "            nn.ReLU()\n",
    "        )\n",
    "    \n",
    "    def forward(self, data):\n",
    "        x, _ = self.lstm(data)\n",
    "        x = self.layer(x)\n",
    "        x = x[:,-1,:]\n",
    "        return x"
   ]
  },
  {
   "cell_type": "code",
   "execution_count": 19,
   "metadata": {},
   "outputs": [
    {
     "name": "stdout",
     "output_type": "stream",
     "text": [
      "torch.Size([286, 5, 6])\n",
      "tensor([2, 2, 2, 2, 2, 2, 2, 2, 2, 2, 2, 2, 2, 2, 2, 2, 2, 2, 2, 2, 2, 2, 2, 2,\n",
      "        2, 2, 2, 2, 2, 2, 2, 2, 2, 2, 2, 2, 2, 2, 2, 2, 2, 2, 2, 2, 2, 2, 2, 2,\n",
      "        2, 2, 2, 2, 2, 2, 2, 2, 2, 2, 2, 2, 2, 2, 2, 2, 2, 2, 2, 2, 2, 2, 2, 2,\n",
      "        2, 2, 2, 2, 2, 2, 2, 2, 2, 2, 2, 2, 2, 2, 2, 2, 2, 2, 2, 2, 2, 2, 2, 2,\n",
      "        2, 2, 2, 2, 2, 2, 2, 2, 2, 2, 2, 2, 2, 2, 2, 2, 2, 2, 2, 2, 2, 2, 2, 2,\n",
      "        2, 2, 2, 2, 2, 2, 2, 2, 2, 2, 2, 2, 2, 2, 2, 2, 2, 2, 2, 2, 2, 2, 2, 2,\n",
      "        2, 2, 2, 2, 2, 2, 2, 2, 2, 2, 2, 2, 2, 2, 2, 2, 2, 2, 2, 2, 2, 2, 2, 2,\n",
      "        2, 2, 2, 2, 2, 2, 2, 2, 2, 2, 2, 2, 2, 2, 2, 2, 2, 2, 2, 2, 2, 2, 2, 2,\n",
      "        2, 2, 2, 2, 2, 2, 2, 2, 2, 2, 2, 2, 2, 2, 2, 2, 2, 2, 2, 2, 2, 2, 2, 2,\n",
      "        2, 2, 2, 2, 2, 2, 2, 2, 2, 2, 2, 2, 2, 2, 2, 2, 2, 2, 2, 2, 2, 2, 2, 2,\n",
      "        2, 2, 2, 2, 2, 2, 2, 2, 2, 2, 2, 2, 2, 2, 2, 2, 2, 2, 2, 2, 2, 2, 2, 2,\n",
      "        2, 2, 2, 2, 2, 2, 2, 2, 2, 2, 2, 2, 2, 2, 2, 2, 2, 2, 2, 2, 2, 2])\n"
     ]
    },
    {
     "name": "stderr",
     "output_type": "stream",
     "text": [
      "/home/hecong/venv/lib/python3.6/site-packages/ipykernel_launcher.py:3: UserWarning: Implicit dimension choice for softmax has been deprecated. Change the call to include dim=X as an argument.\n",
      "  This is separate from the ipykernel package so we can avoid doing imports until\n"
     ]
    }
   ],
   "source": [
    "print(test_data.size())\n",
    "out = net(test_data)\n",
    "pred = torch.max(F.softmax(out), 1)[1]\n",
    "print(pred)"
   ]
  },
  {
   "cell_type": "code",
   "execution_count": null,
   "metadata": {
    "scrolled": true
   },
   "outputs": [
    {
     "name": "stdout",
     "output_type": "stream",
     "text": [
      "epcho 0 step 40 loss 0.9936\n"
     ]
    },
    {
     "name": "stderr",
     "output_type": "stream",
     "text": [
      "/home/hecong/venv/lib/python3.6/site-packages/ipykernel_launcher.py:50: UserWarning: Implicit dimension choice for softmax has been deprecated. Change the call to include dim=X as an argument.\n"
     ]
    },
    {
     "name": "stdout",
     "output_type": "stream",
     "text": [
      "correct number : 116 (0.40559440559440557)\n",
      "epcho 5 step 40 loss 0.9750\n",
      "correct number : 116 (0.40559440559440557)\n",
      "epcho 10 step 40 loss 0.9642\n",
      "correct number : 116 (0.40559440559440557)\n",
      "epcho 15 step 40 loss 0.9470\n",
      "correct number : 150 (0.5244755244755245)\n",
      "epcho 20 step 40 loss 0.9379\n",
      "correct number : 115 (0.4020979020979021)\n",
      "epcho 25 step 40 loss 0.9385\n",
      "correct number : 116 (0.40559440559440557)\n",
      "epcho 30 step 40 loss 0.9399\n",
      "correct number : 108 (0.3776223776223776)\n",
      "epcho 35 step 40 loss 0.9424\n",
      "correct number : 109 (0.3811188811188811)\n",
      "epcho 40 step 40 loss 0.9376\n",
      "correct number : 108 (0.3776223776223776)\n",
      "epcho 45 step 40 loss 0.9518\n",
      "correct number : 112 (0.3916083916083916)\n",
      "epcho 50 step 40 loss 0.9326\n",
      "correct number : 116 (0.40559440559440557)\n",
      "epcho 55 step 40 loss 0.9286\n",
      "correct number : 109 (0.3811188811188811)\n",
      "epcho 60 step 40 loss 0.9250\n",
      "correct number : 111 (0.3881118881118881)\n",
      "epcho 65 step 40 loss 0.9306\n",
      "correct number : 112 (0.3916083916083916)\n",
      "epcho 70 step 40 loss 0.9318\n",
      "correct number : 107 (0.3741258741258741)\n",
      "epcho 75 step 40 loss 0.9264\n",
      "correct number : 110 (0.38461538461538464)\n",
      "epcho 80 step 40 loss 0.9303\n",
      "correct number : 111 (0.3881118881118881)\n",
      "epcho 85 step 40 loss 0.9946\n",
      "correct number : 113 (0.3951048951048951)\n",
      "epcho 90 step 40 loss 0.9430\n",
      "correct number : 110 (0.38461538461538464)\n"
     ]
    }
   ],
   "source": [
    "# 训练网络\n",
    "import torch.optim as optim\n",
    "import torch.nn.functional as F\n",
    "import os\n",
    "import copy\n",
    "# from tensorboardX import SummaryWriter\n",
    "from stock.common.log import Logger\n",
    "\n",
    "#   tensorboard --logdir /home/hecong/dplearn/base/log\n",
    "\n",
    "# writer = SummaryWriter(\"/home/hecong/dplearn/base/log\")\n",
    "logger = Logger('/home/hecong/dplearn/base/log')\n",
    "\n",
    "feature = train_data.shape[2]\n",
    "dataset = TensorDataset(train_data, train_target)\n",
    "train_loader = DataLoader(dataset=dataset, batch_size=64, shuffle=True)\n",
    "net = Net(n_feature=feature)\n",
    "if os.path.exists('net_model.pkl'):\n",
    "    print('加载上次训练模型...')\n",
    "    net.load_state_dict(torch.load('net_model.pkl'))\n",
    "    \n",
    "\n",
    "loss_function = nn.CrossEntropyLoss()\n",
    "optimizer = optim.Adam(net.parameters(), lr=0.01, weight_decay=1e-3)\n",
    "\n",
    "\n",
    "epcho = 10000\n",
    "for epcho in range(epcho):\n",
    "    run_loss = 0\n",
    "    for step, (x,y) in enumerate(train_loader):\n",
    "        net.train()\n",
    "        optimizer.zero_grad()\n",
    "        target = y.view(-1)\n",
    "        out = net(x)\n",
    "#         print(out)\n",
    "#         pred = torch.max(F.softmax(out), 1)[1]\n",
    "#         print(pred)\n",
    "#         print(target)\n",
    "        loss = loss_function(out,target)\n",
    "        run_loss += loss\n",
    "#         loss.register_hook(lambda g: print(g))\n",
    "        loss.backward()\n",
    "        optimizer.step()\n",
    "    if epcho % 5 == 0:\n",
    "        \n",
    "        print('epcho {} step {} loss {:.4f}'.format(epcho,step, run_loss/step))\n",
    "#         print()\n",
    "        net.eval()\n",
    "        validate_out = net(test_data)\n",
    "        pred = torch.max(F.softmax(validate_out), 1)[1]\n",
    "        correct = sum(pred.data.numpy() == test_target.data.numpy())\n",
    "        print('correct number : %s (%s)' % (correct, (correct / len(test_target.data.numpy()))))\n",
    "        _wts = copy.deepcopy(net.state_dict())  \n",
    "        torch.save(_wts,'net_model.pkl')       \n",
    "        logger.scalar_summary('loss', (run_loss/step), epcho)\n",
    "        logger.scalar_summary('correct', (correct / len(test_target.data.numpy())), epcho)\n",
    "        for name, param in net.named_parameters():\n",
    "            logger.histo_summary(name, param.clone().cpu().data.numpy(), epcho)\n",
    "            if param.grad is not None:\n",
    "                logger.histo_summary(name+'/grad', param.grad.clone().cpu().data.numpy(), epcho)\n",
    "        \n",
    "        \n",
    "        \n",
    "    "
   ]
  },
  {
   "cell_type": "code",
   "execution_count": 46,
   "metadata": {},
   "outputs": [
    {
     "name": "stdout",
     "output_type": "stream",
     "text": [
      "lstm.weight_ih_l0\n",
      "torch.Size([1024, 6])\n",
      "lstm.weight_hh_l0\n",
      "torch.Size([1024, 256])\n",
      "lstm.bias_ih_l0\n",
      "torch.Size([1024])\n",
      "lstm.bias_hh_l0\n",
      "torch.Size([1024])\n",
      "layer.0.weight\n",
      "torch.Size([512, 256])\n",
      "layer.0.bias\n",
      "torch.Size([512])\n",
      "layer.2.weight\n",
      "torch.Size([256, 512])\n",
      "layer.2.bias\n",
      "torch.Size([256])\n",
      "layer.4.weight\n",
      "torch.Size([64, 256])\n",
      "layer.4.bias\n",
      "torch.Size([64])\n",
      "layer.6.weight\n",
      "torch.Size([3, 64])\n",
      "layer.6.bias\n",
      "torch.Size([3])\n"
     ]
    }
   ],
   "source": [
    "for name, param in net.named_parameters():\n",
    "    if param.grad is not None:\n",
    "        print(name)\n",
    "        print(param.grad.size())\n",
    "    "
   ]
  },
  {
   "cell_type": "code",
   "execution_count": 45,
   "metadata": {},
   "outputs": [],
   "source": [
    "writer.close()"
   ]
  },
  {
   "cell_type": "code",
   "execution_count": 10,
   "metadata": {},
   "outputs": [
    {
     "name": "stdout",
     "output_type": "stream",
     "text": [
      "torch.Size([2566, 5, 6])\n"
     ]
    }
   ],
   "source": [
    "# dd = iter(train_loader)\n",
    "# x, y = next(dd)\n",
    "# out = net(x)\n",
    "# print(out.size())\n",
    "\n",
    "print(train_data.size())\n"
   ]
  }
 ],
 "metadata": {
  "kernelspec": {
   "display_name": "Python 3",
   "language": "python",
   "name": "python3"
  },
  "language_info": {
   "codemirror_mode": {
    "name": "ipython",
    "version": 3
   },
   "file_extension": ".py",
   "mimetype": "text/x-python",
   "name": "python",
   "nbconvert_exporter": "python",
   "pygments_lexer": "ipython3",
   "version": "3.6.5"
  }
 },
 "nbformat": 4,
 "nbformat_minor": 2
}
