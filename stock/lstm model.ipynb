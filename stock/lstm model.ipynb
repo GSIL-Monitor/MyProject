{
 "cells": [
  {
   "cell_type": "markdown",
   "metadata": {
    "heading_collapsed": true
   },
   "source": [
    "# LSTM 模型"
   ]
  },
  {
   "cell_type": "markdown",
   "metadata": {
    "hidden": true
   },
   "source": [
    "     数据结构说明：\n",
    "     \n",
    "     1、基本数据\n",
    "        1） \n",
    "        self: Open, Close, ..., Volume , INCOME, Flag   -> 为防止某些数据过大， 统一下做log，后面其它的数据统一采用该种方式。\n",
    "        lstm data : line 1: [[open,....],[open,...]] 连续N个数据，通过LSTM 连续观察特征值，再进行分类\n",
    "        \n",
    "     2、网结构：\n",
    "        \n",
    "        1）\n",
    "        Seq: \n",
    "            B, N , (O,H,L,..)  \n",
    "            lstm --> B, N , 256  -->  liner --> B, 128  --> B,  64 --> B, 3\n",
    "    "
   ]
  },
  {
   "cell_type": "markdown",
   "metadata": {},
   "source": [
    "# 准备数据"
   ]
  },
  {
   "cell_type": "code",
   "execution_count": 1,
   "metadata": {},
   "outputs": [],
   "source": [
    "from stock.common.sdata import StockData\n",
    "import numpy as np\n",
    "import torch\n",
    "from torch.utils.data import TensorDataset, DataLoader\n",
    "code = '600016'\n",
    "sd = StockData(code)\n",
    "data = sd.combine_income(ndays=5)\n",
    "data_in , target = sd.package_data(data=data)\n",
    "data_in = [np.log(x.values) for x in data_in]\n",
    "\n",
    "dlen = int(len(data_in) * 0.9)\n",
    "train_data, train_target = torch.from_numpy(np.array(data_in[0:dlen])).float(), torch.from_numpy(np.array(target[0:dlen])).long()\n",
    "test_data, test_target = torch.from_numpy(np.array(data_in[dlen:])).float(), torch.from_numpy(np.array(target[dlen:]).squeeze()).long()\n"
   ]
  },
  {
   "cell_type": "code",
   "execution_count": 3,
   "metadata": {},
   "outputs": [
    {
     "name": "stdout",
     "output_type": "stream",
     "text": [
      "tensor([1, 1, 1, 1, 1, 1, 1, 0, 1, 0, 0, 1, 1, 1, 1, 1, 2, 1, 1, 1, 1, 1, 2, 2,\n",
      "        2, 2, 2, 1, 1, 1, 1, 2, 2, 2, 2, 2, 1, 1, 1, 1, 2, 2, 2, 2, 1, 1, 1, 1,\n",
      "        1, 2, 2, 1, 1, 2, 2, 2, 2, 2, 1, 1, 1, 1, 1, 1, 2, 2, 2, 2, 2, 2, 1, 1,\n",
      "        2, 1, 1, 2, 1, 1, 2, 2, 2, 2, 1, 1, 1, 1, 1, 0, 1, 0, 1, 1, 1, 1, 1, 2,\n",
      "        2, 2, 2, 2, 1, 1, 1, 1, 1, 1, 1, 1, 1, 1, 1, 1, 1, 1, 1, 1, 1, 1, 1, 1,\n",
      "        1, 1, 2, 2, 2, 2, 1, 1, 1, 1, 1, 1, 1, 1, 1, 2, 2, 2, 2, 2, 2, 2, 1, 2,\n",
      "        2, 2, 2, 2, 1, 2, 1, 2, 2, 2, 2, 2, 2, 2, 2, 1, 1, 0, 2, 2, 2, 2, 2, 0,\n",
      "        1, 1, 1, 0, 1, 1, 1, 2, 2, 1, 1, 1, 1, 1, 1, 2, 2, 2, 2, 2, 2, 2, 2, 2,\n",
      "        2, 2, 2, 2, 2, 2, 2, 2, 2, 1, 1, 1, 1, 2, 2, 2, 2, 2, 0, 1, 0, 0, 2, 2,\n",
      "        2, 2, 2, 1, 0, 1, 1, 1, 2, 2, 1, 1, 1, 1, 1, 1, 1, 1, 1, 1, 1, 1, 0, 1,\n",
      "        1, 1, 1, 1, 1, 2, 2, 2, 2, 1, 1, 1, 1, 2, 2, 1, 0, 1, 1, 0, 1, 2, 2, 2,\n",
      "        2, 2, 2, 1, 1, 1, 1, 1, 1, 2, 2, 1, 1, 1, 1, 1, 1, 1, 1, 2, 1, 1])\n"
     ]
    }
   ],
   "source": [
    "print(test_target)"
   ]
  },
  {
   "cell_type": "markdown",
   "metadata": {},
   "source": [
    "# 网络模型 一"
   ]
  },
  {
   "cell_type": "code",
   "execution_count": 9,
   "metadata": {},
   "outputs": [],
   "source": [
    "# 模型\n",
    "import torch.nn  as nn\n",
    "class Net(nn.Module):\n",
    "    def __init__(self, n_feature, n_hidden=256, n_target=3):\n",
    "        super(Net,self).__init__()\n",
    "        self.lstm = nn.LSTM(input_size=n_feature,hidden_size=n_hidden,batch_first=True)\n",
    "        self.layer = nn.Sequential(\n",
    "            nn.Linear(256, 512),\n",
    "            nn.ReLU(),\n",
    "            nn.Linear(512, 256),\n",
    "            nn.ReLU(),\n",
    "            nn.Linear(256, 64),\n",
    "            nn.ReLU(),\n",
    "            nn.Linear(64, n_target),\n",
    "            nn.ReLU()\n",
    "        )\n",
    "    \n",
    "    def forward(self, data):\n",
    "        x, _ = self.lstm(data)\n",
    "        x = self.layer(x)\n",
    "        x = x[:,-1,:]\n",
    "        return x"
   ]
  },
  {
   "cell_type": "code",
   "execution_count": 19,
   "metadata": {},
   "outputs": [
    {
     "name": "stdout",
     "output_type": "stream",
     "text": [
      "torch.Size([286, 5, 6])\n",
      "tensor([2, 2, 2, 2, 2, 2, 2, 2, 2, 2, 2, 2, 2, 2, 2, 2, 2, 2, 2, 2, 2, 2, 2, 2,\n",
      "        2, 2, 2, 2, 2, 2, 2, 2, 2, 2, 2, 2, 2, 2, 2, 2, 2, 2, 2, 2, 2, 2, 2, 2,\n",
      "        2, 2, 2, 2, 2, 2, 2, 2, 2, 2, 2, 2, 2, 2, 2, 2, 2, 2, 2, 2, 2, 2, 2, 2,\n",
      "        2, 2, 2, 2, 2, 2, 2, 2, 2, 2, 2, 2, 2, 2, 2, 2, 2, 2, 2, 2, 2, 2, 2, 2,\n",
      "        2, 2, 2, 2, 2, 2, 2, 2, 2, 2, 2, 2, 2, 2, 2, 2, 2, 2, 2, 2, 2, 2, 2, 2,\n",
      "        2, 2, 2, 2, 2, 2, 2, 2, 2, 2, 2, 2, 2, 2, 2, 2, 2, 2, 2, 2, 2, 2, 2, 2,\n",
      "        2, 2, 2, 2, 2, 2, 2, 2, 2, 2, 2, 2, 2, 2, 2, 2, 2, 2, 2, 2, 2, 2, 2, 2,\n",
      "        2, 2, 2, 2, 2, 2, 2, 2, 2, 2, 2, 2, 2, 2, 2, 2, 2, 2, 2, 2, 2, 2, 2, 2,\n",
      "        2, 2, 2, 2, 2, 2, 2, 2, 2, 2, 2, 2, 2, 2, 2, 2, 2, 2, 2, 2, 2, 2, 2, 2,\n",
      "        2, 2, 2, 2, 2, 2, 2, 2, 2, 2, 2, 2, 2, 2, 2, 2, 2, 2, 2, 2, 2, 2, 2, 2,\n",
      "        2, 2, 2, 2, 2, 2, 2, 2, 2, 2, 2, 2, 2, 2, 2, 2, 2, 2, 2, 2, 2, 2, 2, 2,\n",
      "        2, 2, 2, 2, 2, 2, 2, 2, 2, 2, 2, 2, 2, 2, 2, 2, 2, 2, 2, 2, 2, 2])\n"
     ]
    },
    {
     "name": "stderr",
     "output_type": "stream",
     "text": [
      "/home/hecong/venv/lib/python3.6/site-packages/ipykernel_launcher.py:3: UserWarning: Implicit dimension choice for softmax has been deprecated. Change the call to include dim=X as an argument.\n",
      "  This is separate from the ipykernel package so we can avoid doing imports until\n"
     ]
    }
   ],
   "source": [
    "print(test_data.size())\n",
    "out = net(test_data)\n",
    "pred = torch.max(F.softmax(out), 1)[1]\n",
    "print(pred)"
   ]
  },
  {
   "cell_type": "code",
   "execution_count": null,
   "metadata": {},
   "outputs": [
    {
     "name": "stdout",
     "output_type": "stream",
     "text": [
      "epcho 0 step 40 loss 1.0037\n",
      "correct number : 116 (0.40559440559440557)\n"
     ]
    },
    {
     "name": "stderr",
     "output_type": "stream",
     "text": [
      "/home/hecong/venv/lib/python3.6/site-packages/ipykernel_launcher.py:45: UserWarning: Implicit dimension choice for softmax has been deprecated. Change the call to include dim=X as an argument.\n"
     ]
    },
    {
     "name": "stdout",
     "output_type": "stream",
     "text": [
      "epcho 5 step 40 loss 0.9713\n",
      "correct number : 116 (0.40559440559440557)\n",
      "epcho 10 step 40 loss 0.9768\n",
      "correct number : 116 (0.40559440559440557)\n",
      "epcho 15 step 40 loss 0.9673\n",
      "correct number : 116 (0.40559440559440557)\n",
      "epcho 20 step 40 loss 0.9707\n",
      "correct number : 116 (0.40559440559440557)\n",
      "epcho 25 step 40 loss 0.9660\n",
      "correct number : 116 (0.40559440559440557)\n",
      "epcho 30 step 40 loss 0.9913\n",
      "correct number : 116 (0.40559440559440557)\n",
      "epcho 35 step 40 loss 0.9782\n",
      "correct number : 116 (0.40559440559440557)\n",
      "epcho 40 step 40 loss 0.9643\n",
      "correct number : 116 (0.40559440559440557)\n",
      "epcho 45 step 40 loss 0.9642\n",
      "correct number : 116 (0.40559440559440557)\n",
      "epcho 50 step 40 loss 0.9643\n",
      "correct number : 116 (0.40559440559440557)\n",
      "epcho 55 step 40 loss 0.9724\n",
      "correct number : 116 (0.40559440559440557)\n",
      "epcho 60 step 40 loss 0.9784\n",
      "correct number : 116 (0.40559440559440557)\n",
      "epcho 65 step 40 loss 0.9659\n",
      "correct number : 116 (0.40559440559440557)\n",
      "epcho 70 step 40 loss 0.9634\n",
      "correct number : 116 (0.40559440559440557)\n",
      "epcho 75 step 40 loss 0.9767\n",
      "correct number : 116 (0.40559440559440557)\n",
      "epcho 80 step 40 loss 0.9628\n",
      "correct number : 116 (0.40559440559440557)\n",
      "epcho 85 step 40 loss 0.9786\n",
      "correct number : 116 (0.40559440559440557)\n",
      "epcho 90 step 40 loss 0.9789\n",
      "correct number : 116 (0.40559440559440557)\n",
      "epcho 95 step 40 loss 0.9701\n",
      "correct number : 116 (0.40559440559440557)\n",
      "epcho 100 step 40 loss 0.9640\n",
      "correct number : 116 (0.40559440559440557)\n",
      "epcho 105 step 40 loss 0.9753\n",
      "correct number : 116 (0.40559440559440557)\n",
      "epcho 110 step 40 loss 0.9706\n",
      "correct number : 116 (0.40559440559440557)\n",
      "epcho 115 step 40 loss 0.9713\n",
      "correct number : 116 (0.40559440559440557)\n",
      "epcho 120 step 40 loss 0.9703\n",
      "correct number : 116 (0.40559440559440557)\n",
      "epcho 125 step 40 loss 0.9665\n",
      "correct number : 116 (0.40559440559440557)\n",
      "epcho 130 step 40 loss 0.9675\n",
      "correct number : 116 (0.40559440559440557)\n",
      "epcho 135 step 40 loss 0.9654\n",
      "correct number : 116 (0.40559440559440557)\n",
      "epcho 140 step 40 loss 0.9702\n",
      "correct number : 116 (0.40559440559440557)\n",
      "epcho 145 step 40 loss 0.9742\n",
      "correct number : 116 (0.40559440559440557)\n",
      "epcho 150 step 40 loss 0.9698\n",
      "correct number : 116 (0.40559440559440557)\n",
      "epcho 155 step 40 loss 0.9678\n",
      "correct number : 116 (0.40559440559440557)\n",
      "epcho 160 step 40 loss 0.9768\n",
      "correct number : 116 (0.40559440559440557)\n",
      "epcho 165 step 40 loss 0.9768\n",
      "correct number : 116 (0.40559440559440557)\n",
      "epcho 170 step 40 loss 0.9800\n",
      "correct number : 116 (0.40559440559440557)\n",
      "epcho 175 step 40 loss 0.9709\n",
      "correct number : 116 (0.40559440559440557)\n",
      "epcho 180 step 40 loss 0.9756\n",
      "correct number : 116 (0.40559440559440557)\n",
      "epcho 185 step 40 loss 0.9720\n",
      "correct number : 116 (0.40559440559440557)\n",
      "epcho 190 step 40 loss 0.9681\n",
      "correct number : 116 (0.40559440559440557)\n",
      "epcho 195 step 40 loss 0.9655\n",
      "correct number : 116 (0.40559440559440557)\n",
      "epcho 200 step 40 loss 0.9657\n",
      "correct number : 116 (0.40559440559440557)\n",
      "epcho 205 step 40 loss 0.9761\n",
      "correct number : 116 (0.40559440559440557)\n",
      "epcho 210 step 40 loss 0.9661\n",
      "correct number : 116 (0.40559440559440557)\n",
      "epcho 215 step 40 loss 0.9669\n",
      "correct number : 116 (0.40559440559440557)\n",
      "epcho 220 step 40 loss 0.9691\n",
      "correct number : 116 (0.40559440559440557)\n"
     ]
    }
   ],
   "source": [
    "# 训练网络\n",
    "import torch.optim as optim\n",
    "import torch.nn.functional as F\n",
    "import os\n",
    "import copy\n",
    "from tensorboardX import SummaryWriter\n",
    "\n",
    "#   tensorboard --logdir /home/hecong/dplearn/base/log\n",
    "\n",
    "writer = SummaryWriter(\"/home/hecong/dplearn/base/log\")\n",
    "feature = train_data.shape[2]\n",
    "dataset = TensorDataset(train_data, train_target)\n",
    "train_loader = DataLoader(dataset=dataset, batch_size=64, shuffle=True)\n",
    "net = Net(n_feature=feature)\n",
    "if os.path.exists('net_model.pkl'):\n",
    "    print('加载上次训练模型...')\n",
    "    net.load_state_dict(torch.load('net_model.pkl'))\n",
    "    \n",
    "\n",
    "loss_function = nn.CrossEntropyLoss()\n",
    "optimizer = optim.Adam(net.parameters(), lr=0.01, weight_decay=1e-3)\n",
    "\n",
    "\n",
    "epcho = 10000\n",
    "for epcho in range(epcho):\n",
    "    run_loss = 0\n",
    "    for step, (x,y) in enumerate(train_loader):\n",
    "        net.train()\n",
    "        optimizer.zero_grad()\n",
    "        target = y.view(-1)\n",
    "        out = net(x)\n",
    "#         print(out)\n",
    "#         pred = torch.max(F.softmax(out), 1)[1]\n",
    "#         print(pred)\n",
    "#         print(target)\n",
    "        loss = loss_function(out,target)\n",
    "        run_loss += loss\n",
    "        loss.backward()\n",
    "        optimizer.step()\n",
    "    if epcho % 5 == 0:\n",
    "        \n",
    "        print('epcho {} step {} loss {:.4f}'.format(epcho,step, run_loss/step))\n",
    "        net.eval()\n",
    "        validate_out = net(test_data)\n",
    "        pred = torch.max(F.softmax(validate_out), 1)[1]\n",
    "        correct = sum(pred.data.numpy() == test_target.data.numpy())\n",
    "        print('correct number : %s (%s)' % (correct, (correct / len(test_target.data.numpy()))))\n",
    "        _wts = copy.deepcopy(net.state_dict())  \n",
    "        torch.save(_wts,'net_model.pkl')       \n",
    "        \n",
    "        for name, param in net.named_parameters():\n",
    "            writer.add_histogram(name, param.clone().cpu().data.numpy(), epcho)        \n",
    "        \n",
    "        \n",
    "        \n",
    "    "
   ]
  },
  {
   "cell_type": "code",
   "execution_count": 12,
   "metadata": {},
   "outputs": [],
   "source": [
    "writer.close()"
   ]
  },
  {
   "cell_type": "code",
   "execution_count": 10,
   "metadata": {},
   "outputs": [
    {
     "name": "stdout",
     "output_type": "stream",
     "text": [
      "torch.Size([2566, 5, 6])\n"
     ]
    }
   ],
   "source": [
    "# dd = iter(train_loader)\n",
    "# x, y = next(dd)\n",
    "# out = net(x)\n",
    "# print(out.size())\n",
    "\n",
    "print(train_data.size())\n"
   ]
  }
 ],
 "metadata": {
  "kernelspec": {
   "display_name": "Python 3",
   "language": "python",
   "name": "python3"
  },
  "language_info": {
   "codemirror_mode": {
    "name": "ipython",
    "version": 3
   },
   "file_extension": ".py",
   "mimetype": "text/x-python",
   "name": "python",
   "nbconvert_exporter": "python",
   "pygments_lexer": "ipython3",
   "version": "3.6.5"
  }
 },
 "nbformat": 4,
 "nbformat_minor": 2
}
