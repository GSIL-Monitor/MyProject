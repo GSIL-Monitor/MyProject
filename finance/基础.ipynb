{
 "cells": [
  {
   "cell_type": "markdown",
   "metadata": {},
   "source": [
    "  # 相关性"
   ]
  },
  {
   "cell_type": "markdown",
   "metadata": {},
   "source": [
    "     变量相关性, 随机变量X、Y的协方差可以衡量二者之间的关系，描述的是两随机变量与各自期望之偏差的共同变动状况。"
   ]
  },
  {
   "cell_type": "code",
   "execution_count": 13,
   "metadata": {
    "code_folding": []
   },
   "outputs": [
    {
     "name": "stdout",
     "output_type": "stream",
     "text": [
      "0.6281204246278768\n"
     ]
    }
   ],
   "source": [
    "# 变量相关性 \n",
    "import common.sdata as sdata\n",
    "import importlib\n",
    "importlib.reload(sdata)\n",
    "MSYH = sdata.StockData('600016').combine_income(ndays=5)\n",
    "GSYH = sdata.StockData('601398').combine_income(ndays=5)\n",
    "MSYH_RET = MSYH.INCOME\n",
    "GSYH_RET = GSYH.INCOME\n",
    "print(MSYH_RET.corr(GSYH_RET))\n",
    "\n",
    "\n",
    "# 收益率置信区间  P213"
   ]
  },
  {
   "cell_type": "code",
   "execution_count": 11,
   "metadata": {},
   "outputs": [
    {
     "name": "stdout",
     "output_type": "stream",
     "text": [
      "Date\n",
      "2006-08-02    0.992556\n",
      "2006-08-03    1.067323\n",
      "2006-08-04    1.819686\n",
      "2006-08-07    4.399323\n",
      "2006-08-09    4.916667\n",
      "Name: INCOME, dtype: float64\n"
     ]
    }
   ],
   "source": [
    "print(MSYH_RET.head(5))\n",
    "??MSYH_RET.corr\n"
   ]
  }
 ],
 "metadata": {
  "kernelspec": {
   "display_name": "Python 3",
   "language": "python",
   "name": "python3"
  },
  "language_info": {
   "codemirror_mode": {
    "name": "ipython",
    "version": 3
   },
   "file_extension": ".py",
   "mimetype": "text/x-python",
   "name": "python",
   "nbconvert_exporter": "python",
   "pygments_lexer": "ipython3",
   "version": "3.6.3"
  }
 },
 "nbformat": 4,
 "nbformat_minor": 2
}
