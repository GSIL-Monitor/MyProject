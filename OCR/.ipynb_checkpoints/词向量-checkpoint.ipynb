{
 "cells": [
  {
   "cell_type": "code",
   "execution_count": 1,
   "metadata": {},
   "outputs": [],
   "source": [
    "# Put these at the top of every notebook, to get automatic reloading and inline plotting\n",
    "%reload_ext autoreload\n",
    "%autoreload 2\n",
    "%matplotlib inline"
   ]
  },
  {
   "cell_type": "code",
   "execution_count": 23,
   "metadata": {
    "code_folding": []
   },
   "outputs": [],
   "source": [
    "# https://www.cnblogs.com/pinard/p/7278324.html\n",
    "from gensim.models import word2vec\n",
    "# -*- coding: utf-8 -*-\n",
    "\n",
    "import jieba\n",
    "import jieba.analyse\n",
    "\n",
    "jieba.suggest_freq('沙瑞金', True)\n",
    "jieba.suggest_freq('田国富', True)\n",
    "jieba.suggest_freq('高育良', True)\n",
    "jieba.suggest_freq('侯亮平', True)\n",
    "jieba.suggest_freq('钟小艾', True)\n",
    "jieba.suggest_freq('陈岩石', True)\n",
    "jieba.suggest_freq('欧阳菁', True)\n",
    "jieba.suggest_freq('易学习', True)\n",
    "jieba.suggest_freq('王大路', True)\n",
    "jieba.suggest_freq('蔡成功', True)\n",
    "jieba.suggest_freq('孙连城', True)\n",
    "jieba.suggest_freq('季昌明', True)\n",
    "jieba.suggest_freq('丁义珍', True)\n",
    "jieba.suggest_freq('郑西坡', True)\n",
    "jieba.suggest_freq('赵东来', True)\n",
    "jieba.suggest_freq('高小琴', True)\n",
    "jieba.suggest_freq('赵瑞龙', True)\n",
    "jieba.suggest_freq('林华华', True)\n",
    "jieba.suggest_freq('陆亦可', True)\n",
    "jieba.suggest_freq('刘新建', True)\n",
    "jieba.suggest_freq('刘庆祝', True)\n",
    "\n",
    "with open('D:/PROJECT_TW/git/data/nlp/in_the_name_of_people/in_the_name_of_people.txt', 'rb') as f:\n",
    "    document = f.read()\n",
    "    #document_decode = document.decode('GBK')\n",
    "    document_cut = jieba.cut(document)\n",
    "    #print  ' '.join(jieba_cut)  //如果打印结果，则分词效果消失，后面的result无法显示\n",
    "    result = ' '.join(document_cut)\n",
    "    \n",
    "    result = result.encode('utf-8')\n",
    "    \n",
    "    with open('D:/PROJECT_TW/git/data/nlp/in_the_name_of_people/in_the_name_of_people_segment.txt', 'wb') as f2:\n",
    "        f2.write(result)\n",
    "f.close()\n",
    "f2.close()"
   ]
  },
  {
   "cell_type": "code",
   "execution_count": 24,
   "metadata": {
    "code_folding": []
   },
   "outputs": [
    {
     "name": "stderr",
     "output_type": "stream",
     "text": [
      "2018-11-21 17:38:17,067 : INFO : collecting all words and their counts\n",
      "2018-11-21 17:38:17,070 : INFO : PROGRESS: at sentence #0, processed 0 words, keeping 0 word types\n",
      "2018-11-21 17:38:17,158 : INFO : collected 17877 word types from a corpus of 161342 raw words and 2310 sentences\n",
      "2018-11-21 17:38:17,161 : INFO : Loading a fresh vocabulary\n",
      "2018-11-21 17:38:17,219 : INFO : effective_min_count=1 retains 17877 unique words (100% of original 17877, drops 0)\n",
      "2018-11-21 17:38:17,220 : INFO : effective_min_count=1 leaves 161342 word corpus (100% of original 161342, drops 0)\n",
      "2018-11-21 17:38:17,316 : INFO : deleting the raw counts dictionary of 17877 items\n",
      "2018-11-21 17:38:17,318 : INFO : sample=0.001 downsamples 38 most-common words\n",
      "2018-11-21 17:38:17,319 : INFO : downsampling leaves estimated 120577 word corpus (74.7% of prior 161342)\n",
      "2018-11-21 17:38:17,347 : INFO : constructing a huffman tree from 17877 words\n",
      "2018-11-21 17:38:17,933 : INFO : built huffman tree with maximum node depth 17\n",
      "2018-11-21 17:38:17,983 : INFO : estimated required memory for 17877 words and 100 dimensions: 33966300 bytes\n",
      "2018-11-21 17:38:17,986 : INFO : resetting layer weights\n",
      "2018-11-21 17:38:18,303 : INFO : training model with 3 workers on 17877 vocabulary and 100 features, using sg=0 hs=1 sample=0.001 negative=5 window=3\n",
      "2018-11-21 17:38:18,661 : INFO : worker thread finished; awaiting finish of 2 more threads\n",
      "2018-11-21 17:38:18,666 : INFO : worker thread finished; awaiting finish of 1 more threads\n",
      "2018-11-21 17:38:18,696 : INFO : worker thread finished; awaiting finish of 0 more threads\n",
      "2018-11-21 17:38:18,701 : INFO : EPOCH - 1 : training on 161342 raw words (120495 effective words) took 0.4s, 305660 effective words/s\n",
      "2018-11-21 17:38:19,091 : INFO : worker thread finished; awaiting finish of 2 more threads\n",
      "2018-11-21 17:38:19,095 : INFO : worker thread finished; awaiting finish of 1 more threads\n",
      "2018-11-21 17:38:19,109 : INFO : worker thread finished; awaiting finish of 0 more threads\n",
      "2018-11-21 17:38:19,113 : INFO : EPOCH - 2 : training on 161342 raw words (120577 effective words) took 0.4s, 296911 effective words/s\n",
      "2018-11-21 17:38:19,511 : INFO : worker thread finished; awaiting finish of 2 more threads\n",
      "2018-11-21 17:38:19,542 : INFO : worker thread finished; awaiting finish of 1 more threads\n",
      "2018-11-21 17:38:19,571 : INFO : worker thread finished; awaiting finish of 0 more threads\n",
      "2018-11-21 17:38:19,575 : INFO : EPOCH - 3 : training on 161342 raw words (120519 effective words) took 0.5s, 265839 effective words/s\n",
      "2018-11-21 17:38:19,966 : INFO : worker thread finished; awaiting finish of 2 more threads\n",
      "2018-11-21 17:38:19,974 : INFO : worker thread finished; awaiting finish of 1 more threads\n",
      "2018-11-21 17:38:19,992 : INFO : worker thread finished; awaiting finish of 0 more threads\n",
      "2018-11-21 17:38:19,994 : INFO : EPOCH - 4 : training on 161342 raw words (120567 effective words) took 0.4s, 294682 effective words/s\n",
      "2018-11-21 17:38:20,312 : INFO : worker thread finished; awaiting finish of 2 more threads\n",
      "2018-11-21 17:38:20,315 : INFO : worker thread finished; awaiting finish of 1 more threads\n",
      "2018-11-21 17:38:20,322 : INFO : worker thread finished; awaiting finish of 0 more threads\n",
      "2018-11-21 17:38:20,325 : INFO : EPOCH - 5 : training on 161342 raw words (120661 effective words) took 0.3s, 375780 effective words/s\n",
      "2018-11-21 17:38:20,326 : INFO : training on a 806710 raw words (602819 effective words) took 2.0s, 298288 effective words/s\n"
     ]
    }
   ],
   "source": [
    "# import modules & set up logging\n",
    "import logging\n",
    "import os\n",
    "from gensim.models import word2vec\n",
    "\n",
    "logging.basicConfig(format='%(asctime)s : %(levelname)s : %(message)s', level=logging.INFO)\n",
    "\n",
    "sentences = word2vec.LineSentence('D:/PROJECT_TW/git/data/nlp/in_the_name_of_people/in_the_name_of_people_segment.txt') \n",
    "\n",
    "model = word2vec.Word2Vec(sentences, hs=1,min_count=1,window=3,size=100)"
   ]
  },
  {
   "cell_type": "code",
   "execution_count": 26,
   "metadata": {},
   "outputs": [
    {
     "ename": "SyntaxError",
     "evalue": "Missing parentheses in call to 'print'. Did you mean print(print key[0], key[1])? (<ipython-input-26-f3c2c0f2b824>, line 5)",
     "output_type": "error",
     "traceback": [
      "\u001b[1;36m  File \u001b[1;32m\"<ipython-input-26-f3c2c0f2b824>\"\u001b[1;36m, line \u001b[1;32m5\u001b[0m\n\u001b[1;33m    print key[0], key[1]\u001b[0m\n\u001b[1;37m            ^\u001b[0m\n\u001b[1;31mSyntaxError\u001b[0m\u001b[1;31m:\u001b[0m Missing parentheses in call to 'print'. Did you mean print(print key[0], key[1])?\n"
     ]
    }
   ],
   "source": [
    "req_count = 5\n",
    "for key in model.wv.similar_by_word('沙瑞金'.decode('utf-8'), topn =100):\n",
    "    if len(key[0])==3:\n",
    "        req_count -= 1\n",
    "        print(key[0], key[1])\n",
    "        if req_count == 0:\n",
    "            break;"
   ]
  }
 ],
 "metadata": {
  "kernelspec": {
   "display_name": "Python 3",
   "language": "python",
   "name": "python3"
  },
  "language_info": {
   "codemirror_mode": {
    "name": "ipython",
    "version": 3
   },
   "file_extension": ".py",
   "mimetype": "text/x-python",
   "name": "python",
   "nbconvert_exporter": "python",
   "pygments_lexer": "ipython3",
   "version": "3.6.3"
  }
 },
 "nbformat": 4,
 "nbformat_minor": 2
}
