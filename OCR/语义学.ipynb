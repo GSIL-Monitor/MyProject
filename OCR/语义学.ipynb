{
 "cells": [
  {
   "cell_type": "markdown",
   "metadata": {},
   "source": [
    "    http://www.52nlp.cn/category/%E8%AF%AD%E4%B9%89%E7%9B%B8%E4%BC%BC%E5%BA%A6\n",
    "    \n",
    "    https://www.sohu.com/a/206399499_609569 NLP大赛冠军总结：300万知乎多标签文本分类任务\n",
    "    \n",
    "    https://zhuanlan.zhihu.com/p/25928551 用深度学习（CNN RNN Attention）解决大规模文本分类问题 - 综述和实践\n",
    "    \n",
    "    \n",
    "    https://blog.csdn.net/u014732537/article/details/79573174 卷积神经网络(TextCNN)在句子分类上的实现\n",
    "    \n",
    "        \n",
    "    https://zhuanlan.zhihu.com/p/28923961\n",
    "    \n",
    "    \n",
    "    http://ruder.io/deep-learning-nlp-best-practices/index.html Deep Learning for NLP Best Practices\n",
    "    \n",
    "    \n",
    "    https://github.com/chenyuntc/PyTorchText \n",
    "    \n",
    "    https://blog.csdn.net/John_xyz/article/details/79210088  TextCnn原理及实践 文本分类\n",
    "    \n",
    "    https://cloud.tencent.com/developer/news/154506 如何利用TextCNN识别脏话\n",
    "    \n",
    "    http://ruder.io/deep-learning-nlp-best-practices/index.html"
   ]
  }
 ],
 "metadata": {
  "kernelspec": {
   "display_name": "Python 3",
   "language": "python",
   "name": "python3"
  },
  "language_info": {
   "codemirror_mode": {
    "name": "ipython",
    "version": 3
   },
   "file_extension": ".py",
   "mimetype": "text/x-python",
   "name": "python",
   "nbconvert_exporter": "python",
   "pygments_lexer": "ipython3",
   "version": "3.6.5"
  }
 },
 "nbformat": 4,
 "nbformat_minor": 2
}
