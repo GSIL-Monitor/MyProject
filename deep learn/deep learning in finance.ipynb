{
 "cells": [
  {
   "cell_type": "markdown",
   "metadata": {},
   "source": [
    "https://journals.plos.org/plosone/article?id=10.1371/journal.pone.0180944#pone.0180944.ref015\n",
    "\n",
    "http://www.ftrc.nccu.edu.tw/wordpresseng/wp-content/uploads/2017/10/DeepLearning_Finance_NVAndrew_1018.pdf\n",
    "\n",
    "https://github.com/sonaam1234/DeepLearningInFinance/blob/master/README.md\n",
    "\n",
    "http://www.ftrc.nccu.edu.tw/wordpresseng/wp-content/uploads/2017/10/DeepLearning_Finance_NVAndrew_1018.pdf"
   ]
  },
  {
   "cell_type": "markdown",
   "metadata": {},
   "source": [
    "# 小波变换"
   ]
  },
  {
   "cell_type": "markdown",
   "metadata": {},
   "source": [
    "http://www.360doc.com/content/13/0614/15/10724725_292827411.shtml\n",
    "\n",
    "http://www.docin.com/p-1072414208.html?docfrom=rrela\n",
    "\n",
    "https://www.bilibili.com/video/av19141078?from=search&seid=12000893253773382818"
   ]
  }
 ],
 "metadata": {
  "kernelspec": {
   "display_name": "Python 3",
   "language": "python",
   "name": "python3"
  },
  "language_info": {
   "codemirror_mode": {
    "name": "ipython",
    "version": 3
   },
   "file_extension": ".py",
   "mimetype": "text/x-python",
   "name": "python",
   "nbconvert_exporter": "python",
   "pygments_lexer": "ipython3",
   "version": "3.6.5"
  }
 },
 "nbformat": 4,
 "nbformat_minor": 2
}
