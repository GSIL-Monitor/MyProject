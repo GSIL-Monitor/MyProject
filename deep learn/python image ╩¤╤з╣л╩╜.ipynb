{
 "cells": [
  {
   "cell_type": "markdown",
   "metadata": {},
   "source": [
    "https://blog.csdn.net/imudges_zy/article/details/50877065  Python 使用matplotlib 画数学公式图与散点图\n",
    "\n",
    "https://github.com/AdamN/python-webkit2png\n",
    "\n",
    "如果有装pyqt的话，qtwebkit里面就有现成的例子\n",
    "\n",
    "https://www.cnblogs.com/web-wjg/p/7799315.html   JavaScript实现html页面转换成图片格式"
   ]
  }
 ],
 "metadata": {
  "kernelspec": {
   "display_name": "Python 3",
   "language": "python",
   "name": "python3"
  },
  "language_info": {
   "codemirror_mode": {
    "name": "ipython",
    "version": 3
   },
   "file_extension": ".py",
   "mimetype": "text/x-python",
   "name": "python",
   "nbconvert_exporter": "python",
   "pygments_lexer": "ipython3",
   "version": "3.6.3"
  }
 },
 "nbformat": 4,
 "nbformat_minor": 2
}
