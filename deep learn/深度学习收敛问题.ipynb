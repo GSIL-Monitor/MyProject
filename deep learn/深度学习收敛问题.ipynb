{
 "cells": [
  {
   "cell_type": "markdown",
   "metadata": {},
   "source": [
    "# 训练loss不下降原因集合"
   ]
  },
  {
   "cell_type": "markdown",
   "metadata": {},
   "source": [
    "    一，train loss与test loss结果分析\n",
    "\n",
    "    train loss 不断下降，test loss不断下降，说明网络仍在学习;\n",
    "    train loss 不断下降，test loss趋于不变，说明网络过拟合;\n",
    "    train loss 趋于不变，test loss不断下降，说明数据集100%有问题;\n",
    "    train loss 趋于不变，test loss趋于不变，说明学习遇到瓶颈，需要减小学习率或批量数目;\n",
    "    train loss 不断上升，test loss不断上升，说明网络结构设计不当，训练超参数设置不当，数据集经过清洗等问题。\n",
    "\n"
   ]
  }
 ],
 "metadata": {
  "kernelspec": {
   "display_name": "Python 3",
   "language": "python",
   "name": "python3"
  },
  "language_info": {
   "codemirror_mode": {
    "name": "ipython",
    "version": 3
   },
   "file_extension": ".py",
   "mimetype": "text/x-python",
   "name": "python",
   "nbconvert_exporter": "python",
   "pygments_lexer": "ipython3",
   "version": "3.6.3"
  }
 },
 "nbformat": 4,
 "nbformat_minor": 2
}
