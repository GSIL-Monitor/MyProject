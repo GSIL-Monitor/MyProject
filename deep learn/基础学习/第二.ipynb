{
 "cells": [
  {
   "cell_type": "markdown",
   "metadata": {},
   "source": [
    "# 数值计算 P112"
   ]
  },
  {
   "cell_type": "markdown",
   "metadata": {},
   "source": [
    "# 机器学习基础 P130"
   ]
  },
  {
   "cell_type": "markdown",
   "metadata": {},
   "source": [
    "    1、线性回归  P138\n",
    "    2、正则化   P148\n",
    "    3、最大似然估计  P161\n",
    "    4、贝叶斯统计 P165\n",
    "    5、SVM  P170\n",
    "    6、随机梯度下降  P179\n",
    "    \n",
    "    \n",
    "    P186"
   ]
  }
 ],
 "metadata": {
  "kernelspec": {
   "display_name": "Python 3",
   "language": "python",
   "name": "python3"
  },
  "language_info": {
   "codemirror_mode": {
    "name": "ipython",
    "version": 3
   },
   "file_extension": ".py",
   "mimetype": "text/x-python",
   "name": "python",
   "nbconvert_exporter": "python",
   "pygments_lexer": "ipython3",
   "version": "3.6.3"
  }
 },
 "nbformat": 4,
 "nbformat_minor": 2
}
