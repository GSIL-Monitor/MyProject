{
 "cells": [
  {
   "cell_type": "markdown",
   "metadata": {},
   "source": [
    "# 线性因子模型 P497"
   ]
  },
  {
   "cell_type": "markdown",
   "metadata": {},
   "source": [
    "# 自编码器 P510"
   ]
  },
  {
   "cell_type": "markdown",
   "metadata": {},
   "source": [
    "  1、得分估计  P520\n",
    "  2、自编码的应用   P531"
   ]
  },
  {
   "cell_type": "markdown",
   "metadata": {
    "heading_collapsed": true
   },
   "source": [
    "# 表示学习 P532"
   ]
  },
  {
   "cell_type": "markdown",
   "metadata": {
    "hidden": true
   },
   "source": [
    "    表示学习提供了进行无监督学习和半监督学习的一种方法.\n",
    "    1、贪心无监督预训练  P533\n",
    "    2、迁移学习和领域自适应  P540\n",
    "    3、半监督解释因果关系 P545\n",
    "    4、分布式表示  P549\n",
    "    5、提供发现潜在原因的线索 P556\n",
    "        5.1、平滑\n",
    "        5.2、线性\n",
    "        5.3、多个解释因子\n",
    "        5.4、因果因子\n",
    "    \n",
    "    P549"
   ]
  },
  {
   "cell_type": "markdown",
   "metadata": {
    "heading_collapsed": true
   },
   "source": [
    "# 深度学习中的结构化概率模型 P559"
   ]
  },
  {
   "cell_type": "markdown",
   "metadata": {
    "hidden": true
   },
   "source": [
    "    1、非结构化建模的挑战  P561\n",
    "    2、使用图描述模型结构  P564\n",
    "        2.1 有向模型\n",
    "        2.2 无向模型\n",
    "    3、从图模型中采样    P582\n",
    "    4、推断和近似推断  P585"
   ]
  },
  {
   "cell_type": "markdown",
   "metadata": {
    "heading_collapsed": true
   },
   "source": [
    "# 蒙特卡罗方法  P591"
   ]
  },
  {
   "cell_type": "markdown",
   "metadata": {
    "hidden": true
   },
   "source": [
    "    1、重要采样  P593\n",
    "    2、马尔科夫链蒙特卡罗方法"
   ]
  },
  {
   "cell_type": "markdown",
   "metadata": {},
   "source": [
    "# 直面配分函数  P604"
   ]
  },
  {
   "cell_type": "markdown",
   "metadata": {},
   "source": [
    "    1、对数似然梯度  P606\n",
    "    \n",
    "    \n",
    "    \n",
    "    P632"
   ]
  }
 ],
 "metadata": {
  "kernelspec": {
   "display_name": "Python 3",
   "language": "python",
   "name": "python3"
  },
  "language_info": {
   "codemirror_mode": {
    "name": "ipython",
    "version": 3
   },
   "file_extension": ".py",
   "mimetype": "text/x-python",
   "name": "python",
   "nbconvert_exporter": "python",
   "pygments_lexer": "ipython3",
   "version": "3.6.3"
  }
 },
 "nbformat": 4,
 "nbformat_minor": 2
}
