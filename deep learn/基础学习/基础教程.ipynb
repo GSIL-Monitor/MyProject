{
 "cells": [
  {
   "cell_type": "markdown",
   "metadata": {},
   "source": [
    "# 线性建模 : 最小二乘法  P11"
   ]
  },
  {
   "cell_type": "markdown",
   "metadata": {},
   "source": [
    "    1、向量、矩阵符号   P22\n",
    "    2、线性模型的非线性响应  P29\n",
    "    3、正则化最小二乘法  P35   ???"
   ]
  },
  {
   "cell_type": "markdown",
   "metadata": {},
   "source": [
    "# 线性建模：最大似然方法  P38"
   ]
  },
  {
   "attachments": {},
   "cell_type": "markdown",
   "metadata": {},
   "source": [
    "    1、随机变量和概率  P40\n",
    "    2、贝叶斯规则介绍  P46  \n",
    "       Y=y条件下X的概率 P(X=x|Y=y),这依赖于X=x条件下Y的概率，这就是著名的贝叶斯规则。\n",
    "       因为 P(X=x|Y=y) *  P(Y=y) =  P(Y=y|X=x) * P(X=x)\n",
    "       \n",
    "       所以： P(X=x|Y=y) = P(Y=y|X=x) * P(X=x) / P(Y=y)\n",
    "    \n",
    "    3、常见的离散分布  P49\n",
    "        3.1 、伯努利分布  \n",
    "                用于像抛硬币的具有二个可能结果的事件。对于随机变量X、可以取值0、1，将其取值为1的概率计为q\n",
    "                \n",
    "                \n",
    "        3.2、二项式分布\n",
    "        3.3、多项式分布\n",
    "    4、连续型随机变量  P50\n",
    "    \n",
    "        积分公式 P51\n",
    "        \n",
    "        4.1、常见的连续概率密度函数  P52\n",
    "        4.2、多元高斯  P54\n",
    "        \n",
    "        矩陈的行列式 P55\n",
    "        \n",
    "    5、似然估计 P57\n",
    "        5.1、数据集的似然值  P58\n",
    "        5.2、最大似然   P59\n",
    "        \n",
    "        Hessian矩陈  P61\n",
    "        \n",
    "    6、噪声对参数估计的影响  P63\n",
    "    \n",
    "    7、预测值的变异性  P69\n",
    "    \n",
    "    \n",
    "    P68"
   ]
  },
  {
   "cell_type": "code",
   "execution_count": null,
   "metadata": {},
   "outputs": [],
   "source": []
  }
 ],
 "metadata": {
  "kernelspec": {
   "display_name": "Python 3",
   "language": "python",
   "name": "python3"
  },
  "language_info": {
   "codemirror_mode": {
    "name": "ipython",
    "version": 3
   },
   "file_extension": ".py",
   "mimetype": "text/x-python",
   "name": "python",
   "nbconvert_exporter": "python",
   "pygments_lexer": "ipython3",
   "version": "3.6.3"
  }
 },
 "nbformat": 4,
 "nbformat_minor": 2
}
