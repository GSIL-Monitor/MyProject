{
 "cells": [
  {
   "cell_type": "markdown",
   "metadata": {
    "heading_collapsed": true
   },
   "source": [
    "# 深度学习 ：现代实践"
   ]
  },
  {
   "cell_type": "code",
   "execution_count": null,
   "metadata": {
    "hidden": true
   },
   "outputs": [],
   "source": [
    "    1、深度学习feedforward网络  P192\n",
    "    2、激活函数  P199\n",
    "    3、代价函数  P202\n",
    "    4、架构设计  P222\n",
    "    5、反向传播  P227\n",
    "    \n",
    "    \n",
    "    \n",
    "    P240"
   ]
  },
  {
   "cell_type": "markdown",
   "metadata": {
    "heading_collapsed": true
   },
   "source": [
    "# 深度学习中的正则化  P252"
   ]
  },
  {
   "cell_type": "code",
   "execution_count": null,
   "metadata": {
    "hidden": true
   },
   "outputs": [],
   "source": [
    "    1、正则化定义 ：对学习算法的修改----旨在减少泛化误差而不在训练误差\n",
    "    2、参数范数惩罚  P254\n",
    "    3、L2参数正则化  P255\n",
    "    4、L1正则化      P258\n",
    "    5、正则化和欠约束问题   P263\n",
    "    6、数据增强      P264\n",
    "    7、向输出目标注入噪声   P267   针对大数据训练数据集Y可能会有一定错误 \n",
    "    8、半监督学习    P267\n",
    "    9、提前终止      P270\n",
    "    10、参数绑定和参数共享   CNN是最流行和最广泛的参数共享模型  P278\n",
    "    11、dropout  P289\n",
    "    12、对抗训练 P292\n",
    "    \n",
    "    P292"
   ]
  },
  {
   "cell_type": "markdown",
   "metadata": {},
   "source": [
    "# 深度模型的优化 P297"
   ]
  },
  {
   "cell_type": "code",
   "execution_count": null,
   "metadata": {},
   "outputs": [],
   "source": [
    "    1、梯度爆炸  P310\n",
    "    2、基本算法  P314\n",
    "    \n",
    "    \n",
    "    P315"
   ]
  }
 ],
 "metadata": {
  "kernelspec": {
   "display_name": "Python 3",
   "language": "python",
   "name": "python3"
  },
  "language_info": {
   "codemirror_mode": {
    "name": "ipython",
    "version": 3
   },
   "file_extension": ".py",
   "mimetype": "text/x-python",
   "name": "python",
   "nbconvert_exporter": "python",
   "pygments_lexer": "ipython3",
   "version": "3.6.3"
  }
 },
 "nbformat": 4,
 "nbformat_minor": 2
}
