{
 "cells": [
  {
   "cell_type": "markdown",
   "metadata": {
    "heading_collapsed": true
   },
   "source": [
    "# 导数、偏导数    "
   ]
  },
  {
   "cell_type": "markdown",
   "metadata": {
    "hidden": true
   },
   "source": [
    "    https://blog.csdn.net/Sagittarius_Warrior/article/details/78327327\n",
    "    \n",
    "    导数和偏导没有本质区别,都是当自变量的变化量趋于0时，函数值的变化量与自变量变化量比值的极限。一元函数，一个y对应一个x，导数只有一个。二元函数，一个z对应一个x和一个y，那就有两个导数了，一个是z对x的导数，一个是z对y的导数,称之为偏导。\n",
    "    导数，是对含有一个自变量的函数进行求导。偏导数，是对含有两个自变量的函数中的一个自变量求导。\n",
    "    \n",
    "    几何意义：\n",
    "    导数：函数y=f（x）在x0点的导数f'（x0）的几何意义：表示函数曲线在点P0（x0,f（x0））处的切线的斜率（导数的几何意义是该函数曲线在这一点上的切线斜率）。\n",
    "    偏导数 f'x(x0,y0) 表示固定面上一点对 x 轴的切线斜率；偏导数 f'y(x0,y0) 表示固定面上一点对 y 轴的切线斜率。\n",
    "    高阶偏导数：如果二元函数 z=f(x,y) 的偏导数 f'x(x,y) 与 f'y(x,y) 仍然可导，那么这两个偏导函数的偏导数称为 z=f(x,y) 的二阶偏导数。二元函数的二阶偏导数有四个：f\"xx，f\"xy，f\"yx，f\"yy。\n",
    "\n",
    "    \n",
    "    1、偏导数工具 sympy"
   ]
  },
  {
   "cell_type": "code",
   "execution_count": 4,
   "metadata": {
    "hidden": true
   },
   "outputs": [
    {
     "data": {
      "image/png": "[encoded data removed]",
      "text/latex": [
       "$$\\left ( \\sin{\\left (x y \\right )}, \\quad - x \\left(x y \\cos{\\left (x y \\right )} + 2 \\sin{\\left (x y \\right )}\\right)\\right )$$"
      ],
      "text/plain": [
       "(sin(x⋅y), -x⋅(x⋅y⋅cos(x⋅y) + 2⋅sin(x⋅y)))"
      ]
     },
     "execution_count": 4,
     "metadata": {},
     "output_type": "execute_result"
    }
   ],
   "source": [
    "# z=sin(xy),∂z3/∂x∂y2=?     ??????\n",
    "from sympy import *\n",
    "init_printing()\n",
    "x,y = symbols('x y')\n",
    "f,g = symbols('f g', cls=Function)\n",
    "f = sin(x * y)\n",
    "f, f.diff(x, y, y)"
   ]
  },
  {
   "cell_type": "markdown",
   "metadata": {},
   "source": [
    "# 矩阵、向量"
   ]
  },
  {
   "cell_type": "markdown",
   "metadata": {
    "heading_collapsed": true
   },
   "source": [
    "# 概率和概率分布"
   ]
  },
  {
   "cell_type": "markdown",
   "metadata": {
    "hidden": true
   },
   "source": [
    "    http://python.jobbole.com/81321/  如何在Python中实现这五类强大的概率分布"
   ]
  },
  {
   "cell_type": "code",
   "execution_count": 14,
   "metadata": {
    "hidden": true
   },
   "outputs": [],
   "source": [
    "import scipy.stats as stats\n",
    "import numpy as np\n",
    "# 一、 二项分布    https://blog.csdn.net/huangjx36/article/details/77990392\n",
    "# 在概率论和统计学里面，带有参数n和p的二项分布表示的是n次独立试验的成功次数的概率分布。在每次独立试验中只有取\n",
    "# 两个值，表示成功的值的概率为p，那么表示试验不成功的概率为1-p。这样一种判断成功和失败的二值试验又叫做伯努利试验。\n",
    "# 特殊地，当n=1的时候，我们把二项分布称为伯努利分布。\n",
    "\n",
    "# 二项分布的例子：抛掷10次硬币，恰好两次正面朝上的概率是多少？\n",
    "# 假设在该试验中正面朝上的概率为0.3，这意味着平均来说，我们可以期待有3次是硬币正面朝\n",
    "# 上的。我定义掷硬币的所有可能结果为k = np.arange(0,11)：你可能观测到0次正面朝上、1次正面朝上，一直到\n",
    "# 10次正面朝上。我使用stats.binom.pmf计算每次观测的概率质量函数。它返回一个含有11个元素的列表（list），这些\n",
    "# 元素表示与每个观测相关联的概率值。\n",
    "n = 10\n",
    "p = 0.3\n",
    "k = np.arange(0,11)\n",
    "binoms = stats.binom.pmf(k,n,p)\n",
    "# binoms\n"
   ]
  },
  {
   "cell_type": "code",
   "execution_count": 15,
   "metadata": {
    "hidden": true
   },
   "outputs": [],
   "source": [
    "import scipy.stats as stats\n",
    "import numpy as np\n",
    "# 二、泊松分布（Poisson Distribution）  https://blog.csdn.net/ccnt_2012/article/details/81114920  如何通俗理解泊松分布\n",
    "# 泊松分布的参数λ是单位时间(或单位面积)内随机事件的平均发生次数。 泊松分布适合于描述单位时间内随机事件发生的次数。\n",
    "# 当二项分布的n很大而p很小时，泊松分布可作为二项分布的近似，其中λ为np。通常当n≧20,p≦0.05时，就可以用泊松公式近似得计算。\n",
    "\n",
    "# 泊松分布的例子：已知某路口发生事故的比率是每天2次，那么在此处一天内发生4次事故的概率是多少？\n",
    "# 让我们考虑这个平均每天发生2起事故的例子。泊松分布的实现和二项分布有些类似，在泊松分布中我们需要指定比率参数。泊松分布的输出\n",
    "# 是一个数列，包含了发生0次、1次、2次，直到10次事故的概率。\n",
    "rate = 2\n",
    "n = np.arange(0,10)\n",
    "y = stats.poisson.pmf(n,rate)\n",
    "# print(y)"
   ]
  },
  {
   "cell_type": "code",
   "execution_count": 13,
   "metadata": {
    "hidden": true
   },
   "outputs": [],
   "source": [
    "import scipy.stats as stats\n",
    "import numpy as np\n",
    "# 三、正态分布（Normal Distribution）\n",
    "# 正态分布是一种连续分布，其函数可以在实线上的任何地方取值。正态分布由两个参数描述：分布的平均值μ和方差σ2 。\n",
    "mu = 0 # mean\n",
    "sigma = 1 # 方差\n",
    "x = np.arange(-5,5,0.1)\n",
    "y = stats.norm.pdf(x,mu,sigma)\n",
    "# print(y)"
   ]
  },
  {
   "cell_type": "code",
   "execution_count": 16,
   "metadata": {
    "hidden": true
   },
   "outputs": [],
   "source": [
    "import scipy.stats as stats\n",
    "import numpy as np\n",
    "# 四、β分布（Beta Distribution）  \n",
    "# https://baijiahao.baidu.com/s?id=1580447203705059178&wfr=spider&for=pc  五分钟概率论-Beta 分布\n",
    "# β分布是一个取值在 [0, 1] 之间的连续分布，它由两个形态参数α和β的取值所刻画\n",
    "# 其中 B(a,b) 是标准化函数，他的作用是使总概率为1，a 和 b 是形状参数，不同的参数选择不但可以表示常见\n",
    "#  的二项分布，几何分布等，它更有一个好处，那就是你跟本不用去管某个试验服从什么分布。用形状参数 a,b 可\n",
    "# 以调出任意你想使用的分布图像。β分布的形状取决于α和β的值。贝叶斯分析中大量使用了β分布\n",
    "a = 0.5\n",
    "b = 0.5\n",
    "x = np.arange(0.1,1,0.1)\n",
    "y = stats.beta.pdf(x,a,b)"
   ]
  },
  {
   "cell_type": "code",
   "execution_count": null,
   "metadata": {
    "hidden": true
   },
   "outputs": [],
   "source": [
    "import scipy.stats as stats\n",
    "import numpy as np\n",
    "# 五、指数分布（Exponential Distribution） https://www.imooc.com/article/details/id/29670 泊松分布和指数分布：通俗易懂\n",
    "# 指数分布是一种连续概率分布，用于表示独立随机事件发生的时间间隔。比如旅客进入机场的时间间隔、打进客服中心电话的时间间隔、中文维\n",
    "# 基百科新条目出现的时间间隔等等。\n",
    "# 举个例子吧，假设我平均每三天去超市一次，服从指数分布。\n",
    "# 那么我平均每天去超市1/3次。 λ就表示平均每单位时间发生该事件的次数，是指数函数的分布参数。此处的λ=1/3。\n",
    "# 那么，指数分布概率分布是解决什么问题呢。\n",
    "# 我今天去了超市，那么\n",
    "# 我隔了1天没有去超市的概率，根据指数分布可以算出0.7165，隔了1天就又去了超市的概率，根据指数分布可以算出0.2835；\n",
    "# 我隔了2天没有去超市的概率，根据指数分布可以算出0.5134，我在2天内去了超市的概率，根据指数分布可以算出0.4866；"
   ]
  },
  {
   "cell_type": "markdown",
   "metadata": {},
   "source": [
    "# 贝叶斯"
   ]
  },
  {
   "cell_type": "markdown",
   "metadata": {},
   "source": [
    "    http://python.jobbole.com/81720/ 以 Python 为实例，介绍贝叶斯理论\n",
    "    https://baike.baidu.com/item/%E8%B4%9D%E5%8F%B6%E6%96%AF%E6%B3%95%E5%88%99/8541594?fr=aladdin\n",
    "    \n",
    "    http://python.jobbole.com/88318/?utm_source=blog.jobbole.com&utm_medium=relatedPosts 不识贝叶斯，虽知数据也枉然\n",
    "    \n",
    "    http://python.jobbole.com/85954/?utm_source=blog.jobbole.com&utm_medium=relatedPosts 用 Python 进行贝叶斯模型建模\n",
    "    \n",
    "    https://www.zhihu.com/question/19725590/answer/217025594\n",
    "    \n",
    "    贝叶斯法则（Bayes'theorem/Bayes theorem/Bayesian law） 贝叶斯的统计学中有一个基本的工具叫“贝叶斯法则”， 尽管它是一个数学公式，但其原理毋需数字也可明了。如果看到一个人总是做一些好事，则那个人多半会是一个好人。这就是说，当不能准确知悉一个事物的本质时，可以依靠与事物特定本质相关的事件出现的多少去判断其本质属性的概率。 用数学语言表达就是：支持某项属性的事件发生得愈多，则该属性成立的可能性就愈大。通常，事件A在事件B(发生)的条件下的概率，与事件B在事件A的条件下的概率是不一样的；然而，这两者是有确定的关系,贝叶斯法则就是这种关系的陈述。\n",
    "    \n",
    "    P（B） 为先验概率，即在得到新数据前某一假设的概率；\n",
    "    P（B|A） 为后验概率，即在观察到新数据后计算该假设的概率；\n",
    "    P（A|B）为似然度，即在该假设下得到这一数据的概率；\n",
    "    P（A）为标准化常量，即在任何假设下得到这一数据的概率。\n",
    "    \n",
    "    按这些术语，Bayes法则可表述为：\n",
    "        后验概率 = (相似度 * 先验概率)/标准化常量\n",
    "        也就是说，后验概率与先验概率和相似度的乘积成正比。    "
   ]
  },
  {
   "cell_type": "markdown",
   "metadata": {},
   "source": [
    "# 积分"
   ]
  },
  {
   "cell_type": "markdown",
   "metadata": {},
   "source": [
    "    https://jingyan.baidu.com/article/25648fc16df9909190fd004d.html   python数学工具之积分\n",
    "    https://blog.csdn.net/sagittarius_warrior/article/details/77650785 用Python学《微积分B》（不定积分的概念）"
   ]
  },
  {
   "cell_type": "markdown",
   "metadata": {
    "heading_collapsed": true
   },
   "source": [
    "# 梯度下降法\n",
    "    https://blog.csdn.net/yhao2014/article/details/51554910"
   ]
  },
  {
   "cell_type": "code",
   "execution_count": null,
   "metadata": {
    "hidden": true
   },
   "outputs": [],
   "source": []
  },
  {
   "cell_type": "markdown",
   "metadata": {
    "heading_collapsed": true
   },
   "source": [
    "# 线性回归\n",
    "    https://www.cnblogs.com/hhh5460/p/5786115.html\n",
    "    https://baijiahao.baidu.com/s?id=1589000357170305884&wfr=spider&for=pc  8种用Python实现线性回归的方法\n",
    "    https://mbd.baidu.com/newspage/data/landingsuper?context=%7B%22nid%22%3A%22news_9461878021829434755%22%7D&n_type=1&p_from=3  吴恩达发布《AI转型指南》：喊话CEO们，AI转型分五步\n",
    "    \n",
    "    线性回归w0,w1的数值可参看 基础教程 P13， 主要是通过平方损失函数来"
   ]
  },
  {
   "cell_type": "code",
   "execution_count": null,
   "metadata": {
    "hidden": true
   },
   "outputs": [],
   "source": []
  }
 ],
 "metadata": {
  "kernelspec": {
   "display_name": "Python 3",
   "language": "python",
   "name": "python3"
  },
  "language_info": {
   "codemirror_mode": {
    "name": "ipython",
    "version": 3
   },
   "file_extension": ".py",
   "mimetype": "text/x-python",
   "name": "python",
   "nbconvert_exporter": "python",
   "pygments_lexer": "ipython3",
   "version": "3.6.3"
  }
 },
 "nbformat": 4,
 "nbformat_minor": 2
}
