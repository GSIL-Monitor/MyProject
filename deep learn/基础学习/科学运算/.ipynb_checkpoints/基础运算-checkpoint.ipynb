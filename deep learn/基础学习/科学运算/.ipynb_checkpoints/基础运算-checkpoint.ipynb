{
 "cells": [
  {
   "cell_type": "markdown",
   "metadata": {
    "heading_collapsed": true
   },
   "source": [
    "# 导数、偏导数\n",
    "    https://blog.csdn.net/Sagittarius_Warrior/article/details/78327327\n",
    "    \n",
    "    1、偏导数工具 sympy\n",
    "    "
   ]
  },
  {
   "cell_type": "code",
   "execution_count": 4,
   "metadata": {
    "hidden": true
   },
   "outputs": [
    {
     "data": {
      "image/png": "[encoded data removed]",
      "text/latex": [
       "$$\\left ( \\sin{\\left (x y \\right )}, \\quad - x \\left(x y \\cos{\\left (x y \\right )} + 2 \\sin{\\left (x y \\right )}\\right)\\right )$$"
      ],
      "text/plain": [
       "(sin(x⋅y), -x⋅(x⋅y⋅cos(x⋅y) + 2⋅sin(x⋅y)))"
      ]
     },
     "execution_count": 4,
     "metadata": {},
     "output_type": "execute_result"
    }
   ],
   "source": [
    "# z=sin(xy),∂z3/∂x∂y2=?     ??????\n",
    "\n",
    "\n",
    "from sympy import *\n",
    "init_printing()\n",
    "x,y = symbols('x y')\n",
    "f,g = symbols('f g', cls=Function)\n",
    "f = sin(x * y)\n",
    "f, f.diff(x, y, y)"
   ]
  },
  {
   "cell_type": "markdown",
   "metadata": {
    "heading_collapsed": true
   },
   "source": [
    "# 积分\n",
    "    https://jingyan.baidu.com/article/25648fc16df9909190fd004d.html   python数学工具之积分\n",
    "    https://blog.csdn.net/sagittarius_warrior/article/details/77650785 用Python学《微积分B》（不定积分的概念）"
   ]
  },
  {
   "cell_type": "markdown",
   "metadata": {
    "heading_collapsed": true
   },
   "source": [
    "# 梯度下降法\n",
    "    https://blog.csdn.net/yhao2014/article/details/51554910"
   ]
  },
  {
   "cell_type": "code",
   "execution_count": null,
   "metadata": {
    "hidden": true
   },
   "outputs": [],
   "source": []
  },
  {
   "cell_type": "markdown",
   "metadata": {},
   "source": [
    "# 线性回归\n",
    "    https://www.cnblogs.com/hhh5460/p/5786115.html\n",
    "    https://baijiahao.baidu.com/s?id=1589000357170305884&wfr=spider&for=pc  8种用Python实现线性回归的方法\n",
    "    https://mbd.baidu.com/newspage/data/landingsuper?context=%7B%22nid%22%3A%22news_9461878021829434755%22%7D&n_type=1&p_from=3  吴恩达发布《AI转型指南》：喊话CEO们，AI转型分五步"
   ]
  },
  {
   "cell_type": "code",
   "execution_count": null,
   "metadata": {},
   "outputs": [],
   "source": []
  }
 ],
 "metadata": {
  "kernelspec": {
   "display_name": "Python 3",
   "language": "python",
   "name": "python3"
  },
  "language_info": {
   "codemirror_mode": {
    "name": "ipython",
    "version": 3
   },
   "file_extension": ".py",
   "mimetype": "text/x-python",
   "name": "python",
   "nbconvert_exporter": "python",
   "pygments_lexer": "ipython3",
   "version": "3.6.3"
  }
 },
 "nbformat": 4,
 "nbformat_minor": 2
}
