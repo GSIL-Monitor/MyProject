{
 "cells": [
  {
   "cell_type": "code",
   "execution_count": 1,
   "metadata": {},
   "outputs": [],
   "source": [
    "# Put these at the top of every notebook, to get automatic reloading and inline plotting\n",
    "%reload_ext autoreload\n",
    "%autoreload 2\n",
    "%matplotlib inline"
   ]
  },
  {
   "cell_type": "code",
   "execution_count": 3,
   "metadata": {},
   "outputs": [],
   "source": [
    "import torch \n",
    "import torch.nn as nn\n",
    "from torch.autograd import Variable\n",
    "import torch.utils.data as data\n",
    "import matplotlib.pyplot as plt"
   ]
  },
  {
   "cell_type": "markdown",
   "metadata": {},
   "source": [
    "# pytorch Conv2D"
   ]
  },
  {
   "cell_type": "markdown",
   "metadata": {},
   "source": [
    "kernel_size (int or tuple): Size of the convolving kernel \n",
    "stride (int or tuple, optional) : Stride of the convolution. Default: 1   步幅\n",
    "padding (int or tuple, optional) – Zero-padding added to both sides of the input. Default: 0\n",
    "dilation (int or tuple, optional): Spacing between kernel elements. Default: 1 \n",
    "groups (int, optional) – Number of blocked connections from input channels to output channels. Default: 1\n",
    "bias (bool, optional) – If True, adds a learnable bias to the output. Default: True"
   ]
  },
  {
   "cell_type": "code",
   "execution_count": 18,
   "metadata": {},
   "outputs": [
    {
     "name": "stdout",
     "output_type": "stream",
     "text": [
      "input size:  torch.Size([5, 1, 60, 160])\n",
      "ouput size :  torch.Size([5, 32, 61, 161])\n",
      "max out put size: torch.Size([5, 32, 30, 80])\n"
     ]
    }
   ],
   "source": [
    "m = nn.Conv2d(1, 32, kernel_size=4, stride=1, padding=2)\n",
    "input = torch.randn(5, 1, 60, 160) #  batch size, channel, height, weight\n",
    "print('input size: ',input.size())\n",
    "output = m(input)    \n",
    "print('ouput size : ', output.size())\n",
    "\n",
    "m2 = nn.MaxPool2d(kernel_size=2)\n",
    "output = m2(output)\n",
    "\n",
    "print('max out put size:', output.size())"
   ]
  }
 ],
 "metadata": {
  "kernelspec": {
   "display_name": "Python 3",
   "language": "python",
   "name": "python3"
  },
  "language_info": {
   "codemirror_mode": {
    "name": "ipython",
    "version": 3
   },
   "file_extension": ".py",
   "mimetype": "text/x-python",
   "name": "python",
   "nbconvert_exporter": "python",
   "pygments_lexer": "ipython3",
   "version": "3.6.5"
  }
 },
 "nbformat": 4,
 "nbformat_minor": 2
}
