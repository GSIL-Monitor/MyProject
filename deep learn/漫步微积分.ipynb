{
 "cells": [
  {
   "cell_type": "markdown",
   "metadata": {},
   "source": [
    "    漫步微积分十六——最大最小值问题 https://blog.csdn.net/u010182633/article/details/52183229\n",
    "    漫步微积分十七——最大最小值问题（续） https://blog.csdn.net/u010182633/article/details/52192781\n",
    "    漫步微积分十八——变化率问题 https://blog.csdn.net/u010182633/article/details/52199305\n",
    "    漫步微积分十九——牛顿法解方程\n",
    "    漫步微积分二十——微分和切线逼近 https://blog.csdn.net/u010182633/article/details/52211147\t重点学习\n",
    "    漫步微积分二十一——不定积分和换元法 https://blog.csdn.net/u010182633/article/details/52219761 重点学习\n",
    "    漫步微积分二十四——定积分引言 https://blog.csdn.net/u010182633/article/details/52276196\n",
    "    漫步微积分二十五——面积问题 https://blog.csdn.net/u010182633/article/details/52293779  重点学习\n",
    "    漫步微积分二十六——Sigma符号和一些特殊和\n",
    "    漫步微积分二十八——极限思想下的面积计算 https://blog.csdn.net/u010182633/article/details/52331436\n",
    "    漫步微积分二十九——微积分基本定理 https://blog.csdn.net/u010182633/article/details/52336301\n",
    "    \n",
    "    漫步最优化一——引言 https://blog.csdn.net/u010182633/article/details/73928461\n",
    "\n",
    "    数据搜集 ： https://www.zhihu.com/question/53655758\n",
    "\n",
    "    https://www.leiphone.com/news/201608/7lwVZCXnScbQb6cJ.html\n",
    "\n",
    "\n",
    "    https://blog.csdn.net/niuwei22007/article/details/47705081 深度学习(DL)与卷积神经网络(CNN)学习笔记随笔-03-基于Python的LeNet之LR"
   ]
  }
 ],
 "metadata": {
  "kernelspec": {
   "display_name": "Python 3",
   "language": "python",
   "name": "python3"
  },
  "language_info": {
   "codemirror_mode": {
    "name": "ipython",
    "version": 3
   },
   "file_extension": ".py",
   "mimetype": "text/x-python",
   "name": "python",
   "nbconvert_exporter": "python",
   "pygments_lexer": "ipython3",
   "version": "3.6.3"
  }
 },
 "nbformat": 4,
 "nbformat_minor": 2
}
