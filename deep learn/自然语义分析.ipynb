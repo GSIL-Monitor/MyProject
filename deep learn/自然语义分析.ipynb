{
 "cells": [
  {
   "cell_type": "markdown",
   "metadata": {},
   "source": [
    "# 深度语义匹配"
   ]
  },
  {
   "cell_type": "markdown",
   "metadata": {},
   "source": [
    "    https://www.cnblogs.com/qniguoym/p/7772561.html\n",
    "    \n",
    "    \n",
    "    https://www.sohu.com/a/149089880_465975\n",
    "    \n",
    "    https://blog.csdn.net/hlang8160/article/details/78775435 用深度学习解决问答（QA）方法_语义匹配"
   ]
  }
 ],
 "metadata": {
  "kernelspec": {
   "display_name": "Python 3",
   "language": "python",
   "name": "python3"
  },
  "language_info": {
   "codemirror_mode": {
    "name": "ipython",
    "version": 3
   },
   "file_extension": ".py",
   "mimetype": "text/x-python",
   "name": "python",
   "nbconvert_exporter": "python",
   "pygments_lexer": "ipython3",
   "version": "3.6.5"
  }
 },
 "nbformat": 4,
 "nbformat_minor": 2
}
