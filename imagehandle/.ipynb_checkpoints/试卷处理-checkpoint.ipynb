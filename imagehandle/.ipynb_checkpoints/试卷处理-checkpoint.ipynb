{
 "cells": [
  {
   "cell_type": "code",
   "execution_count": 6,
   "metadata": {},
   "outputs": [],
   "source": [
    "# -*- coding: utf-8 -*-\n",
    "from __future__ import print_function\n",
    "import cv2 as cv\n",
    "import numpy as np\n",
    "import argparse\n",
    "import matplotlib.pyplot as plt\n",
    "import time\n",
    "import cv2\n",
    "import math\n",
    "from PIL import Image\n",
    "plt.rcParams['figure.figsize'] = 15, 10"
   ]
  },
  {
   "cell_type": "markdown",
   "metadata": {
    "heading_collapsed": true
   },
   "source": [
    "# 处理填空题"
   ]
  },
  {
   "cell_type": "code",
   "execution_count": 13,
   "metadata": {
    "hidden": true
   },
   "outputs": [
    {
     "data": {
      "image/png": "[encoded data removed]",
      "text/plain": [
       "<Figure size 432x288 with 1 Axes>"
      ]
     },
     "metadata": {
      "needs_background": "light"
     },
     "output_type": "display_data"
    },
    {
     "data": {
      "image/png": "[encoded data removed]",
      "text/plain": [
       "<Figure size 432x288 with 1 Axes>"
      ]
     },
     "metadata": {
      "needs_background": "light"
     },
     "output_type": "display_data"
    },
    {
     "name": "stdout",
     "output_type": "stream",
     "text": [
      "0\n"
     ]
    },
    {
     "ename": "IndexError",
     "evalue": "too many indices for array",
     "output_type": "error",
     "traceback": [
      "\u001b[0;31m---------------------------------------------------------------------------\u001b[0m",
      "\u001b[0;31mIndexError\u001b[0m                                Traceback (most recent call last)",
      "\u001b[0;32m<ipython-input-13-69037ccf2e47>\u001b[0m in \u001b[0;36m<module>\u001b[0;34m()\u001b[0m\n\u001b[1;32m     50\u001b[0m \u001b[0mprint\u001b[0m\u001b[0;34m(\u001b[0m\u001b[0mlen\u001b[0m\u001b[0;34m(\u001b[0m\u001b[0mexmr\u001b[0m\u001b[0;34m)\u001b[0m\u001b[0;34m)\u001b[0m\u001b[0;34m\u001b[0m\u001b[0m\n\u001b[1;32m     51\u001b[0m \u001b[0;31m# 根据Y轴进行排重\u001b[0m\u001b[0;34m\u001b[0m\u001b[0;34m\u001b[0m\u001b[0m\n\u001b[0;32m---> 52\u001b[0;31m \u001b[0mva\u001b[0m\u001b[0;34m,\u001b[0m\u001b[0minx\u001b[0m \u001b[0;34m=\u001b[0m \u001b[0mnp\u001b[0m\u001b[0;34m.\u001b[0m\u001b[0munique\u001b[0m\u001b[0;34m(\u001b[0m\u001b[0mexmr\u001b[0m\u001b[0;34m[\u001b[0m\u001b[0;34m:\u001b[0m\u001b[0;34m,\u001b[0m\u001b[0;36m1\u001b[0m\u001b[0;34m]\u001b[0m \u001b[0;34m+\u001b[0m \u001b[0mexmr\u001b[0m\u001b[0;34m[\u001b[0m\u001b[0;34m:\u001b[0m\u001b[0;34m,\u001b[0m\u001b[0;36m0\u001b[0m\u001b[0;34m]\u001b[0m\u001b[0;34m,\u001b[0m\u001b[0mreturn_index\u001b[0m\u001b[0;34m=\u001b[0m\u001b[0;32mTrue\u001b[0m\u001b[0;34m)\u001b[0m\u001b[0;34m\u001b[0m\u001b[0m\n\u001b[0m\u001b[1;32m     53\u001b[0m \u001b[0mexmr\u001b[0m \u001b[0;34m=\u001b[0m \u001b[0mexmr\u001b[0m\u001b[0;34m[\u001b[0m\u001b[0minx\u001b[0m\u001b[0;34m]\u001b[0m\u001b[0;34m\u001b[0m\u001b[0m\n\u001b[1;32m     54\u001b[0m \u001b[0;34m\u001b[0m\u001b[0m\n",
      "\u001b[0;31mIndexError\u001b[0m: too many indices for array"
     ]
    }
   ],
   "source": [
    "# https://www.cnblogs.com/korbin/p/5625340.html\n",
    "import math\n",
    "DEBUG = True\n",
    "img = cv2.imread('/home/hecong/image/fill/fill_1.jpg') \n",
    "img = cv2.cvtColor(img, cv2.COLOR_BGR2GRAY)\n",
    "\n",
    "img = cv2.GaussianBlur(img,(5,5),0)\n",
    "# ret,img = cv2.threshold(img,0,255,cv2.THRESH_BINARY_INV + cv2.THRESH_OTSU)\n",
    "img = cv2.adaptiveThreshold(img,255,cv2.ADAPTIVE_THRESH_MEAN_C, cv2.THRESH_BINARY_INV,11,2)\n",
    "\n",
    "plt.imshow(img,'gray')\n",
    "plt.show()\n",
    "\n",
    "cols = img.shape[1]\n",
    "horizontal_size = int(cols / 40)\n",
    "\n",
    "# Create structure element for extracting horizontal lines through morphology operations\n",
    "horizontalStructure = cv2.getStructuringElement(cv2.MORPH_RECT, (horizontal_size, 1))\n",
    "# Apply morphology operations\n",
    "img = cv2.erode(img, horizontalStructure)\n",
    "img = cv2.dilate(img, horizontalStructure)\n",
    "\n",
    "img = cv2.blur(img, tuple((3, 3)))\n",
    "element = cv2.getStructuringElement(cv2.MORPH_RECT, tuple((5, 5)), (-1, -1))\n",
    "img = cv2.dilate(img, element, iterations=1)\n",
    "\n",
    "plt.imshow(img,'gray')\n",
    "plt.show()\n",
    "\n",
    "\n",
    "# 扫线最小长度取图片的宽 20%长度\n",
    "minLineLength = int(img.shape[1] * 0.3)\n",
    "lines = cv2.HoughLinesP(img, 1, np.pi / 180, 20, minLineLength=minLineLength, maxLineGap=30)\n",
    "\n",
    "\n",
    "imgcanv = Image.new(\"RGB\", (img.shape[1], img.shape[0]), (255, 255, 255))\n",
    "imgcanv = np.array(imgcanv)\n",
    "lines = lines[:,0,:]\n",
    "exmr = []\n",
    "for line in lines:\n",
    "    x1, y1, x2, y2 = line\n",
    "    width = abs(x2-x1)\n",
    "    hight = abs(y2-y1)\n",
    "    x1,y1,width,hight = int(10*round(x1/10)), int(10*round(y1/10)), int(10*round(width/10)), int(10*round(hight/10))\n",
    "    if int(100 * width/img.shape[1]) <= 30 and int(100 * width/img.shape[1]) >= 20:\n",
    "        # 进行四舍五入操作,为后期排重做准备\n",
    "        exmr.append([x1,y1,width,hight,int(100 * width/img.shape[1])])\n",
    "        \n",
    "exmr = np.array(exmr)\n",
    "print(len(exmr))\n",
    "# 根据Y轴进行排重\n",
    "va,inx = np.unique(exmr[:,1] + exmr[:,0],return_index=True)\n",
    "exmr = exmr[inx]\n",
    "\n",
    "# exmr = exmr[exmr[:,2]>200]\n",
    "idex = np.lexsort([exmr[:, 0], exmr[:, 1]])\n",
    "\n",
    "\n",
    "exmr = exmr[idex,:]\n",
    "# cidx = [0,3,4,6,9,10,11,14,16,18,20]\n",
    "# exmr = exmr[cidx,:]\n",
    "\n",
    "# print(exmr)\n",
    "if DEBUG:\n",
    "    for item in exmr:\n",
    "        x1,y1,w,h,s = item\n",
    "        cv2.line(imgcanv, (x1, y1), (x1+w, y1+h), (120, 120, 120), 2)\n",
    "        \n",
    "if DEBUG:\n",
    "#     logger.debug('调试，显示划线图')\n",
    "    plt.imshow(imgcanv,'gray')\n",
    "    plt.show()\n",
    "\n",
    "print(exmr)\n",
    "# plt.imshow(img,'gray')\n",
    "# plt.show()\n",
    "# print(exmr)"
   ]
  },
  {
   "cell_type": "code",
   "execution_count": 11,
   "metadata": {
    "hidden": true
   },
   "outputs": [
    {
     "name": "stdout",
     "output_type": "stream",
     "text": [
      "[ 30 170 180 190 240 250 260 310 320 330 340 390 400 410 460 470 480]\n",
      "[10, 30, 170, 240, 310, 390, 460]\n",
      "[[10, [0]], [30, [1, 2, 4, 5, 6, 7]], [170, [8, 11]], [240, [20, 22]], [310, [30, 32, 33, 35]], [390, [38]], [460, [47, 48, 49, 51, 53]]]\n",
      "[[0], [1, 2, 4, 5, 6, 7], [8, 11], [20, 22], [30, 32, 33, 35], [38], [47, 48, 49, 51, 53]]\n"
     ]
    }
   ],
   "source": [
    "\n",
    "# 根据Y轴取维一的值 \n",
    "# print(exmr)\n",
    "v = np.unique(exmr[:,1])\n",
    "print(v[1:])\n",
    "# 去掉Y轴相近的值，得到分组的基本值\n",
    "vv = [x for i,x in enumerate(v[1:]) if abs(x-v[i])> 10 ]\n",
    "vv.insert(0,v[0])\n",
    "print(vv)\n",
    "# 根据分组的基本值，得到相应的索引位值,  再对比X轴的值，去掉相近的值\n",
    "groups = []\n",
    "for item in vv:\n",
    "    idx =np.where(abs(exmr[:,1]-item) <= 10)[0]\n",
    "    if(len(idx)>1):\n",
    "        # 因为X轴已按从小到大排序，所以可以利用其特点按序进行检测\n",
    "        xidxs = [idx[0]]\n",
    "#         current = idx[0]\n",
    "        for xitem in idx[1:]:\n",
    "            \n",
    "            if np.all(abs(exmr[xidxs,0] - exmr[xitem,0]) > 20):\n",
    "                xidxs.append(xitem)\n",
    "                current = xitem\n",
    "        \n",
    "        groups.append([item,xidxs])\n",
    "    else:\n",
    "        groups.append([item,idx.tolist()])\n",
    "\n",
    "print(groups)\n",
    "\n",
    "gp = [x[1] for x in groups]\n",
    "print(gp)\n",
    "cc = np.array(gp)\n",
    "# print(cc.reshape(-1))\n",
    "# cidx = [0,3,4,6,9,10,11,14,16,18,20]\n",
    "# print(exmr)\n",
    "# print(exmr[cidx])\n",
    "\n"
   ]
  },
  {
   "cell_type": "code",
   "execution_count": null,
   "metadata": {
    "hidden": true
   },
   "outputs": [],
   "source": []
  },
  {
   "cell_type": "markdown",
   "metadata": {},
   "source": [
    "# 识别试卷中心区域"
   ]
  },
  {
   "cell_type": "code",
   "execution_count": 9,
   "metadata": {},
   "outputs": [
    {
     "name": "stdout",
     "output_type": "stream",
     "text": [
      "None\n"
     ]
    },
    {
     "ename": "error",
     "evalue": "OpenCV(3.4.1) C:\\projects\\opencv-python\\opencv\\modules\\imgproc\\src\\color.cpp:11147: error: (-215) scn == 3 || scn == 4 in function cv::cvtColor\n",
     "output_type": "error",
     "traceback": [
      "\u001b[1;31m---------------------------------------------------------------------------\u001b[0m",
      "\u001b[1;31merror\u001b[0m                                     Traceback (most recent call last)",
      "\u001b[1;32m<ipython-input-9-dd1f9e8498bf>\u001b[0m in \u001b[0;36m<module>\u001b[1;34m()\u001b[0m\n\u001b[0;32m      3\u001b[0m \u001b[0mimgage\u001b[0m \u001b[1;33m=\u001b[0m \u001b[0mcv2\u001b[0m\u001b[1;33m.\u001b[0m\u001b[0mimread\u001b[0m\u001b[1;33m(\u001b[0m\u001b[0mpath\u001b[0m\u001b[1;33m,\u001b[0m\u001b[0mcv2\u001b[0m\u001b[1;33m.\u001b[0m\u001b[0mIMREAD_COLOR\u001b[0m\u001b[1;33m)\u001b[0m\u001b[1;33m\u001b[0m\u001b[0m\n\u001b[0;32m      4\u001b[0m \u001b[0mprint\u001b[0m\u001b[1;33m(\u001b[0m\u001b[0mimgage\u001b[0m\u001b[1;33m)\u001b[0m\u001b[1;33m\u001b[0m\u001b[0m\n\u001b[1;32m----> 5\u001b[1;33m \u001b[0mimg\u001b[0m \u001b[1;33m=\u001b[0m \u001b[0mcv2\u001b[0m\u001b[1;33m.\u001b[0m\u001b[0mcvtColor\u001b[0m\u001b[1;33m(\u001b[0m\u001b[0mimgage\u001b[0m\u001b[1;33m,\u001b[0m\u001b[0mcv2\u001b[0m\u001b[1;33m.\u001b[0m\u001b[0mCOLOR_BGR2GRAY\u001b[0m\u001b[1;33m)\u001b[0m\u001b[1;33m\u001b[0m\u001b[0m\n\u001b[0m\u001b[0;32m      6\u001b[0m \u001b[0mimg\u001b[0m \u001b[1;33m=\u001b[0m \u001b[0mcv2\u001b[0m\u001b[1;33m.\u001b[0m\u001b[0mGaussianBlur\u001b[0m\u001b[1;33m(\u001b[0m\u001b[0mimg\u001b[0m\u001b[1;33m,\u001b[0m\u001b[1;33m(\u001b[0m\u001b[1;36m5\u001b[0m\u001b[1;33m,\u001b[0m\u001b[1;36m5\u001b[0m\u001b[1;33m)\u001b[0m\u001b[1;33m,\u001b[0m\u001b[1;36m0\u001b[0m\u001b[1;33m)\u001b[0m\u001b[1;33m\u001b[0m\u001b[0m\n\u001b[0;32m      7\u001b[0m \u001b[1;31m# ret,img = cv2.threshold(img,0,255,cv2.THRESH_BINARY_INV + cv2.THRESH_OTSU)\u001b[0m\u001b[1;33m\u001b[0m\u001b[1;33m\u001b[0m\u001b[0m\n",
      "\u001b[1;31merror\u001b[0m: OpenCV(3.4.1) C:\\projects\\opencv-python\\opencv\\modules\\imgproc\\src\\color.cpp:11147: error: (-215) scn == 3 || scn == 4 in function cv::cvtColor\n"
     ]
    }
   ],
   "source": [
    "# https://blog.csdn.net/keith_bb/article/details/53470170?utm_source=blogxgwz0  华为荣耀V10 小米max1\n",
    "path = 'D:/WechatIMG71.jpeg'\n",
    "imgage = cv2.imread(path,cv2.IMREAD_COLOR)\n",
    "print(imgage)\n",
    "img = cv2.cvtColor(imgage,cv2.COLOR_BGR2GRAY)\n",
    "img = cv2.GaussianBlur(img,(5,5),0)\n",
    "# ret,img = cv2.threshold(img,0,255,cv2.THRESH_BINARY_INV + cv2.THRESH_OTSU)\n",
    "img = cv2.adaptiveThreshold(img,255,cv2.ADAPTIVE_THRESH_MEAN_C, cv2.THRESH_BINARY_INV,11,2)\n",
    "# img = cv2.blur(img,tuple((5,5)))\n",
    "plt.imshow(img,'gray')\n",
    "plt.show()\n",
    "nimg, contours, hierarchy = cv2.findContours(\n",
    "    img, cv2.RETR_TREE, cv2.CHAIN_APPROX_SIMPLE)\n",
    "print(len(contours))\n",
    "rcnt = []\n",
    "rarea = []\n",
    "for cnt in contours:\n",
    "    if cv2.contourArea(cnt) > 40000:\n",
    "        rarea.append(cv2.contourArea(cnt))\n",
    "        rcnt.append(cnt)\n",
    "print(rarea)        \n",
    "pos = np.argmax(rarea)        \n",
    "cnt = rcnt[pos]\n",
    "x,y,w,h = cv2.boundingRect(cnt)\n",
    "# cv2.rectangle(imgage,(x,y),(x+w,y+h),0,-1)\n",
    "# plt.imshow(imgage,'brg')\n",
    "# plt.show()\n",
    "x = x-10\n",
    "w = w + 20\n",
    "y = y - 10\n",
    "h = h + 20\n",
    "crop_img = imgage[y:y+h, x:x+w]\n",
    "cv2.imwrite('/home/hecong/image/fill/crop.jpg',crop_img)\n",
    "plt.imshow(crop_img,'brg')\n",
    "plt.show()"
   ]
  },
  {
   "cell_type": "code",
   "execution_count": null,
   "metadata": {},
   "outputs": [],
   "source": []
  },
  {
   "cell_type": "markdown",
   "metadata": {
    "heading_collapsed": true
   },
   "source": [
    "# 识别试卷边框"
   ]
  },
  {
   "cell_type": "code",
   "execution_count": 12,
   "metadata": {
    "hidden": true
   },
   "outputs": [
    {
     "data": {
      "image/png": "[encoded data removed]",
      "text/plain": [
       "<Figure size 432x288 with 1 Axes>"
      ]
     },
     "metadata": {
      "needs_background": "light"
     },
     "output_type": "display_data"
    },
    {
     "data": {
      "image/png": "[encoded data removed]",
      "text/plain": [
       "<Figure size 432x288 with 1 Axes>"
      ]
     },
     "metadata": {
      "needs_background": "light"
     },
     "output_type": "display_data"
    },
    {
     "data": {
      "image/png": "[encoded data removed]",
      "text/plain": [
       "<Figure size 432x288 with 1 Axes>"
      ]
     },
     "metadata": {
      "needs_background": "light"
     },
     "output_type": "display_data"
    }
   ],
   "source": [
    "DEBUG = True\n",
    "\n",
    "def _get_rect(image):\n",
    "        image = cv2.blur(image, tuple((5, 5)))\n",
    "        element = cv2.getStructuringElement(cv2.MORPH_RECT, tuple((21, 21)), (-1, -1))\n",
    "        imgr = cv2.dilate(image, element, iterations=1)\n",
    "        if DEBUG:\n",
    "#             logger.debug('调试，显示处理后合并图')\n",
    "            plt.imshow(imgr,'gray')\n",
    "            plt.show()\n",
    "\n",
    "        lines = cv2.HoughLinesP(imgr, 1, np.pi / 180, 20, minLineLength=1000, maxLineGap=80)\n",
    "        if DEBUG:\n",
    "            imgt = Image.new(\"RGB\", (imgr.shape[1], imgr.shape[0]), (255, 255, 255))\n",
    "            imgt = np.array(imgt)\n",
    "        lines = lines[:,0,:]\n",
    "        exmr = []\n",
    "        for line in lines:\n",
    "            x1, y1, x2, y2 = line\n",
    "            if DEBUG:\n",
    "                cv2.line(imgt, (x1, y1), (x2, y2), (120, 120, 120), 2)\n",
    "            width = abs(x2-x1)\n",
    "            hight = abs(y2-y1)\n",
    "            exmr.append([x1,y1,width,hight, sum((x1,y1,hight,width))])\n",
    "\n",
    "        if DEBUG:\n",
    "#             logger.debug('调试，显示划线图')\n",
    "            plt.imshow(imgt,'gray')\n",
    "            plt.show()\n",
    "\n",
    "    \n",
    "\n",
    "\n",
    "\n",
    "imgage = cv2.imread('/home/hecong/image/fill/crop.jpg',cv2.IMREAD_COLOR)\n",
    "img = cv2.cvtColor(imgage,cv2.COLOR_BGR2GRAY)\n",
    "img = cv2.GaussianBlur(img,(5,5),0)\n",
    "# ret,img = cv2.threshold(img,0,255,cv2.THRESH_BINARY_INV + cv2.THRESH_OTSU)\n",
    "img = cv2.adaptiveThreshold(img,255,cv2.ADAPTIVE_THRESH_MEAN_C, cv2.THRESH_BINARY_INV,11,2)  # 11, 2 这两个参数有什么用 ？？\n",
    "\n",
    "horizontal = np.copy(img)\n",
    "vertical = np.copy(img)\n",
    "\n",
    "cols = horizontal.shape[1]\n",
    "horizontal_size = int(cols / 40)\n",
    "\n",
    "# Create structure element for extracting horizontal lines through morphology operations\n",
    "horizontalStructure = cv2.getStructuringElement(cv2.MORPH_RECT, (horizontal_size, 1))\n",
    "# Apply morphology operations\n",
    "horizontal = cv2.erode(horizontal, horizontalStructure)\n",
    "horizontal = cv2.dilate(horizontal, horizontalStructure)\n",
    "\n",
    "rows = vertical.shape[0]\n",
    "verticalsize = int(rows / 40)\n",
    "# Create structure element for extracting vertical lines through morphology operations\n",
    "verticalStructure = cv2.getStructuringElement(cv2.MORPH_RECT, (1, verticalsize))\n",
    "\n",
    "# Apply morphology operations\n",
    "vertical = cv2.erode(vertical, verticalStructure)\n",
    "vertical = cv2.dilate(vertical, verticalStructure)\n",
    "\n",
    "nn = cv2.bitwise_or(vertical,horizontal)\n",
    "plt.imshow(nn,'gray')\n",
    "plt.show()\n",
    "\n",
    "_get_rect(nn)\n"
   ]
  },
  {
   "cell_type": "code",
   "execution_count": null,
   "metadata": {
    "hidden": true
   },
   "outputs": [],
   "source": []
  },
  {
   "cell_type": "markdown",
   "metadata": {},
   "source": [
    "# 识别试卷边框二"
   ]
  },
  {
   "cell_type": "code",
   "execution_count": 20,
   "metadata": {},
   "outputs": [
    {
     "data": {
      "image/png": "[encoded data removed]",
      "text/plain": [
       "<Figure size 432x288 with 1 Axes>"
      ]
     },
     "metadata": {
      "needs_background": "light"
     },
     "output_type": "display_data"
    },
    {
     "data": {
      "image/png": "[encoded data removed]",
      "text/plain": [
       "<Figure size 432x288 with 1 Axes>"
      ]
     },
     "metadata": {
      "needs_background": "light"
     },
     "output_type": "display_data"
    }
   ],
   "source": [
    "DEBUG = True\n",
    "\n",
    "def _get_rect(image):\n",
    "    image = cv2.blur(image, tuple((5, 5)))\n",
    "    element = cv2.getStructuringElement(cv2.MORPH_RECT, tuple((21, 21)), (-1, -1))\n",
    "    imgr = cv2.dilate(image, element, iterations=1)\n",
    "    if DEBUG:\n",
    "#             logger.debug('调试，显示处理后合并图')\n",
    "        plt.imshow(imgr,'gray')\n",
    "        plt.show()\n",
    "\n",
    "    nimg, contours, hierarchy = cv2.findContours(imgr, cv2.RETR_TREE, cv2.CHAIN_APPROX_SIMPLE)\n",
    "    return contours\n",
    "        \n",
    "imgage = cv2.imread('/home/hecong/image/fill/crop.jpg',cv2.IMREAD_COLOR)\n",
    "img = cv2.cvtColor(imgage,cv2.COLOR_BGR2GRAY)\n",
    "img = cv2.GaussianBlur(img,(5,5),0)\n",
    "# ret,img = cv2.threshold(img,0,255,cv2.THRESH_BINARY_INV + cv2.THRESH_OTSU)\n",
    "img = cv2.adaptiveThreshold(img,255,cv2.ADAPTIVE_THRESH_MEAN_C, cv2.THRESH_BINARY_INV,11,2)  # 11, 2 这两个参数有什么用 ？？\n",
    "\n",
    "horizontal = np.copy(img)\n",
    "vertical = np.copy(img)\n",
    "\n",
    "cols = horizontal.shape[1]\n",
    "horizontal_size = int(cols / 30)\n",
    "\n",
    "# Create structure element for extracting horizontal lines through morphology operations\n",
    "horizontalStructure = cv2.getStructuringElement(cv2.MORPH_RECT, (horizontal_size, 1))\n",
    "# Apply morphology operations\n",
    "horizontal = cv2.erode(horizontal, horizontalStructure)\n",
    "horizontal = cv2.dilate(horizontal, horizontalStructure)\n",
    "plt.imshow(horizontal,'gray')\n",
    "plt.show()\n",
    "length = imgage.shape[1]\n",
    "contours = _get_rect(horizontal)"
   ]
  },
  {
   "cell_type": "code",
   "execution_count": 24,
   "metadata": {},
   "outputs": [
    {
     "name": "stdout",
     "output_type": "stream",
     "text": [
      "[[   2    4  143 2575]\n",
      " [ 705   12   71 2550]\n",
      " [1589   29   48 2512]\n",
      " [2671   44   89 2471]]\n"
     ]
    }
   ],
   "source": [
    "cnts = []\n",
    "# print(contours)\n",
    "for cnt in contours:\n",
    "    x,y,w,h = cv2.boundingRect(cnt)\n",
    "    if w > int(length*0.9):\n",
    "        cnts.append([y,x,h,w])\n",
    "\n",
    "cnts = np.array(cnts)\n",
    "idex = np.lexsort([cnts[:, 1], cnts[:, 0]])\n",
    "cnts = cnts[idex,:]\n",
    "print(cnts)\n"
   ]
  },
  {
   "cell_type": "code",
   "execution_count": null,
   "metadata": {},
   "outputs": [],
   "source": []
  }
 ],
 "metadata": {
  "kernelspec": {
   "display_name": "Python 3",
   "language": "python",
   "name": "python3"
  },
  "language_info": {
   "codemirror_mode": {
    "name": "ipython",
    "version": 3
   },
   "file_extension": ".py",
   "mimetype": "text/x-python",
   "name": "python",
   "nbconvert_exporter": "python",
   "pygments_lexer": "ipython3",
   "version": "3.6.3"
  }
 },
 "nbformat": 4,
 "nbformat_minor": 2
}
