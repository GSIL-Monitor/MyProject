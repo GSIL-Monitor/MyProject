{
 "cells": [
  {
   "cell_type": "code",
   "execution_count": 17,
   "metadata": {},
   "outputs": [],
   "source": [
    "from __future__ import print_function\n",
    "import cv2 as cv\n",
    "import numpy as np\n",
    "import argparse\n",
    "import matplotlib.pyplot as plt\n",
    "import time\n",
    "import cv2\n",
    "import math\n",
    "from PIL import Image\n",
    "plt.rcParams['figure.figsize'] = 15, 10"
   ]
  },
  {
   "cell_type": "markdown",
   "metadata": {},
   "source": [
    "# 处理填空题"
   ]
  },
  {
   "cell_type": "code",
   "execution_count": 180,
   "metadata": {},
   "outputs": [
    {
     "name": "stdout",
     "output_type": "stream",
     "text": [
      "(518, 1696)\n"
     ]
    },
    {
     "data": {
      "image/png": "[encoded data removed]",
      "text/plain": [
       "<Figure size 1080x720 with 1 Axes>"
      ]
     },
     "metadata": {
      "needs_background": "light"
     },
     "output_type": "display_data"
    },
    {
     "name": "stdout",
     "output_type": "stream",
     "text": [
      "[[1320   20  370    0   21]\n",
      " [ 120  180  350    0   20]\n",
      " [ 550  180  350    0   20]\n",
      " [ 120  250  350    0   20]\n",
      " [ 540  260  350    0   20]\n",
      " [ 120  330  350    0   20]\n",
      " [ 540  330  350    0   20]\n",
      " [ 110  410  360    0   21]\n",
      " [ 540  410  360    0   21]\n",
      " [ 110  480  350    0   20]\n",
      " [ 540  490  360    0   21]]\n"
     ]
    }
   ],
   "source": [
    "import math\n",
    "DEBUG = True\n",
    "img = cv2.imread('/home/hecong/image/fill.jpg') \n",
    "img = cv2.cvtColor(img, cv2.COLOR_BGR2GRAY)\n",
    "img = cv2.blur(img, tuple((10,10)))\n",
    "# img = cv2.dilate(img, None, iterations=1)\n",
    "_,img = cv2.threshold(img, 100, 255,  cv2.THRESH_OTSU + cv2.THRESH_BINARY)\n",
    "img = cv2.bitwise_not(img)\n",
    "# plt.imshow(img,'gray')\n",
    "# plt.show()\n",
    "print(img.shape)\n",
    "# 扫线最小长度取图片的宽 20%长度\n",
    "minLineLength = int(img.shape[1] * 0.2)\n",
    "\n",
    "lines = cv2.HoughLinesP(img, 1, np.pi / 90, 20, minLineLength=minLineLength, maxLineGap=20)\n",
    "\n",
    "\n",
    "imgcanv = Image.new(\"RGB\", (img.shape[1], img.shape[0]), (255, 255, 255))\n",
    "imgcanv = np.array(imgcanv)\n",
    "lines = lines[:,0,:]\n",
    "exmr = []\n",
    "for line in lines:\n",
    "    x1, y1, x2, y2 = line\n",
    "    width = abs(x2-x1)\n",
    "    hight = abs(y2-y1)\n",
    "    x1,y1,width,hight = int(10*round(x1/10)), int(10*round(y1/10)), int(10*round(width/10)), int(10*round(hight/10))\n",
    "    if int(100 * width/img.shape[1]) <= 25 and int(100 * width/img.shape[1]) >= 20:\n",
    "        # 进行四舍五入操作,为后期排重做准备\n",
    "        exmr.append([x1,y1,width,hight,int(100 * width/img.shape[1])])\n",
    "        \n",
    "exmr = np.array(exmr)\n",
    "# 根据Y轴进行排重\n",
    "va,inx = np.unique(exmr[:,1] + exmr[:,0],return_index=True)\n",
    "exmr = exmr[inx]\n",
    "\n",
    "exmr = exmr[exmr[:,2]>200]\n",
    "idex = np.lexsort([exmr[:, 0], exmr[:, 1]])\n",
    "\n",
    "\n",
    "exmr = exmr[idex,:]\n",
    "cidx = [0,3,4,6,9,10,11,14,16,18,20]\n",
    "exmr = exmr[cidx,:]\n",
    "\n",
    "# print(exmr)\n",
    "if DEBUG:\n",
    "    for item in exmr:\n",
    "        x1,y1,w,h,s = item\n",
    "        cv2.line(imgcanv, (x1, y1), (x1+w, y1+h), (120, 120, 120), 2)\n",
    "        \n",
    "if DEBUG:\n",
    "#     logger.debug('调试，显示划线图')\n",
    "    plt.imshow(imgcanv,'gray')\n",
    "    plt.show()\n",
    "\n",
    "print(exmr)\n",
    "# plt.imshow(img,'gray')\n",
    "# plt.show()\n",
    "# print(exmr)"
   ]
  },
  {
   "cell_type": "code",
   "execution_count": 176,
   "metadata": {},
   "outputs": [
    {
     "name": "stdout",
     "output_type": "stream",
     "text": [
      "[[20, [0]], [180, [3, 4]], [250, [6, 9]], [330, [10, 11]], [410, [14, 16]], [480, [18, 20]]]\n",
      "[[0], [3, 4], [6, 9], [10, 11], [14, 16], [18, 20]]\n",
      "[[1320   20  370    0   21]\n",
      " [ 110  100  440    0   25]\n",
      " [ 580  100  340    0   20]\n",
      " [ 120  180  350    0   20]\n",
      " [ 550  180  350    0   20]\n",
      " [ 550  190  350    0   20]\n",
      " [ 120  250  350    0   20]\n",
      " [ 120  260  350    0   20]\n",
      " [ 130  260  340    0   20]\n",
      " [ 540  260  350    0   20]\n",
      " [ 120  330  350    0   20]\n",
      " [ 540  330  350    0   20]\n",
      " [ 120  340  350    0   20]\n",
      " [ 540  340  350    0   20]\n",
      " [ 110  410  360    0   21]\n",
      " [ 120  410  350    0   20]\n",
      " [ 540  410  360    0   21]\n",
      " [ 540  420  350    0   20]\n",
      " [ 110  480  350    0   20]\n",
      " [ 110  490  360    0   21]\n",
      " [ 540  490  360    0   21]]\n",
      "[[1320   20  370    0   21]\n",
      " [ 120  180  350    0   20]\n",
      " [ 550  180  350    0   20]\n",
      " [ 120  250  350    0   20]\n",
      " [ 540  260  350    0   20]\n",
      " [ 120  330  350    0   20]\n",
      " [ 540  330  350    0   20]\n",
      " [ 110  410  360    0   21]\n",
      " [ 540  410  360    0   21]\n",
      " [ 110  480  350    0   20]\n",
      " [ 540  490  360    0   21]]\n"
     ]
    }
   ],
   "source": [
    "\n",
    "# 根据Y轴取维一的值 \n",
    "v = np.unique(exmr[:,1])\n",
    "# 去掉Y轴相近的值，得到分组的基本值\n",
    "vv = [x for i,x in enumerate(v) if (i==0) or (i>1 and abs(x-v[i-1]) > 10)]\n",
    "\n",
    "# 根据分组的基本值，得到相应的索引位值,  再对比X轴的值，去掉相近的值\n",
    "groups = []\n",
    "for item in vv:\n",
    "    idx =np.where(abs(exmr[:,1]-item) <= 10)[0]\n",
    "    if(len(idx)>1):\n",
    "        # 因为X轴已按从小到大排序，所以可以利用其特点按序进行检测\n",
    "        xidxs = [idx[0]]\n",
    "#         current = idx[0]\n",
    "        for xitem in idx[1:]:\n",
    "            \n",
    "            if np.all(abs(exmr[xidxs,0] - exmr[xitem,0]) > 20):\n",
    "                xidxs.append(xitem)\n",
    "                current = xitem\n",
    "        \n",
    "        groups.append([item,xidxs])\n",
    "    else:\n",
    "        groups.append([item,idx.tolist()])\n",
    "\n",
    "print(groups)\n",
    "\n",
    "gp = [x[1] for x in groups]\n",
    "print(gp)\n",
    "cc = np.array(gp)\n",
    "# print(cc.reshape(-1))\n",
    "cidx = [0,3,4,6,9,10,11,14,16,18,20]\n",
    "print(exmr)\n",
    "print(exmr[cidx])\n",
    "\n"
   ]
  },
  {
   "cell_type": "code",
   "execution_count": null,
   "metadata": {},
   "outputs": [],
   "source": []
  }
 ],
 "metadata": {
  "kernelspec": {
   "display_name": "Python 3",
   "language": "python",
   "name": "python3"
  },
  "language_info": {
   "codemirror_mode": {
    "name": "ipython",
    "version": 3
   },
   "file_extension": ".py",
   "mimetype": "text/x-python",
   "name": "python",
   "nbconvert_exporter": "python",
   "pygments_lexer": "ipython3",
   "version": "3.6.5"
  }
 },
 "nbformat": 4,
 "nbformat_minor": 2
}
