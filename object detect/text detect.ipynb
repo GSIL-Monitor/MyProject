{
 "cells": [
  {
   "cell_type": "code",
   "execution_count": 1,
   "metadata": {},
   "outputs": [],
   "source": [
    "import torch.nn as nn\n",
    "import torch\n",
    "import torchvision.models as models\n",
    "import torch.nn as nn\n",
    "import torch.nn.init as init\n",
    "import torch.nn.functional as F\n",
    "import os"
   ]
  },
  {
   "cell_type": "markdown",
   "metadata": {
    "heading_collapsed": true
   },
   "source": [
    "# summary"
   ]
  },
  {
   "cell_type": "markdown",
   "metadata": {
    "hidden": true
   },
   "source": [
    "    https://www.cnblogs.com/skyfsm/p/6806246.html 基于深度学习的目标检测技术演进：R-CNN、Fast R-CNN、Faster R-CNN\n",
    "    \n",
    "    https://blog.csdn.net/u013293750/article/details/64904681 CNN+LSTM深度学习文字检测\n",
    "    \n",
    "    https://blog.csdn.net/forest_world/article/details/78566737 主流ocr算法：CNN+BLSTM+CTC架构\n",
    "    \n",
    "    https://blog.csdn.net/slade_ruan/article/details/78301842?utm_source=blogxgwz1 场景文本检测，CTPN tensorflow版本\n",
    "    \n",
    "    https://blog.csdn.net/Quincuntial/article/details/79475339?utm_source=blogxgwz1 CTPN论文翻译——中英文对照\n",
    "    \n",
    "    http://lib.csdn.net/article/deeplearning/61632  通过代码理解faster-RCNN中的RPN\n",
    "    \n",
    "    https://slade-ruan.me/2017/10/22/text-detection-ctpn/  论文阅读与实现--CTPN"
   ]
  },
  {
   "cell_type": "markdown",
   "metadata": {
    "hidden": true
   },
   "source": [
    "    https://www.cnblogs.com/freeweb/p/6548208.html"
   ]
  },
  {
   "cell_type": "markdown",
   "metadata": {
    "hidden": true
   },
   "source": [
    "    https://deepsense.ai/region-of-interest-pooling-in-tensorflow-example/"
   ]
  },
  {
   "cell_type": "markdown",
   "metadata": {
    "hidden": true
   },
   "source": [
    "    https://www.cnblogs.com/king-lps/p/9031568.html"
   ]
  },
  {
   "cell_type": "markdown",
   "metadata": {
    "heading_collapsed": true
   },
   "source": [
    "# create data"
   ]
  },
  {
   "cell_type": "code",
   "execution_count": null,
   "metadata": {
    "hidden": true
   },
   "outputs": [],
   "source": [
    "# 生成训练、测试数据"
   ]
  },
  {
   "cell_type": "markdown",
   "metadata": {
    "heading_collapsed": true
   },
   "source": [
    "# data ready"
   ]
  },
  {
   "cell_type": "code",
   "execution_count": 2,
   "metadata": {
    "hidden": true
   },
   "outputs": [
    {
     "name": "stdout",
     "output_type": "stream",
     "text": [
      "voc_2007_train\n",
      "voc_2007_val\n",
      "voc_2007_trainval\n",
      "voc_2007_test\n",
      "<bound method imdb.default_roidb of <lib.datasets.pascal_voc.pascal_voc object at 0x000001A7EFEED390>>\n",
      "voc_2007_trainval gt roidb loaded from D:\\PROJECT_TW\\git\\data\\voc_2007_trainval_gt_roidb.pkl\n"
     ]
    }
   ],
   "source": [
    "from lib.datasets.factory import get_imdb\n",
    "from lib.datasets.pascal_voc import pascal_voc\n",
    "from lib.roi_data_layer.roidb import prepare_roidb\n",
    "from lib.roi_data_layer.layer import RoIDataLayer\n",
    "\n",
    "\n",
    "imdb = pascal_voc('trainval', '2007')\n",
    "# roidb ROI框的坐标位置信息, 信息来源于Annotations目录下对图片的XML定义\n",
    "prepare_roidb(imdb)   #  为方便训练，在原roidb信息基础上增加象image等等信息\n",
    "roidb = imdb.roidb \n",
    "data_layer = RoIDataLayer(roidb, imdb.num_classes)"
   ]
  },
  {
   "cell_type": "markdown",
   "metadata": {
    "heading_collapsed": true
   },
   "source": [
    "# model"
   ]
  },
  {
   "cell_type": "code",
   "execution_count": 3,
   "metadata": {
    "code_folding": [],
    "hidden": true
   },
   "outputs": [],
   "source": [
    "RPN_CHANNELS = 512\n",
    "TRUNCATED = False\n",
    "class Network(nn.Module):\n",
    "    def __init__(self):\n",
    "        nn.Module.__init__(self)\n",
    "        self._predictions = {}\n",
    "        self._losses = {}\n",
    "        self._anchor_targets = {}\n",
    "        self._proposal_targets = {}\n",
    "        self._layers = {}\n",
    "        self._gt_image = None\n",
    "        self._act_summaries = {}\n",
    "        self._score_summaries = {}\n",
    "        self._event_summaries = {}\n",
    "        self._image_gt_summaries = {}\n",
    "        self._variables_to_fix = {}\n",
    "\n",
    "    def create_architecture(self, num_classes, tag=None,anchor_scales=(16,), anchor_ratios=(0.5, 1, 2)):\n",
    "        self._tag = tag\n",
    "        self._num_classes = num_classes\n",
    "        self._anchor_scales = anchor_scales\n",
    "        self._num_scales = len(anchor_scales)\n",
    "        self._anchor_ratios = anchor_ratios\n",
    "        self._num_ratios = len(anchor_ratios)\n",
    "        self._num_anchors = 10\n",
    "        assert tag != None\n",
    "        # Initialize layers\n",
    "        self._init_modules()\n",
    "        \n",
    "    def _init_modules(self):\n",
    "        self._init_head_tail()\n",
    "        # rpn\n",
    "        self.rpn_net = nn.Conv2d(self._net_conv_channels, RPN_CHANNELS, [3, 3], padding=1)\n",
    "        self.rpn_bi_net = nn.LSTM(RPN_CHANNELS, 256, batch_first=True, bidirectional=True)\n",
    "        self.rpn_cls_score_net = nn.LSTM(RPN_CHANNELS, self._num_anchors * 2, batch_first=True, bidirectional=False)\n",
    "        self.rpn_bbox_pred_net = nn.LSTM(RPN_CHANNELS, self._num_anchors * 4, batch_first=True, bidirectional=False)\n",
    "        self.init_weights()    \n",
    "        \n",
    "    # 对构建的网络参数（weight, bias）进行正则、初始化\n",
    "    def init_weights(self):\n",
    "        def normal_init(m, mean, stddev, truncated=False):\n",
    "            \"\"\"\n",
    "                weight initalizer: truncated normal and random normal.\n",
    "            \"\"\"\n",
    "            # x is a parameter\n",
    "            if isinstance(m, nn.LSTM):\n",
    "                init.xavier_normal_(m.all_weights[0][0])\n",
    "                init.xavier_normal_(m.all_weights[0][1])\n",
    "                if len(m.all_weights) == 2:   # 双向  LSTM\n",
    "                    init.xavier_normal_(m.all_weights[1][0])\n",
    "                    init.xavier_normal_(m.all_weights[1][1])\n",
    "            else:\n",
    "                if truncated:\n",
    "                    m.weight.data.normal_().fmod_(2).mul_(stddev).add_(mean)  # not a perfect approximation\n",
    "                else:\n",
    "                    m.weight.data.normal_(mean, stddev)\n",
    "                m.bias.data.zero_()\n",
    "        normal_init(self.rpn_net, 0, 0.01, TRUNCATED)\n",
    "        normal_init(self.rpn_cls_score_net,0, 0.01, TRUNCATED)\n",
    "        normal_init(self.rpn_bbox_pred_net,0, 0.01, TRUNCATED)\n",
    "        normal_init(self.rpn_bi_net,0, 0.01, TRUNCATED)\n",
    "        "
   ]
  },
  {
   "cell_type": "code",
   "execution_count": 4,
   "metadata": {
    "code_folding": [
     0
    ],
    "hidden": true
   },
   "outputs": [],
   "source": [
    "class vgg16(Network):\n",
    "    def __init__(self):\n",
    "        Network.__init__(self)\n",
    "        self._feat_stride = [16, ]\n",
    "        self._feat_compress = [1. / float(self._feat_stride[0]), ]\n",
    "        self._net_conv_channels = 512\n",
    "        self._fc7_channels = 4096\n",
    "\n",
    "    def _init_head_tail(self):\n",
    "        # 注意， 通过 models.vgg16() 加载的模型是基础模型，是还没有经过训练的模型， 所以需要load_pretrained_cnn从外部载入已训练好的权重信息\n",
    "        # 而通过 models.vgg16(pretrained=True)，则是已训练好的模型，无需再加载模型，本次实现采用models.vgg16(pretrained=True)，无需再加载了\n",
    "        # 注意预加载的是识别图像的（对于识字的需做更改）\n",
    "        self.vgg = models.vgg16_bn(pretrained=True)\n",
    "        # Remove fc8\n",
    "        self.vgg.classifier = nn.Sequential(*list(self.vgg.classifier._modules.values())[:-1])\n",
    "\n",
    "        # Fix the layers before conv3:\n",
    "        for layer in range(12):\n",
    "            for p in self.vgg.features[layer].parameters(): \n",
    "                p.requires_grad = False\n",
    "\n",
    "        # not using the last maxpool layer\n",
    "        self._layers['head'] = nn.Sequential(*list(self.vgg.features._modules.values())[:-1])\n",
    "#         print(self._layers['head'])\n",
    "\n",
    "\n",
    "    # 通过卷积网络VG16的feature层，抽取图片的特征\n",
    "    def _image_to_head(self):\n",
    "        net_conv = self._layers['head'](self._image)\n",
    "        self._act_summaries['conv'] = net_conv\n",
    "        return net_conv\n",
    "\n",
    "    def _head_to_tail(self, pool5):\n",
    "        pool5_flat = pool5.view(pool5.size(0), -1)\n",
    "        fc7 = self.vgg.classifier(pool5_flat)\n",
    "        return fc7\n",
    "\n",
    "\n",
    "    # 注意， 通过 models.vgg16() 加载的模型是基础模型，是还没有经过训练的模型， 所以需要该方法从外部载入权重信息\n",
    "    # 而通过 models.vgg16(pretrained=True)，则是已训练好的模型，无需再加载模型，本次实现采用models.vgg16(pretrained=True)，\n",
    "    # 无需再加载了\n",
    "    def load_pretrained_cnn(self, state_dict):\n",
    "        self.vgg.load_state_dict({k:v for k,v in state_dict.items() if k in self.vgg.state_dict()})\n"
   ]
  },
  {
   "cell_type": "markdown",
   "metadata": {},
   "source": [
    "# train"
   ]
  },
  {
   "cell_type": "code",
   "execution_count": 5,
   "metadata": {
    "code_folding": [
     5,
     22,
     24,
     48
    ]
   },
   "outputs": [],
   "source": [
    "# https://blog.csdn.net/garfielder007/article/details/51378296  Python numpy函数hstack() vstack() stack() dstack() vsplit() concatenate()\n",
    "from lib.layutils.generate_anchors import generate_anchors\n",
    "import lib.layutils.anchor_target_layer as atl\n",
    "import numpy as np\n",
    "\n",
    "def generate_anchors_pre(height, width, feat_stride, anchor_scales=(8,16,32), anchor_ratios=(0.5,1,2)):\n",
    "    \"\"\" A wrapper function to generate anchors given different scales\n",
    "    Also return the number of anchors in variable 'length'\n",
    "    \"\"\"\n",
    "    anchors = generate_anchors(ratios=np.array(anchor_ratios), scales=np.array(anchor_scales))\n",
    "    A = anchors.shape[0]\n",
    "    shift_x = np.arange(0, width) * feat_stride\n",
    "    shift_y = np.arange(0, height) * feat_stride\n",
    "    shift_x, shift_y = np.meshgrid(shift_x, shift_y)\n",
    "    shifts = np.vstack((shift_x.ravel(), shift_y.ravel(), shift_x.ravel(), shift_y.ravel())).transpose()\n",
    "    K = shifts.shape[0]\n",
    "    # width changes faster, so here it is H, W, C\n",
    "    anchors = anchors.reshape((1, A, 4)) + shifts.reshape((1, K, 4)).transpose((1, 0, 2))\n",
    "    anchors = anchors.reshape((K * A, 4)).astype(np.float32, copy=False)\n",
    "    length = np.int32(anchors.shape[0])\n",
    "    return anchors, length\n",
    "\n",
    "def _anchor_target_layer(rpn_cls_score, gt_boxes, im_info, feat_stride, anchors, num_anchors):\n",
    "#     print('_anchor_target_layer begin .... 开始 。。。。')\n",
    "    rpn_labels, rpn_bbox_targets, rpn_bbox_inside_weights, rpn_bbox_outside_weights = atl.anchor_target_layer(\n",
    "        rpn_cls_score.data,\n",
    "        gt_boxes.data.numpy(),\n",
    "        im_info,\n",
    "        feat_stride,\n",
    "        anchors.data.numpy(),\n",
    "        num_anchors)\n",
    "\n",
    "    rpn_labels = torch.from_numpy(rpn_labels).float() #.set_shape([1, 1, None, None])\n",
    "    rpn_bbox_targets = torch.from_numpy(rpn_bbox_targets).float() #.set_shape([1, None, None, self._num_anchors * 4])\n",
    "    rpn_bbox_inside_weights = torch.from_numpy(rpn_bbox_inside_weights).float() #.set_shape([1, None, None, self._num_anchors * 4])\n",
    "    rpn_bbox_outside_weights = torch.from_numpy(rpn_bbox_outside_weights).float() #.set_shape([1, None, None, self._num_anchors * 4])\n",
    "    rpn_labels = rpn_labels.long()\n",
    "#     self._anchor_targets['rpn_labels'] = rpn_labels\n",
    "#     self._anchor_targets['rpn_bbox_targets'] = rpn_bbox_targets\n",
    "#     self._anchor_targets['rpn_bbox_inside_weights'] = rpn_bbox_inside_weights\n",
    "#     self._anchor_targets['rpn_bbox_outside_weights'] = rpn_bbox_outside_weights\n",
    "#     for k in self._anchor_targets.keys():\n",
    "#         self._score_summaries[k] = self._anchor_targets[k]\n",
    "    \n",
    "\n",
    "    return rpn_labels,rpn_bbox_targets,rpn_bbox_inside_weights,rpn_bbox_outside_weights\n",
    "\n",
    "\n",
    "def _smooth_l1_loss(bbox_pred, bbox_targets, bbox_inside_weights, bbox_outside_weights, sigma=1.0, dim=[1]):\n",
    "    sigma_2 = sigma ** 2\n",
    "    box_diff = bbox_pred - bbox_targets\n",
    "    in_box_diff = bbox_inside_weights * box_diff\n",
    "    abs_in_box_diff = torch.abs(in_box_diff)\n",
    "    smoothL1_sign = (abs_in_box_diff < 1. / sigma_2).detach().float()\n",
    "    in_loss_box = torch.pow(in_box_diff, 2) * (sigma_2 / 2.) * smoothL1_sign \\\n",
    "                  + (abs_in_box_diff - (0.5 / sigma_2)) * (1. - smoothL1_sign)\n",
    "    out_loss_box = bbox_outside_weights * in_loss_box\n",
    "    loss_box = out_loss_box\n",
    "    for i in sorted(dim, reverse=True):\n",
    "        loss_box = loss_box.sum(i)\n",
    "    loss_box = loss_box.mean()\n",
    "    return loss_box\n",
    "\n",
    "def _add_loss(rpn_cls_score_reshape,rpn_labels,\n",
    "              rpn_bbox_pred,\n",
    "              rpn_bbox_targets,\n",
    "              rpn_bbox_inside_weights,\n",
    "              rpn_bbox_outside_weights,\n",
    "             sigma_rpn = 3.0):\n",
    "    rpn_cls_score = rpn_cls_score_reshape.view(-1,2)\n",
    "    \n",
    "    rpn_label = rpn_labels.view(-1)\n",
    "    rpn_select = (rpn_label.data != -1).nonzero().view(-1)\n",
    "    rpn_cls_score = rpn_cls_score.index_select(0, rpn_select).contiguous().view(-1, 2)\n",
    "    rpn_label = rpn_label.index_select(0, rpn_select).contiguous().view(-1)\n",
    "    rpn_cross_entropy = F.cross_entropy(rpn_cls_score, rpn_label)\n",
    "    \n",
    "    rpn_loss_box = _smooth_l1_loss(rpn_bbox_pred, rpn_bbox_targets, rpn_bbox_inside_weights,\n",
    "                                          rpn_bbox_outside_weights, sigma=sigma_rpn, dim=[1, 2, 3])\n",
    "    \n",
    "    loss = rpn_cross_entropy + rpn_loss_box\n",
    "    return loss,rpn_cross_entropy, rpn_loss_box\n"
   ]
  },
  {
   "cell_type": "code",
   "execution_count": 11,
   "metadata": {
    "code_folding": [
     16,
     21
    ]
   },
   "outputs": [
    {
     "name": "stdout",
     "output_type": "stream",
     "text": [
      "train image name : num 0 : D:\\PROJECT_TW\\git\\data\\VOCdevkit2007\\VOC2007\\JPEGImages\\2.jpg\n",
      "rpn class score reshape size torch.Size([1, 2, 370, 54])  --> \n",
      " tensor([[-3.8638e-02, -5.3687e-02],\n",
      "        [-6.2098e-02, -6.4040e-02],\n",
      "        [-7.4151e-02, -6.3653e-02],\n",
      "        ...,\n",
      "        [ 1.7863e-02,  1.7325e-02],\n",
      "        [ 1.7581e-02,  1.6915e-02],\n",
      "        [ 1.5342e-02,  1.5425e-02]])\n",
      "rpn_labels size torch.Size([1, 37, 54, 10])\n",
      "0 total loss --> 100.6487 cls loss --> 0.6932 box loss --> 99.9555\n",
      "save model \n",
      "train image name : num 0 : D:\\PROJECT_TW\\git\\data\\VOCdevkit2007\\VOC2007\\JPEGImages\\1.jpg\n",
      "rpn class score reshape size torch.Size([1, 2, 370, 48])  --> \n",
      " tensor([[-6.0172e-02, -1.0174e-01],\n",
      "        [-1.2617e-01, -1.4795e-01],\n",
      "        [-1.6458e-01, -1.7372e-01],\n",
      "        ...,\n",
      "        [ 1.6348e-02,  1.5770e-02],\n",
      "        [ 1.5759e-02,  1.4195e-02],\n",
      "        [ 1.3197e-02,  1.3025e-02]])\n",
      "rpn_labels size torch.Size([1, 37, 48, 10])\n",
      "1 total loss --> 95.6001 cls loss --> 0.6934 box loss --> 94.9066\n",
      "train image name : num 0 : D:\\PROJECT_TW\\git\\data\\VOCdevkit2007\\VOC2007\\JPEGImages\\2.jpg\n",
      "rpn class score reshape size torch.Size([1, 2, 370, 54])  --> \n",
      " tensor([[-3.0802e-02, -4.0861e-02],\n",
      "        [-4.9218e-02, -5.2215e-02],\n",
      "        [-5.5321e-02, -5.0181e-02],\n",
      "        ...,\n",
      "        [ 2.0212e-02,  1.9713e-02],\n",
      "        [ 1.9311e-02,  1.8427e-02],\n",
      "        [ 1.6091e-02,  1.4688e-02]])\n",
      "rpn_labels size torch.Size([1, 37, 54, 10])\n",
      "2 total loss --> 82.7428 cls loss --> 0.6933 box loss --> 82.0495\n",
      "train image name : num 0 : D:\\PROJECT_TW\\git\\data\\VOCdevkit2007\\VOC2007\\JPEGImages\\1.jpg\n",
      "rpn class score reshape size torch.Size([1, 2, 370, 48])  --> \n",
      " tensor([[-3.9822e-02, -6.8175e-02],\n",
      "        [-9.4084e-02, -1.2159e-01],\n",
      "        [-1.4857e-01, -1.6063e-01],\n",
      "        ...,\n",
      "        [ 1.3229e-02,  1.2059e-02],\n",
      "        [ 1.1912e-02,  1.1472e-02],\n",
      "        [ 1.2444e-02,  1.1595e-02]])\n",
      "rpn_labels size torch.Size([1, 37, 48, 10])\n",
      "3 total loss --> 71.7218 cls loss --> 0.6929 box loss --> 71.0290\n",
      "train image name : num 0 : D:\\PROJECT_TW\\git\\data\\VOCdevkit2007\\VOC2007\\JPEGImages\\1.jpg\n",
      "rpn class score reshape size torch.Size([1, 2, 370, 48])  --> \n",
      " tensor([[-3.8066e-02, -6.6571e-02],\n",
      "        [-8.7190e-02, -1.1469e-01],\n",
      "        [-1.4449e-01, -1.4796e-01],\n",
      "        ...,\n",
      "        [ 1.3605e-02,  1.2805e-02],\n",
      "        [ 1.2822e-02,  1.2804e-02],\n",
      "        [ 1.3587e-02,  1.1889e-02]])\n",
      "rpn_labels size torch.Size([1, 37, 48, 10])\n",
      "4 total loss --> 61.3781 cls loss --> 0.6937 box loss --> 60.6844\n",
      "train image name : num 0 : D:\\PROJECT_TW\\git\\data\\VOCdevkit2007\\VOC2007\\JPEGImages\\1.jpg\n",
      "rpn class score reshape size torch.Size([1, 2, 370, 48])  --> \n",
      " tensor([[-3.6927e-02, -6.6396e-02],\n",
      "        [-9.1732e-02, -1.1733e-01],\n",
      "        [-1.4065e-01, -1.3373e-01],\n",
      "        ...,\n",
      "        [ 1.4917e-02,  1.3991e-02],\n",
      "        [ 1.4105e-02,  1.3739e-02],\n",
      "        [ 1.3289e-02,  1.1059e-02]])\n",
      "rpn_labels size torch.Size([1, 37, 48, 10])\n",
      "5 total loss --> 51.5186 cls loss --> 0.6934 box loss --> 50.8252\n",
      "train image name : num 0 : D:\\PROJECT_TW\\git\\data\\VOCdevkit2007\\VOC2007\\JPEGImages\\2.jpg\n",
      "rpn class score reshape size torch.Size([1, 2, 370, 54])  --> \n",
      " tensor([[-2.3194e-02, -2.8597e-02],\n",
      "        [-3.6707e-02, -4.3182e-02],\n",
      "        [-5.4932e-02, -6.8349e-02],\n",
      "        ...,\n",
      "        [ 1.8782e-02,  1.7379e-02],\n",
      "        [ 1.5798e-02,  1.3484e-02],\n",
      "        [ 9.7204e-03,  5.7350e-03]])\n",
      "rpn_labels size torch.Size([1, 37, 54, 10])\n",
      "6 total loss --> 60.2606 cls loss --> 0.6938 box loss --> 59.5668\n",
      "train image name : num 0 : D:\\PROJECT_TW\\git\\data\\VOCdevkit2007\\VOC2007\\JPEGImages\\1.jpg\n"
     ]
    },
    {
     "ename": "KeyboardInterrupt",
     "evalue": "",
     "output_type": "error",
     "traceback": [
      "\u001b[1;31m---------------------------------------------------------------------------\u001b[0m",
      "\u001b[1;31mKeyboardInterrupt\u001b[0m                         Traceback (most recent call last)",
      "\u001b[1;32m<ipython-input-11-f717a9295c64>\u001b[0m in \u001b[0;36m<module>\u001b[1;34m()\u001b[0m\n\u001b[0;32m     41\u001b[0m     \u001b[0mgt_boxes\u001b[0m \u001b[1;33m=\u001b[0m \u001b[0mtorch\u001b[0m\u001b[1;33m.\u001b[0m\u001b[0mfrom_numpy\u001b[0m\u001b[1;33m(\u001b[0m\u001b[0mblobs\u001b[0m\u001b[1;33m[\u001b[0m\u001b[1;34m'gt_boxes'\u001b[0m\u001b[1;33m]\u001b[0m\u001b[1;33m)\u001b[0m\u001b[1;33m\u001b[0m\u001b[0m\n\u001b[0;32m     42\u001b[0m \u001b[1;31m#     print(image.size())\u001b[0m\u001b[1;33m\u001b[0m\u001b[1;33m\u001b[0m\u001b[0m\n\u001b[1;32m---> 43\u001b[1;33m     \u001b[0mnet_conv\u001b[0m \u001b[1;33m=\u001b[0m \u001b[0mnet\u001b[0m\u001b[1;33m.\u001b[0m\u001b[0m_layers\u001b[0m\u001b[1;33m[\u001b[0m\u001b[1;34m'head'\u001b[0m\u001b[1;33m]\u001b[0m\u001b[1;33m(\u001b[0m\u001b[0mimage\u001b[0m\u001b[1;33m)\u001b[0m\u001b[1;33m\u001b[0m\u001b[0m\n\u001b[0m\u001b[0;32m     44\u001b[0m \u001b[1;31m#     print('net conv size --> {}'.format(net_conv.size()))\u001b[0m\u001b[1;33m\u001b[0m\u001b[1;33m\u001b[0m\u001b[0m\n\u001b[0;32m     45\u001b[0m \u001b[1;33m\u001b[0m\u001b[0m\n",
      "\u001b[1;32md:\\project_tw\\anly\\venv\\lib\\site-packages\\torch\\nn\\modules\\module.py\u001b[0m in \u001b[0;36m__call__\u001b[1;34m(self, *input, **kwargs)\u001b[0m\n\u001b[0;32m    489\u001b[0m             \u001b[0mresult\u001b[0m \u001b[1;33m=\u001b[0m \u001b[0mself\u001b[0m\u001b[1;33m.\u001b[0m\u001b[0m_slow_forward\u001b[0m\u001b[1;33m(\u001b[0m\u001b[1;33m*\u001b[0m\u001b[0minput\u001b[0m\u001b[1;33m,\u001b[0m \u001b[1;33m**\u001b[0m\u001b[0mkwargs\u001b[0m\u001b[1;33m)\u001b[0m\u001b[1;33m\u001b[0m\u001b[0m\n\u001b[0;32m    490\u001b[0m         \u001b[1;32melse\u001b[0m\u001b[1;33m:\u001b[0m\u001b[1;33m\u001b[0m\u001b[0m\n\u001b[1;32m--> 491\u001b[1;33m             \u001b[0mresult\u001b[0m \u001b[1;33m=\u001b[0m \u001b[0mself\u001b[0m\u001b[1;33m.\u001b[0m\u001b[0mforward\u001b[0m\u001b[1;33m(\u001b[0m\u001b[1;33m*\u001b[0m\u001b[0minput\u001b[0m\u001b[1;33m,\u001b[0m \u001b[1;33m**\u001b[0m\u001b[0mkwargs\u001b[0m\u001b[1;33m)\u001b[0m\u001b[1;33m\u001b[0m\u001b[0m\n\u001b[0m\u001b[0;32m    492\u001b[0m         \u001b[1;32mfor\u001b[0m \u001b[0mhook\u001b[0m \u001b[1;32min\u001b[0m \u001b[0mself\u001b[0m\u001b[1;33m.\u001b[0m\u001b[0m_forward_hooks\u001b[0m\u001b[1;33m.\u001b[0m\u001b[0mvalues\u001b[0m\u001b[1;33m(\u001b[0m\u001b[1;33m)\u001b[0m\u001b[1;33m:\u001b[0m\u001b[1;33m\u001b[0m\u001b[0m\n\u001b[0;32m    493\u001b[0m             \u001b[0mhook_result\u001b[0m \u001b[1;33m=\u001b[0m \u001b[0mhook\u001b[0m\u001b[1;33m(\u001b[0m\u001b[0mself\u001b[0m\u001b[1;33m,\u001b[0m \u001b[0minput\u001b[0m\u001b[1;33m,\u001b[0m \u001b[0mresult\u001b[0m\u001b[1;33m)\u001b[0m\u001b[1;33m\u001b[0m\u001b[0m\n",
      "\u001b[1;32md:\\project_tw\\anly\\venv\\lib\\site-packages\\torch\\nn\\modules\\container.py\u001b[0m in \u001b[0;36mforward\u001b[1;34m(self, input)\u001b[0m\n\u001b[0;32m     89\u001b[0m     \u001b[1;32mdef\u001b[0m \u001b[0mforward\u001b[0m\u001b[1;33m(\u001b[0m\u001b[0mself\u001b[0m\u001b[1;33m,\u001b[0m \u001b[0minput\u001b[0m\u001b[1;33m)\u001b[0m\u001b[1;33m:\u001b[0m\u001b[1;33m\u001b[0m\u001b[0m\n\u001b[0;32m     90\u001b[0m         \u001b[1;32mfor\u001b[0m \u001b[0mmodule\u001b[0m \u001b[1;32min\u001b[0m \u001b[0mself\u001b[0m\u001b[1;33m.\u001b[0m\u001b[0m_modules\u001b[0m\u001b[1;33m.\u001b[0m\u001b[0mvalues\u001b[0m\u001b[1;33m(\u001b[0m\u001b[1;33m)\u001b[0m\u001b[1;33m:\u001b[0m\u001b[1;33m\u001b[0m\u001b[0m\n\u001b[1;32m---> 91\u001b[1;33m             \u001b[0minput\u001b[0m \u001b[1;33m=\u001b[0m \u001b[0mmodule\u001b[0m\u001b[1;33m(\u001b[0m\u001b[0minput\u001b[0m\u001b[1;33m)\u001b[0m\u001b[1;33m\u001b[0m\u001b[0m\n\u001b[0m\u001b[0;32m     92\u001b[0m         \u001b[1;32mreturn\u001b[0m \u001b[0minput\u001b[0m\u001b[1;33m\u001b[0m\u001b[0m\n\u001b[0;32m     93\u001b[0m \u001b[1;33m\u001b[0m\u001b[0m\n",
      "\u001b[1;32md:\\project_tw\\anly\\venv\\lib\\site-packages\\torch\\nn\\modules\\module.py\u001b[0m in \u001b[0;36m__call__\u001b[1;34m(self, *input, **kwargs)\u001b[0m\n\u001b[0;32m    489\u001b[0m             \u001b[0mresult\u001b[0m \u001b[1;33m=\u001b[0m \u001b[0mself\u001b[0m\u001b[1;33m.\u001b[0m\u001b[0m_slow_forward\u001b[0m\u001b[1;33m(\u001b[0m\u001b[1;33m*\u001b[0m\u001b[0minput\u001b[0m\u001b[1;33m,\u001b[0m \u001b[1;33m**\u001b[0m\u001b[0mkwargs\u001b[0m\u001b[1;33m)\u001b[0m\u001b[1;33m\u001b[0m\u001b[0m\n\u001b[0;32m    490\u001b[0m         \u001b[1;32melse\u001b[0m\u001b[1;33m:\u001b[0m\u001b[1;33m\u001b[0m\u001b[0m\n\u001b[1;32m--> 491\u001b[1;33m             \u001b[0mresult\u001b[0m \u001b[1;33m=\u001b[0m \u001b[0mself\u001b[0m\u001b[1;33m.\u001b[0m\u001b[0mforward\u001b[0m\u001b[1;33m(\u001b[0m\u001b[1;33m*\u001b[0m\u001b[0minput\u001b[0m\u001b[1;33m,\u001b[0m \u001b[1;33m**\u001b[0m\u001b[0mkwargs\u001b[0m\u001b[1;33m)\u001b[0m\u001b[1;33m\u001b[0m\u001b[0m\n\u001b[0m\u001b[0;32m    492\u001b[0m         \u001b[1;32mfor\u001b[0m \u001b[0mhook\u001b[0m \u001b[1;32min\u001b[0m \u001b[0mself\u001b[0m\u001b[1;33m.\u001b[0m\u001b[0m_forward_hooks\u001b[0m\u001b[1;33m.\u001b[0m\u001b[0mvalues\u001b[0m\u001b[1;33m(\u001b[0m\u001b[1;33m)\u001b[0m\u001b[1;33m:\u001b[0m\u001b[1;33m\u001b[0m\u001b[0m\n\u001b[0;32m    493\u001b[0m             \u001b[0mhook_result\u001b[0m \u001b[1;33m=\u001b[0m \u001b[0mhook\u001b[0m\u001b[1;33m(\u001b[0m\u001b[0mself\u001b[0m\u001b[1;33m,\u001b[0m \u001b[0minput\u001b[0m\u001b[1;33m,\u001b[0m \u001b[0mresult\u001b[0m\u001b[1;33m)\u001b[0m\u001b[1;33m\u001b[0m\u001b[0m\n",
      "\u001b[1;32md:\\project_tw\\anly\\venv\\lib\\site-packages\\torch\\nn\\modules\\conv.py\u001b[0m in \u001b[0;36mforward\u001b[1;34m(self, input)\u001b[0m\n\u001b[0;32m    299\u001b[0m     \u001b[1;32mdef\u001b[0m \u001b[0mforward\u001b[0m\u001b[1;33m(\u001b[0m\u001b[0mself\u001b[0m\u001b[1;33m,\u001b[0m \u001b[0minput\u001b[0m\u001b[1;33m)\u001b[0m\u001b[1;33m:\u001b[0m\u001b[1;33m\u001b[0m\u001b[0m\n\u001b[0;32m    300\u001b[0m         return F.conv2d(input, self.weight, self.bias, self.stride,\n\u001b[1;32m--> 301\u001b[1;33m                         self.padding, self.dilation, self.groups)\n\u001b[0m\u001b[0;32m    302\u001b[0m \u001b[1;33m\u001b[0m\u001b[0m\n\u001b[0;32m    303\u001b[0m \u001b[1;33m\u001b[0m\u001b[0m\n",
      "\u001b[1;31mKeyboardInterrupt\u001b[0m: "
     ]
    }
   ],
   "source": [
    "DEBUG = True\n",
    "# feat_stride：[16]VGG中conv5_3相比于输入图像缩小了16倍，也就是相邻两个点之间的stride=16 \n",
    "feat_stride = [16, ]\n",
    "ANCHOR_SCALES = [16]\n",
    "ANCHOR_RATIOS = [0.5,1,2]\n",
    "MOMENTUM = 0.9\n",
    "lr = 0.001\n",
    "DOUBLE_BIAS = True\n",
    "BIAS_DECAY = False\n",
    "WEIGHT_DECAY = 0.0005\n",
    "EPCHO = 5000\n",
    "num_anchors = 10\n",
    "\n",
    "net = vgg16()\n",
    "# print(imdb.num_classes)\n",
    "\n",
    "net.create_architecture(imdb.num_classes, tag='default',\n",
    "                                            anchor_scales=ANCHOR_SCALES,\n",
    "                                            anchor_ratios=ANCHOR_RATIOS)\n",
    "params = []\n",
    "\n",
    "for key, value in dict(net.named_parameters()).items():\n",
    "    if value.requires_grad:\n",
    "        if 'bias' in key:\n",
    "              params += [{'params':[value],'lr':lr*(DOUBLE_BIAS + 1), \n",
    "                  'weight_decay': BIAS_DECAY and WEIGHT_DECAY or 0}]\n",
    "        else:\n",
    "              params += [{'params':[value],'lr':lr, \n",
    "                  'weight_decay': WEIGHT_DECAY}]\n",
    "                \n",
    "# if os.path.exists('D:\\\\PROJECT_TW\\\\git\\\\data\\\\example\\\\model\\\\text_detect.pkl'):\n",
    "#     net.load_state_dict(torch.load('D:\\\\PROJECT_TW\\\\git\\\\data\\\\example\\\\model\\\\text_detect.pkl'))\n",
    "                \n",
    "\n",
    "optimizer = torch.optim.SGD(params,lr=lr, momentum=MOMENTUM)\n",
    "\n",
    "for step in range(EPCHO):\n",
    "    blobs = data_layer.forward()\n",
    "    image = torch.from_numpy(blobs['data'].transpose([0,3,1,2]))\n",
    "    im_info = blobs['im_info']\n",
    "    gt_boxes = torch.from_numpy(blobs['gt_boxes'])\n",
    "#     print(image.size())\n",
    "    net_conv = net._layers['head'](image)\n",
    "#     print('net conv size --> {}'.format(net_conv.size()))\n",
    "    \n",
    "    # height, width   build the anchors for the image\n",
    "#     print('net conv size {}'.format(net_conv.size()))\n",
    "    anchors, length = generate_anchors_pre(net_conv.size(2), net_conv.size(3),feat_stride=feat_stride,anchor_scales=(16,))\n",
    "    anchors = torch.from_numpy(anchors)\n",
    "#     print('anchors shape {}'.format(anchors.shape))\n",
    "    rpn = F.relu(net.rpn_net(net_conv))  # ( N , C, H, W）\n",
    "    \n",
    "    # ( N , C, H, W）  --》 （N * H, W, C)\n",
    "    rpn_reshape = rpn.permute(0,2,3,1).squeeze(0)\n",
    "    \n",
    "    # 双向LSTM网络   -->  (N*H, W, C)\n",
    "    rpn_blstm,_ = net.rpn_bi_net(rpn_reshape)\n",
    "    rpn_blstm = F.relu(rpn_blstm)  # 注意另外可以考虑采用batch normal方法对数据进行整理\n",
    "    \n",
    "    # test detect 采用随机生成 偏移变量数组和得分初始化数组  \n",
    "    # 与rpn_blsm[N*H*W,C]矩阵相乘方式得到其偏移和分类得分 [N,H,W,4*num anchor或2]\n",
    "    # 这里暂时用lstm 来代替，后面需改成上述方案实现\n",
    "    rpn_cls_score,_ = net.rpn_cls_score_net(rpn_blstm)   # [W H, num_anchors*2], num_anchors = 10\n",
    "#     print('rpn cls score size {}'.format(rpn_cls_score.size()))\n",
    "\n",
    "    \n",
    "    rpn_cls_score = rpn_cls_score.permute(2,0,1).unsqueeze(0)\n",
    "    rpn_cls_score_reshape = rpn_cls_score.contiguous().view(1,2,-1,rpn_cls_score.size()[3])  # N , 2*10, H, W   --->  N, 2, 10*H , W\n",
    "    rpn_cls_score = rpn_cls_score.permute(0,2,3,1)\n",
    "       \n",
    "    # 得到坐标点的10个分类概率（二分类方法)\n",
    "    rpn_cls_prob_reshape = F.softmax(rpn_cls_score_reshape,dim=1)           # N 2 H*NUM_ANCHORS W\n",
    "    rpn_cls_prob = rpn_cls_prob_reshape.view(1,2*10,-1,rpn_cls_prob_reshape.shape[-1])  # N,2,num_anch*h, w --> N, 2*num_anchor h w\n",
    "    rpn_cls_prob = rpn_cls_prob.permute(0,2,3,1)\n",
    "    \n",
    "    rpn_cls_pred = rpn_cls_score_reshape.permute(0,2,3,1).contiguous()   # N H*NUM_ANCHORS W 2\n",
    "    rpn_cls_pred = torch.max(rpn_cls_pred.view(-1,2),1)[1]\n",
    "    \n",
    "    rpn_bbox_pred,_ = net.rpn_bbox_pred_net(rpn_blstm)   # [W H, num_anchors*4], num_anchors = 10\n",
    "    rpn_bbox_pred = rpn_bbox_pred.unsqueeze(0)\n",
    "\n",
    "    \n",
    "        \n",
    "    rpn_labels,rpn_bbox_targets,rpn_bbox_inside_weights,rpn_bbox_outside_weights = _anchor_target_layer(rpn_cls_score,\n",
    "                                                                                                        gt_boxes,\n",
    "                                                                                                        im_info,\n",
    "                                                                                                        feat_stride,\n",
    "                                                                                                        anchors,\n",
    "                                                                                                        num_anchors)\n",
    "#     print('rpn bbox targets --> \\n {}'.format(rpn_bbox_targets))\n",
    "    if DEBUG:\n",
    "        print('rpn class score reshape size {}  --> \\n {}'.format(rpn_cls_score_reshape.size(),rpn_cls_score_reshape.view(-1,2)))\n",
    "        print('rpn_labels size {}'.format(rpn_labels.size()))\n",
    "        \n",
    "    loss,cls_loss,box_loss = _add_loss(rpn_cls_score_reshape,rpn_labels,rpn_bbox_pred,\n",
    "                     rpn_bbox_targets,rpn_bbox_inside_weights,rpn_bbox_outside_weights)\n",
    "    \n",
    "    print('{} total loss --> {:.4f} cls loss --> {:.4f} box loss --> {:.4f}'.format(step,loss,cls_loss, box_loss))\n",
    "    optimizer.zero_grad()\n",
    "    loss.backward()\n",
    "    optimizer.step()\n",
    "    if step % 10 == 0:\n",
    "        print('save model ')\n",
    "        torch.save(net.state_dict(), 'D:\\\\PROJECT_TW\\\\git\\\\data\\\\example\\\\model\\\\text_detect.pkl')\n",
    "    \n",
    "    "
   ]
  },
  {
   "cell_type": "code",
   "execution_count": 32,
   "metadata": {
    "code_folding": [
     0
    ]
   },
   "outputs": [
    {
     "name": "stdout",
     "output_type": "stream",
     "text": [
      "_anchor_target_layer begin .... 开始 。。。。\n",
      "torch.Size([1, 37, 54, 10])\n"
     ]
    }
   ],
   "source": [
    "# 重新加载某模块\n",
    "import lib.layutils.anchor_target_layer as atl\n",
    "import importlib\n",
    "importlib.reload(atl)\n",
    "\n",
    "import lib.utils.bbox as bbox\n",
    "importlib.reload(bbox)\n",
    "# print(rpn_cls_score.shape[1:3])\n",
    "rpn_labels = _anchor_target_layer(rpn_cls_score,\n",
    "                                  gt_boxes,\n",
    "                                  im_info,\n",
    "                                  feat_stride,\n",
    "                                  anchors,\n",
    "                                  num_anchors\n",
    "                                 )\n",
    "print(rpn_labels.size())"
   ]
  },
  {
   "cell_type": "code",
   "execution_count": 7,
   "metadata": {},
   "outputs": [],
   "source": [
    "torch.save(net.state_dict(), 'D:\\\\PROJECT_TW\\\\git\\\\data\\\\example\\\\model\\\\text_detect.pkl')"
   ]
  },
  {
   "cell_type": "markdown",
   "metadata": {
    "heading_collapsed": true
   },
   "source": [
    "# valid"
   ]
  },
  {
   "cell_type": "code",
   "execution_count": 16,
   "metadata": {
    "code_folding": [
     5,
     8
    ],
    "hidden": true
   },
   "outputs": [],
   "source": [
    "feat_stride = [16, ]\n",
    "ANCHOR_SCALES = [16]\n",
    "ANCHOR_RATIOS = [0.5,1,2]\n",
    "num_anchors = 10\n",
    "net = vgg16()\n",
    "net.create_architecture(imdb.num_classes, tag='default',\n",
    "                                            anchor_scales=ANCHOR_SCALES,\n",
    "                                            anchor_ratios=ANCHOR_RATIOS)    \n",
    "if os.path.exists('D:\\\\PROJECT_TW\\\\git\\\\data\\\\example\\\\model\\\\text_detect.pkl'):\n",
    "    net.load_state_dict(torch.load('D:\\\\PROJECT_TW\\\\git\\\\data\\\\example\\\\model\\\\text_detect.pkl'))"
   ]
  },
  {
   "cell_type": "code",
   "execution_count": 16,
   "metadata": {
    "code_folding": [
     19,
     37,
     51
    ],
    "hidden": true
   },
   "outputs": [
    {
     "name": "stdout",
     "output_type": "stream",
     "text": [
      "train image name : num 0 : D:\\PROJECT_TW\\git\\data\\VOCdevkit2007\\VOC2007\\JPEGImages\\1.jpg\n",
      "rpn cls score size --> torch.Size([1, 37, 48, 20])\n",
      "rpn cls prob reshape size --> torch.Size([1, 2, 370, 48])\n",
      "rpn cls prob size -->torch.Size([1, 20, 37, 48])\n",
      "rpn cls prob size -->torch.Size([1, 37, 48, 20])\n",
      "rpn cls pred size -->torch.Size([1, 370, 48, 2])\n",
      "handle times 11.8503\n",
      "dets --> \n",
      " [[1.6000000e+01 4.0684227e+01 3.2000000e+01 5.8899361e+01 6.1923158e-01]\n",
      " [3.2000000e+01 4.8956659e+02 4.8000000e+01 5.0880182e+02 6.1848402e-01]\n",
      " [1.9200000e+02 1.0629588e+02 2.0800000e+02 1.2628435e+02 6.1564857e-01]\n",
      " ...\n",
      " [6.7200000e+02 1.5712184e+02 6.8800000e+02 1.7984111e+02 5.5194074e-01]\n",
      " [1.7600000e+02 4.7730573e+02 1.9200000e+02 4.9745715e+02 5.5189371e-01]\n",
      " [7.3600000e+02 2.8391422e+02 7.5200000e+02 3.0635355e+02 5.5188316e-01]]\n",
      "[[176  92 224  92 176 112 224 112   0]]\n"
     ]
    },
    {
     "name": "stderr",
     "output_type": "stream",
     "text": [
      "Clipping input data to the valid range for imshow with RGB data ([0..1] for floats or [0..255] for integers).\n"
     ]
    },
    {
     "data": {
      "image/png": "[encoded data removed]",
      "text/plain": [
       "<Figure size 1080x720 with 1 Axes>"
      ]
     },
     "metadata": {},
     "output_type": "display_data"
    }
   ],
   "source": [
    "import lib.text_connector.text_proposal_connector as tpc\n",
    "import lib.utils.nms as nms\n",
    "import lib.layutils.proposal_layer as psl\n",
    "import matplotlib.pyplot as plt\n",
    "import cv2\n",
    "import numpy as np\n",
    "import importlib\n",
    "importlib.reload(tpc)\n",
    "importlib.reload(psl)\n",
    "import time\n",
    "\n",
    "DEBUG = True\n",
    "\n",
    "def connect_proposal(text_proposals, scores, im_size):\n",
    "    cp = tpc.TextProposalConnector()\n",
    "    line = cp.get_text_lines(text_proposals, scores, im_size)\n",
    "    return line\n",
    "\n",
    "\n",
    "def save_results(image_name, im, line, thresh):\n",
    "    inds = np.where(line[:, -1] >= thresh)[0]\n",
    "#     print('inds --->{}'.format(len(inds)))\n",
    "    if len(inds) == 0:\n",
    "        return\n",
    "    \n",
    "    for i in inds:\n",
    "        bbox = line[i, :]\n",
    "#         print('bbox {}--> \\n {}'.format(i,bbox))\n",
    "        score = line[i, -1]\n",
    "        cv2.rectangle(\n",
    "            im, (bbox[0], bbox[1]), (bbox[6], bbox[7]),\n",
    "            color=(0, 255, 255),\n",
    "            thickness=2)\n",
    "    plt.imshow(im,'brg')\n",
    "    plt.show()\n",
    "    cv2.imwrite('d:\\\\1.jpg',im)\n",
    "    \n",
    "def testConnectProposal():\n",
    "    plt.rcParams['figure.figsize'] = 15, 10\n",
    "    img = cv2.imread(roidb[1]['image'])\n",
    "    boxes = roidb[1]['boxes']\n",
    "    scores = np.ones(boxes.shape[0])\n",
    "    CONF_THRESH = 0.9\n",
    "    NMS_THRESH = 0.3\n",
    "    dets = np.hstack((boxes, scores[:, np.newaxis])).astype(np.float32)\n",
    "    keep = nms.nms(dets, NMS_THRESH)\n",
    "    dets = dets[keep,:]\n",
    "    line = connect_proposal(dets[:, 0:4], dets[:, 4], img.shape)\n",
    "    line = line.astype(int)\n",
    "    save_results(\"newimg.jpg\", img, line, thresh=0.7)\n",
    "\n",
    "def validNet():\n",
    "    feat_stride = [16, ]\n",
    "    ANCHOR_SCALES = [16]\n",
    "    ANCHOR_RATIOS = [0.5,1,2]\n",
    "    num_anchors = 10\n",
    "\n",
    "    blobs = data_layer.forward()\n",
    "    \n",
    "    image = blobs['data']\n",
    "    image_src = image.copy()\n",
    "    im_info = blobs['im_info']\n",
    "    \n",
    "    image = torch.from_numpy(blobs['data'].transpose([0,3,1,2]))\n",
    "    net.eval()\n",
    "    net_conv = net._layers['head'](image)\n",
    "    anchors, length = generate_anchors_pre(net_conv.size(2), net_conv.size(3),feat_stride=feat_stride,anchor_scales=(16,))\n",
    "    anchors = torch.from_numpy(anchors)\n",
    "    rpn = F.relu(net.rpn_net(net_conv))\n",
    "    rpn_reshape = rpn.permute(0,2,3,1).squeeze(0)\n",
    "    rpn_blstm,_ = net.rpn_bi_net(rpn_reshape)\n",
    "    rpn_blstm = F.relu(rpn_blstm) \n",
    "    rpn_cls_score,_ = net.rpn_cls_score_net(rpn_blstm)\n",
    "    rpn_cls_score = rpn_cls_score.permute(2,0,1).unsqueeze(0)\n",
    "    rpn_cls_score_reshape = rpn_cls_score.contiguous().view(1,2,-1,rpn_cls_score.size()[3]) \n",
    "    rpn_cls_score = rpn_cls_score.permute(0,2,3,1)\n",
    "    rpn_cls_prob_reshape = F.softmax(rpn_cls_score_reshape,dim=1)  \n",
    "    \n",
    "    if DEBUG:\n",
    "        print('rpn cls score size --> {}'.format(rpn_cls_score.size()))\n",
    "        print('rpn cls prob reshape size --> {}'.format(rpn_cls_score_reshape.size()))\n",
    "        \n",
    "    rpn_cls_prob = rpn_cls_prob_reshape.view(1,2*10,-1,rpn_cls_prob_reshape.shape[-1])  # N,2,num_anch*h, w --> N, 2*num_anchor h w\n",
    "    if DEBUG:\n",
    "        print('rpn cls prob size -->{}'.format(rpn_cls_prob.size()))\n",
    "    \n",
    "    rpn_cls_prob = rpn_cls_prob.permute(0,2,3,1)\n",
    "    \n",
    "    if DEBUG:\n",
    "        print('rpn cls prob size -->{}'.format(rpn_cls_prob.size()))    \n",
    "        \n",
    "    rpn_cls_pred = rpn_cls_score_reshape.permute(0,2,3,1).contiguous()\n",
    "    if DEBUG:\n",
    "        print('rpn cls pred size -->{}'.format(rpn_cls_pred.size()))    \n",
    "    \n",
    "    rpn_cls_pred = torch.max(rpn_cls_pred.view(-1,2),1)[1]\n",
    "    rpn_bbox_pred,_ = net.rpn_bbox_pred_net(rpn_blstm) \n",
    "    rpn_bbox_pred = rpn_bbox_pred.unsqueeze(0)\n",
    "    \n",
    "    blob, scores = psl.proposal_layer(rpn_cls_prob, \n",
    "                                      rpn_bbox_pred.contiguous(),\n",
    "                                      im_info,\n",
    "                                      'TEST',\n",
    "                                      feat_stride,\n",
    "                                      anchors,\n",
    "                                      num_anchors)\n",
    "    return image_src, blob, scores\n",
    "\n",
    "def showValidNet():\n",
    "    start_time = time.time()\n",
    "    with torch.no_grad():\n",
    "        image_src, blob, scores = validNet()\n",
    "    print('handle times {:.4f}'.format((time.time() - start_time)))  \n",
    "    plt.rcParams['figure.figsize'] = 15, 10\n",
    "    boxes = blob.data.numpy()[:,1:5]\n",
    "    score = scores.data.numpy()\n",
    "    score = score.reshape(score.shape[0])\n",
    "#     print('score --> \\n {}'.format(score))\n",
    "    image_new = image_src.reshape(image_src.shape[1],image_src.shape[2], image_src.shape[3])\n",
    "\n",
    "    dets = np.hstack((boxes, score[:, np.newaxis])).astype(np.float32)\n",
    "    keep = nms.nms(dets, 0.3)\n",
    "    dets = dets[keep,:]\n",
    "    print('dets --> \\n {}'.format(dets))\n",
    "    line = connect_proposal(dets[:, 0:4], dets[:, 4], image_new.shape)\n",
    "    line = line.astype(int)\n",
    "#     print(line)\n",
    "    # image_new = image_src.reshape(image_src.shape[1],image_src.shape[2], image_src.shape[3])\n",
    "    print(line[0:1])\n",
    "    save_results('newimg.jpg',image_new, line[0:1], 0)    \n",
    "    \n",
    "showValidNet()\n"
   ]
  },
  {
   "cell_type": "code",
   "execution_count": 13,
   "metadata": {
    "hidden": true
   },
   "outputs": [
    {
     "ename": "NameError",
     "evalue": "name 'score' is not defined",
     "output_type": "error",
     "traceback": [
      "\u001b[1;31m---------------------------------------------------------------------------\u001b[0m",
      "\u001b[1;31mNameError\u001b[0m                                 Traceback (most recent call last)",
      "\u001b[1;32m<ipython-input-13-4405d376f933>\u001b[0m in \u001b[0;36m<module>\u001b[1;34m()\u001b[0m\n\u001b[1;32m----> 1\u001b[1;33m \u001b[0mprint\u001b[0m\u001b[1;33m(\u001b[0m\u001b[0mscore\u001b[0m\u001b[1;33m)\u001b[0m\u001b[1;33m\u001b[0m\u001b[0m\n\u001b[0m",
      "\u001b[1;31mNameError\u001b[0m: name 'score' is not defined"
     ]
    }
   ],
   "source": [
    "print(score)"
   ]
  }
 ],
 "metadata": {
  "kernelspec": {
   "display_name": "Python 3",
   "language": "python",
   "name": "python3"
  },
  "language_info": {
   "codemirror_mode": {
    "name": "ipython",
    "version": 3
   },
   "file_extension": ".py",
   "mimetype": "text/x-python",
   "name": "python",
   "nbconvert_exporter": "python",
   "pygments_lexer": "ipython3",
   "version": "3.6.3"
  }
 },
 "nbformat": 4,
 "nbformat_minor": 2
}
