{
 "cells": [
  {
   "cell_type": "markdown",
   "metadata": {},
   "source": [
    "# 准备数据"
   ]
  },
  {
   "cell_type": "code",
   "execution_count": 101,
   "metadata": {},
   "outputs": [
    {
     "name": "stdout",
     "output_type": "stream",
     "text": [
      "家居 家居\n",
      "彩票 彩票\n",
      "房产 房产\n",
      "教育 教育\n",
      "股票 股票\n",
      "财经 财经\n"
     ]
    }
   ],
   "source": [
    "import lib.data.dataset as ds\n",
    "import importlib\n",
    "from torch.utils import data\n",
    "importlib.reload(ds)\n",
    "data_path = 'D:/PROJECT_TW/git/data/nlp/w2v/data/'\n",
    "model_path = 'D:/PROJECT_TW/git/data/nlp/w2v/'\n",
    "eds = ds.EduData(data_path, model_path)"
   ]
  },
  {
   "cell_type": "code",
   "execution_count": 35,
   "metadata": {},
   "outputs": [],
   "source": [
    "# print(eds.labels_index)\n",
    "# print(eds.texts[1000])\n",
    "# wid,labels = eds.__getitem__(1000)\n",
    "# print(wid)\n",
    "# print(eds.idx_to_word[5312])\n",
    "# print(eds.embedding_matrix[5312])\n",
    "# print(eds.word_vec_mod.wv.get_vector('一个'))\n",
    "# print(labels)"
   ]
  },
  {
   "cell_type": "code",
   "execution_count": 107,
   "metadata": {
    "scrolled": false
   },
   "outputs": [
    {
     "name": "stdout",
     "output_type": "stream",
     "text": [
      "tensor([ 2,  3]):1 --> [tensor([  2385,  12405,  12442,  12322,   2398]), tensor([  8733,    509,    232,  10968,   8435]), tensor([   509,  13427,   5116,    280,   3182]), tensor([ 2750,  8064,  5187,  1068,  8910]), tensor([ 5275,  6731,   986,  6439,  2746]), tensor([  9744,  12168,  13427,   6439,  12108]), tensor([  5275,   2724,   8772,   6439,  13427]), tensor([  6439,   4830,   7024,   6439,  10153]), tensor([  6439,   8444,   4178,   6439,  13329]), tensor([ 6439,  4958,  5865,  6439,  3174]), tensor([  6439,   1796,  10270,   6439,   3132]), tensor([ 6439,  8954,  1454,  6439,  1555]), tensor([ 6439,  4160,  3540,  6439,  3741]), tensor([  6439,  11999,   5116,   6439,   2723]), tensor([  6439,  13427,   9555,   6439,   1660]), tensor([  6439,    235,   4563,   6439,  12076]), tensor([  6439,   6416,  12364,   6439,   7902]), tensor([  6439,  12018,   3679,   6439,   2685]), tensor([  6439,  12062,  12304,   6439,  13427]), tensor([ 6439,  5688,  9579,  6439,  9033]), tensor([  6439,    544,  11168,   6439,   1137]), tensor([  6439,  11999,  11211,   6439,    882]), tensor([  6439,    580,  13427,   6439,  11156]), tensor([  6439,  13427,  12971,   6439,  12646]), tensor([ 6439,  1311,   898,  6439,  7267]), tensor([ 6439,  6839,  7986,  6439,  4591]), tensor([ 6439,  9555,   232,  6439,  8020]), tensor([ 6439,  8876,  5333,  6439,  3277]), tensor([  6439,  13427,   8630,   6439,  10153]), tensor([ 6439,  2068,   264,  6439,  2685]), tensor([  6439,   2231,  13427,   6439,   9835]), tensor([  6439,  12431,   5865,   6439,   5346]), tensor([ 6439,  5412,  5340,  6439,  5668]), tensor([  6439,    579,  12971,   6439,    330]), tensor([  6439,  12846,  13427,   6439,  13329]), tensor([  6439,   5016,  11924,   6439,   3174]), tensor([  6439,   4830,  10249,   6439,   8688]), tensor([ 6439,  9492,  4142,  6439,  9953]), tensor([  6439,  13427,  10153,   6439,   8888]), tensor([ 6439,  6439,  1296,  6439,  7267]), tensor([  6439,   6439,  13102,   6439,   2181]), tensor([ 6439,  6439,  9409,  6439,  8645]), tensor([ 6439,  6439,  6181,  6439,  3051]), tensor([ 6439,  6439,   232,  6439,  8888]), tensor([  6439,   6439,   4411,   6439,  13427]), tensor([ 6439,  6439,  2983,  6439,  8201]), tensor([ 6439,  6439,  3277,  6439,  6439]), tensor([ 6439,  6439,  1454,  6439,  6439]), tensor([ 6439,  6439,  4563,  6439,  6439]), tensor([  6439,   6439,  11078,   6439,   6439]), tensor([ 6439,  6439,  1079,  6439,  6439]), tensor([ 6439,  6439,  4563,  6439,  6439]), tensor([  6439,   6439,  13434,   6439,   6439]), tensor([  6439,   6439,  12193,   6439,   6439]), tensor([ 6439,  6439,  1456,  6439,  6439]), tensor([  6439,   6439,  10378,   6439,   6439]), tensor([ 6439,  6439,  3145,  6439,  6439]), tensor([ 6439,  6439,   172,  6439,  6439]), tensor([ 6439,  6439,  6439,  6439,  6439]), tensor([ 6439,  6439,  6439,  6439,  6439]), tensor([ 6439,  6439,  6439,  6439,  6439]), tensor([ 6439,  6439,  6439,  6439,  6439]), tensor([ 6439,  6439,  6439,  6439,  6439]), tensor([ 6439,  6439,  6439,  6439,  6439])] : [('第一阶段', '2007', '目前', '以下', '本期'), ('2009', '年', '我们', '为', '胜负彩'), ('年', '的', '项目', '直播', '主客场'), ('6', '特殊', '呈现', '实录', '战绩'), ('月', '情况', '出来', ' ', '完全'), ('8', '在于', '的', ' ', '采用'), ('月', '当时', '东西', ' ', '的'), (' ', '挤', '挺', ' ', '是'), (' ', '空头', '有意思', ' ', '新'), (' ', '比较', '北京', ' ', '赛季'), (' ', '厉害', '也', ' ', '数据'), (' ', '一位', '有', ' ', '因此'), (' ', '相关', '很多', ' ', '部分'), (' ', '央企', '项目', ' ', '场次'), (' ', '的', '在', ' ', '出现'), (' ', '资深', '一个', ' ', '了'), (' ', '分析师', '园区', ' ', '单'), (' ', '告诉', '里面', ' ', '1'), (' ', '本报记者', '分', ' ', '的'), (' ', '另一家', '两个', ' ', '选择'), (' ', '大型', '特色', ' ', '这'), (' ', '央企', '迥异', ' ', '是因为'), (' ', '东航', '的', ' ', '主队'), (' ', '的', '别墅', ' ', '主场'), (' ', '损失', '产品', ' ', '和'), (' ', '就是', '可能', ' ', '客队'), (' ', '在', '我们', ' ', '客场'), (' ', '这样', '还是', ' ', '都'), (' ', '的', '非常', ' ', '是'), (' ', '背景', '罕见', ' ', '1'), (' ', '下', '的', ' ', '平'), (' ', '买入', '北京', ' ', '近期'), (' ', '大量', '京城', ' ', '状态'), (' ', '看空', '别墅', ' ', '包括'), (' ', '期权', '的', ' ', '新'), (' ', '被', '布局', ' ', '赛季'), (' ', '挤', '有人', ' ', '前'), (' ', '造成', '说', ' ', '3'), (' ', '的', '是', ' ', '轮'), (' ', ' ', '东城', ' ', '和'), (' ', ' ', '西城', ' ', '上赛季'), (' ', ' ', '南帝', ' ', '最后'), (' ', ' ', '北丐', ' ', '2'), (' ', ' ', '我们', ' ', '轮'), (' ', ' ', '是不是', ' ', '的'), (' ', ' ', '左右手', ' ', '表现'), (' ', ' ', '都', ' ', ' '), (' ', ' ', '有', ' ', ' '), (' ', ' ', '一个', ' ', ' '), (' ', ' ', '内敛', ' ', ' '), (' ', ' ', '含蓄', ' ', ' '), (' ', ' ', '一个', ' ', ' '), (' ', ' ', '相对', ' ', ' '), (' ', ' ', '现代', ' ', ' '), (' ', ' ', '开放', ' ', ' '), (' ', ' ', '形成', ' ', ' '), (' ', ' ', '两种', ' ', ' '), (' ', ' ', '风格', ' ', ' '), (' ', ' ', ' ', ' ', ' '), (' ', ' ', ' ', ' ', ' '), (' ', ' ', ' ', ' ', ' '), (' ', ' ', ' ', ' ', ' '), (' ', ' ', ' ', ' ', ' '), (' ', ' ', ' ', ' ', ' ')]\n"
     ]
    }
   ],
   "source": [
    "dl = data.DataLoader(eds,batch_size=5,shuffle=True)\n",
    "for step, (words,labels,word_source) in enumerate(dl):\n",
    "    if step == 1:\n",
    "        print('{} --> {} : {}'.format( step, words,labels))\n",
    "        break\n",
    "    \n",
    "#     "
   ]
  },
  {
   "cell_type": "code",
   "execution_count": 106,
   "metadata": {},
   "outputs": [
    {
     "name": "stdout",
     "output_type": "stream",
     "text": [
      "tensor([ 9555,  9555,  2688,    49,    49])\n"
     ]
    }
   ],
   "source": [
    "print(words[0])\n",
    "\n",
    "# print(word_source)"
   ]
  },
  {
   "cell_type": "markdown",
   "metadata": {
    "heading_collapsed": true
   },
   "source": [
    "# CNNText_inception"
   ]
  },
  {
   "cell_type": "code",
   "execution_count": 2,
   "metadata": {
    "hidden": true
   },
   "outputs": [
    {
     "name": "stdout",
     "output_type": "stream",
     "text": [
      "Inception(\n",
      "  (activa): Sequential(\n",
      "    (norm): BatchNorm1d(512, eps=1e-05, momentum=0.1, affine=True, track_running_stats=True)\n",
      "    (relu): ReLU(inplace)\n",
      "  )\n",
      "  (branch1): Sequential(\n",
      "    (conv1): Conv1d(256, 128, kernel_size=(1,), stride=(1,))\n",
      "  )\n",
      "  (branch2): Sequential(\n",
      "    (conv1): Conv1d(256, 128, kernel_size=(1,), stride=(1,))\n",
      "    (norm1): BatchNorm1d(128, eps=1e-05, momentum=0.1, affine=True, track_running_stats=True)\n",
      "    (relu1): ReLU(inplace)\n",
      "    (conv3): Conv1d(128, 128, kernel_size=(3,), stride=(1,), padding=(1,))\n",
      "  )\n",
      "  (branch3): Sequential(\n",
      "    (conv1): Conv1d(256, 128, kernel_size=(3,), stride=(1,), padding=(1,))\n",
      "    (norm1): BatchNorm1d(128, eps=1e-05, momentum=0.1, affine=True, track_running_stats=True)\n",
      "    (relu1): ReLU(inplace)\n",
      "    (conv3): Conv1d(128, 128, kernel_size=(5,), stride=(1,), padding=(2,))\n",
      "  )\n",
      "  (branch4): Sequential(\n",
      "    (conv3): Conv1d(256, 128, kernel_size=(3,), stride=(1,), padding=(1,))\n",
      "  )\n",
      ")\n"
     ]
    }
   ],
   "source": [
    "from lib.models import Inception\n",
    "ince = Inception(256,512)\n",
    "print(ince)"
   ]
  }
 ],
 "metadata": {
  "kernelspec": {
   "display_name": "Python 3",
   "language": "python",
   "name": "python3"
  },
  "language_info": {
   "codemirror_mode": {
    "name": "ipython",
    "version": 3
   },
   "file_extension": ".py",
   "mimetype": "text/x-python",
   "name": "python",
   "nbconvert_exporter": "python",
   "pygments_lexer": "ipython3",
   "version": "3.6.3"
  }
 },
 "nbformat": 4,
 "nbformat_minor": 2
}
