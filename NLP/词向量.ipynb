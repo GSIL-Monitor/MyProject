{
 "cells": [
  {
   "cell_type": "code",
   "execution_count": 1,
   "metadata": {},
   "outputs": [],
   "source": [
    "# Put these at the top of every notebook, to get automatic reloading and inline plotting\n",
    "%reload_ext autoreload\n",
    "%autoreload 2\n",
    "%matplotlib inline"
   ]
  },
  {
   "cell_type": "code",
   "execution_count": 23,
   "metadata": {
    "code_folding": []
   },
   "outputs": [],
   "source": [
    "# https://www.cnblogs.com/pinard/p/7278324.html\n",
    "from gensim.models import word2vec\n",
    "# -*- coding: utf-8 -*-\n",
    "\n",
    "import jieba\n",
    "import jieba.analyse\n",
    "\n",
    "jieba.suggest_freq('沙瑞金', True)\n",
    "jieba.suggest_freq('田国富', True)\n",
    "jieba.suggest_freq('高育良', True)\n",
    "jieba.suggest_freq('侯亮平', True)\n",
    "jieba.suggest_freq('钟小艾', True)\n",
    "jieba.suggest_freq('陈岩石', True)\n",
    "jieba.suggest_freq('欧阳菁', True)\n",
    "jieba.suggest_freq('易学习', True)\n",
    "jieba.suggest_freq('王大路', True)\n",
    "jieba.suggest_freq('蔡成功', True)\n",
    "jieba.suggest_freq('孙连城', True)\n",
    "jieba.suggest_freq('季昌明', True)\n",
    "jieba.suggest_freq('丁义珍', True)\n",
    "jieba.suggest_freq('郑西坡', True)\n",
    "jieba.suggest_freq('赵东来', True)\n",
    "jieba.suggest_freq('高小琴', True)\n",
    "jieba.suggest_freq('赵瑞龙', True)\n",
    "jieba.suggest_freq('林华华', True)\n",
    "jieba.suggest_freq('陆亦可', True)\n",
    "jieba.suggest_freq('刘新建', True)\n",
    "jieba.suggest_freq('刘庆祝', True)\n",
    "\n",
    "with open('D:/PROJECT_TW/git/data/nlp/in_the_name_of_people/in_the_name_of_people.txt', 'rb') as f:\n",
    "    document = f.read()\n",
    "    #document_decode = document.decode('GBK')\n",
    "    document_cut = jieba.cut(document)\n",
    "    #print  ' '.join(jieba_cut)  //如果打印结果，则分词效果消失，后面的result无法显示\n",
    "    result = ' '.join(document_cut)\n",
    "    \n",
    "    result = result.encode('utf-8')\n",
    "    \n",
    "    with open('D:/PROJECT_TW/git/data/nlp/in_the_name_of_people/in_the_name_of_people_segment.txt', 'wb') as f2:\n",
    "        f2.write(result)\n",
    "f.close()\n",
    "f2.close()"
   ]
  },
  {
   "cell_type": "code",
   "execution_count": 24,
   "metadata": {
    "code_folding": []
   },
   "outputs": [
    {
     "name": "stderr",
     "output_type": "stream",
     "text": [
      "2018-11-21 17:38:17,067 : INFO : collecting all words and their counts\n",
      "2018-11-21 17:38:17,070 : INFO : PROGRESS: at sentence #0, processed 0 words, keeping 0 word types\n",
      "2018-11-21 17:38:17,158 : INFO : collected 17877 word types from a corpus of 161342 raw words and 2310 sentences\n",
      "2018-11-21 17:38:17,161 : INFO : Loading a fresh vocabulary\n",
      "2018-11-21 17:38:17,219 : INFO : effective_min_count=1 retains 17877 unique words (100% of original 17877, drops 0)\n",
      "2018-11-21 17:38:17,220 : INFO : effective_min_count=1 leaves 161342 word corpus (100% of original 161342, drops 0)\n",
      "2018-11-21 17:38:17,316 : INFO : deleting the raw counts dictionary of 17877 items\n",
      "2018-11-21 17:38:17,318 : INFO : sample=0.001 downsamples 38 most-common words\n",
      "2018-11-21 17:38:17,319 : INFO : downsampling leaves estimated 120577 word corpus (74.7% of prior 161342)\n",
      "2018-11-21 17:38:17,347 : INFO : constructing a huffman tree from 17877 words\n",
      "2018-11-21 17:38:17,933 : INFO : built huffman tree with maximum node depth 17\n",
      "2018-11-21 17:38:17,983 : INFO : estimated required memory for 17877 words and 100 dimensions: 33966300 bytes\n",
      "2018-11-21 17:38:17,986 : INFO : resetting layer weights\n",
      "2018-11-21 17:38:18,303 : INFO : training model with 3 workers on 17877 vocabulary and 100 features, using sg=0 hs=1 sample=0.001 negative=5 window=3\n",
      "2018-11-21 17:38:18,661 : INFO : worker thread finished; awaiting finish of 2 more threads\n",
      "2018-11-21 17:38:18,666 : INFO : worker thread finished; awaiting finish of 1 more threads\n",
      "2018-11-21 17:38:18,696 : INFO : worker thread finished; awaiting finish of 0 more threads\n",
      "2018-11-21 17:38:18,701 : INFO : EPOCH - 1 : training on 161342 raw words (120495 effective words) took 0.4s, 305660 effective words/s\n",
      "2018-11-21 17:38:19,091 : INFO : worker thread finished; awaiting finish of 2 more threads\n",
      "2018-11-21 17:38:19,095 : INFO : worker thread finished; awaiting finish of 1 more threads\n",
      "2018-11-21 17:38:19,109 : INFO : worker thread finished; awaiting finish of 0 more threads\n",
      "2018-11-21 17:38:19,113 : INFO : EPOCH - 2 : training on 161342 raw words (120577 effective words) took 0.4s, 296911 effective words/s\n",
      "2018-11-21 17:38:19,511 : INFO : worker thread finished; awaiting finish of 2 more threads\n",
      "2018-11-21 17:38:19,542 : INFO : worker thread finished; awaiting finish of 1 more threads\n",
      "2018-11-21 17:38:19,571 : INFO : worker thread finished; awaiting finish of 0 more threads\n",
      "2018-11-21 17:38:19,575 : INFO : EPOCH - 3 : training on 161342 raw words (120519 effective words) took 0.5s, 265839 effective words/s\n",
      "2018-11-21 17:38:19,966 : INFO : worker thread finished; awaiting finish of 2 more threads\n",
      "2018-11-21 17:38:19,974 : INFO : worker thread finished; awaiting finish of 1 more threads\n",
      "2018-11-21 17:38:19,992 : INFO : worker thread finished; awaiting finish of 0 more threads\n",
      "2018-11-21 17:38:19,994 : INFO : EPOCH - 4 : training on 161342 raw words (120567 effective words) took 0.4s, 294682 effective words/s\n",
      "2018-11-21 17:38:20,312 : INFO : worker thread finished; awaiting finish of 2 more threads\n",
      "2018-11-21 17:38:20,315 : INFO : worker thread finished; awaiting finish of 1 more threads\n",
      "2018-11-21 17:38:20,322 : INFO : worker thread finished; awaiting finish of 0 more threads\n",
      "2018-11-21 17:38:20,325 : INFO : EPOCH - 5 : training on 161342 raw words (120661 effective words) took 0.3s, 375780 effective words/s\n",
      "2018-11-21 17:38:20,326 : INFO : training on a 806710 raw words (602819 effective words) took 2.0s, 298288 effective words/s\n"
     ]
    }
   ],
   "source": [
    "# import modules & set up logging\n",
    "import logging\n",
    "import os\n",
    "from gensim.models import word2vec\n",
    "\n",
    "logging.basicConfig(format='%(asctime)s : %(levelname)s : %(message)s', level=logging.INFO)\n",
    "\n",
    "sentences = word2vec.LineSentence('D:/PROJECT_TW/git/data/nlp/in_the_name_of_people/in_the_name_of_people_segment.txt') \n",
    "\n",
    "model = word2vec.Word2Vec(sentences, hs=1,min_count=1,window=3,size=100)"
   ]
  },
  {
   "cell_type": "code",
   "execution_count": 29,
   "metadata": {},
   "outputs": [
    {
     "name": "stdout",
     "output_type": "stream",
     "text": [
      "高育良 0.968395471572876\n",
      "田国富 0.9532765746116638\n",
      "季昌明 0.9343511462211609\n",
      "打电话 0.9262094497680664\n",
      "李达康 0.9234870672225952\n"
     ]
    },
    {
     "name": "stderr",
     "output_type": "stream",
     "text": [
      "d:\\project_tw\\anly\\venv\\lib\\site-packages\\gensim\\matutils.py:737: FutureWarning: Conversion of the second argument of issubdtype from `int` to `np.signedinteger` is deprecated. In future, it will be treated as `np.int32 == np.dtype(int).type`.\n",
      "  if np.issubdtype(vec.dtype, np.int):\n"
     ]
    }
   ],
   "source": [
    "req_count = 5\n",
    "for key in model.wv.similar_by_word('沙瑞金', topn =100):\n",
    "    if len(key[0])==3:\n",
    "        req_count -= 1\n",
    "        print(key[0], key[1])\n",
    "        if req_count == 0:\n",
    "            break;"
   ]
  },
  {
   "cell_type": "code",
   "execution_count": 35,
   "metadata": {},
   "outputs": [
    {
     "name": "stdout",
     "output_type": "stream",
     "text": [
      "[-0.2977822  -0.1549249   0.6507554  -0.86602515  0.48811993  0.15175906\n",
      " -0.8515805   0.0853966   0.17270194 -0.5203295  -0.14943494  0.01982061\n",
      " -0.6090729  -0.86523277 -0.44711593  0.6055544  -0.36828125  0.10310514\n",
      " -0.27452558  0.40815416  0.33610743  0.81392145 -0.5017918  -0.19998638\n",
      " -0.00470507 -0.20221017 -1.2513229   0.20913582 -0.22376093  0.1306105\n",
      " -0.16843657 -0.49765563 -0.19133562 -0.45680067  0.05764126 -0.6980426\n",
      " -0.13555478 -0.23315376 -0.1934328   1.1323106  -0.4410691   0.9976971\n",
      " -0.50883985  0.05570252 -0.1614298  -0.64328146 -0.04559267 -0.7231889\n",
      "  0.23745288  0.02226086  0.973284    0.03555081  0.5893002   0.12447958\n",
      "  0.37394464  0.17487913 -0.29889068  0.1610349   0.26354006  0.15952827\n",
      " -0.16855946 -0.49395192 -0.8848587   0.23776352 -0.3249075   0.8050754\n",
      " -0.31244087  0.0075042   0.43414494  0.1439612   0.2632602   0.11737256\n",
      " -0.11692953  0.5267038  -0.42249867  0.04001137  0.31332076  0.3009477\n",
      "  0.33454752 -0.16305472  1.7436802   0.5858714   0.4501556  -0.20827278\n",
      " -0.13064793  0.34963775  0.4879616   0.6410648  -0.03204972 -0.07883165\n",
      " -0.10197785 -0.75437546 -0.30323428  0.23340757 -0.39244127  0.3399613\n",
      " -0.1928573  -1.4092346  -0.85788965  0.8142652 ]\n"
     ]
    }
   ],
   "source": [
    "print(model.wv.get_vector('沙瑞金'))"
   ]
  }
 ],
 "metadata": {
  "kernelspec": {
   "display_name": "Python 3",
   "language": "python",
   "name": "python3"
  },
  "language_info": {
   "codemirror_mode": {
    "name": "ipython",
    "version": 3
   },
   "file_extension": ".py",
   "mimetype": "text/x-python",
   "name": "python",
   "nbconvert_exporter": "python",
   "pygments_lexer": "ipython3",
   "version": "3.6.3"
  }
 },
 "nbformat": 4,
 "nbformat_minor": 2
}
