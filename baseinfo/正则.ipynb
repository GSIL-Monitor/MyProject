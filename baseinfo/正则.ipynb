{
 "cells": [
  {
   "cell_type": "code",
   "execution_count": 3,
   "metadata": {},
   "outputs": [],
   "source": [
    "# Put these at the top of every notebook, to get automatic reloading and inline plotting\n",
    "%reload_ext autoreload\n",
    "%autoreload 2\n",
    "%matplotlib inline\n",
    "import re"
   ]
  },
  {
   "cell_type": "markdown",
   "metadata": {},
   "source": [
    "# 分隔字符串"
   ]
  },
  {
   "cell_type": "code",
   "execution_count": 7,
   "metadata": {},
   "outputs": [
    {
     "data": {
      "text/plain": [
       "['', '36.', 'ABC', '37.', 'ACD', '38.', 'BCD', '39.', '70BCD', '40.', 'ACD']"
      ]
     },
     "execution_count": 7,
     "metadata": {},
     "output_type": "execute_result"
    }
   ],
   "source": [
    "s = '01.ABCD02.ABCD03.ABCD99.ABCDEFH101.AAAT'\n",
    "s = '36.ABC37.ACD38.BCD39.70BCD40.ACD'\n",
    "# 采用 re split 分开\n",
    "rex = re.compile(r'[0-9]{2,3}\\.')\n",
    "sp = rex.split(s)\n",
    "# 注意下面两种方式的区别，后面一种是加()号正则，会将36.这些分隔标记也带入\n",
    "re.split(r'[0-9]{2,3}\\.', s)\n",
    "re.split(r'([0-9]{1,3}\\.)',s)\n",
    "# 采用re find 方式\n",
    "# rex = re.compile(r'([0-9]{2,3}\\.)([A-H|T]{1,7})')\n",
    "# rex.findall(s)"
   ]
  },
  {
   "cell_type": "code",
   "execution_count": 48,
   "metadata": {},
   "outputs": [
    {
     "data": {
      "text/plain": [
       "['', 'ABCD', 'ABCD', 'ABCD', 'ABCDEFG', 'AAAA']"
      ]
     },
     "execution_count": 48,
     "metadata": {},
     "output_type": "execute_result"
    }
   ],
   "source": []
  }
 ],
 "metadata": {
  "kernelspec": {
   "display_name": "Python 3",
   "language": "python",
   "name": "python3"
  },
  "language_info": {
   "codemirror_mode": {
    "name": "ipython",
    "version": 3
   },
   "file_extension": ".py",
   "mimetype": "text/x-python",
   "name": "python",
   "nbconvert_exporter": "python",
   "pygments_lexer": "ipython3",
   "version": "3.6.5"
  }
 },
 "nbformat": 4,
 "nbformat_minor": 2
}
