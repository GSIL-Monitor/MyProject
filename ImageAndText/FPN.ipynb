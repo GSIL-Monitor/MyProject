{
 "cells": [
  {
   "cell_type": "markdown",
   "metadata": {},
   "source": [
    " https://blog.csdn.net/WZZ18191171661/article/details/79494534 \n",
    " \n",
    " https://blog.csdn.net/Diana_Z/article/details/81327032 \n",
    " \n",
    " https://blog.csdn.net/u011808673/article/details/80790750 Intel发布神经网络压缩库Distiller：快速利用前沿算法压缩PyTorch模型\n",
    " \n",
    " https://github.com/NervanaSystems/distiller  用于神经网络压缩研究的Python包(PyTorch)\n",
    " \n",
    " https://www.pytorchtutorial.com/pytorch-feature-pyramid-networks/  https://github.com/jwyang/fpn.pytorch "
   ]
  },
  {
   "cell_type": "code",
   "execution_count": null,
   "metadata": {},
   "outputs": [],
   "source": []
  }
 ],
 "metadata": {
  "kernelspec": {
   "display_name": "Python 3",
   "language": "python",
   "name": "python3"
  },
  "language_info": {
   "codemirror_mode": {
    "name": "ipython",
    "version": 3
   },
   "file_extension": ".py",
   "mimetype": "text/x-python",
   "name": "python",
   "nbconvert_exporter": "python",
   "pygments_lexer": "ipython3",
   "version": "3.6.3"
  }
 },
 "nbformat": 4,
 "nbformat_minor": 2
}
