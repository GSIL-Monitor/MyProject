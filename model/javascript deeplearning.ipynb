{
 "cells": [
  {
   "cell_type": "markdown",
   "metadata": {},
   "source": [
    "    https://github.com/karpathy/convnetjs\n",
    "    \n",
    "    https://cs.stanford.edu/people/karpathy/convnetjs/\n",
    "    \n",
    "    https://www.infoq.com/news/2018/04/tensorflow-javascript-browser\n",
    "    \n",
    "    \n",
    "    https://github.com/BrainJS/brain.js"
   ]
  }
 ],
 "metadata": {
  "kernelspec": {
   "display_name": "Python 3",
   "language": "python",
   "name": "python3"
  },
  "language_info": {
   "codemirror_mode": {
    "name": "ipython",
    "version": 3
   },
   "file_extension": ".py",
   "mimetype": "text/x-python",
   "name": "python",
   "nbconvert_exporter": "python",
   "pygments_lexer": "ipython3",
   "version": "3.6.5"
  }
 },
 "nbformat": 4,
 "nbformat_minor": 2
}
