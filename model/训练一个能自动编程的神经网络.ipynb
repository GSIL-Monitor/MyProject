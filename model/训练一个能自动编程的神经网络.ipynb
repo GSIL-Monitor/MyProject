{
 "cells": [
  {
   "cell_type": "markdown",
   "metadata": {},
   "source": [
    "    http://www.360doc.com/content/17/0709/07/40028542_669963176.shtml\n",
    "    \n",
    "    https://github.com/thibo73800/deep_generation/tree/master/c_code\n",
    "    \n",
    "    \n",
    "    http://www.360doc.com/content/16/1208/20/99071_613105062.shtml "
   ]
  }
 ],
 "metadata": {
  "kernelspec": {
   "display_name": "Python 3",
   "language": "python",
   "name": "python3"
  },
  "language_info": {
   "codemirror_mode": {
    "name": "ipython",
    "version": 3
   },
   "file_extension": ".py",
   "mimetype": "text/x-python",
   "name": "python",
   "nbconvert_exporter": "python",
   "pygments_lexer": "ipython3",
   "version": "3.6.5"
  }
 },
 "nbformat": 4,
 "nbformat_minor": 2
}
