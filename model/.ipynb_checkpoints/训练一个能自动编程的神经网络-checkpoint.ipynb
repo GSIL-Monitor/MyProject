{
 "cells": [
  {
   "cell_type": "markdown",
   "metadata": {},
   "source": [
    "    http://www.360doc.com/content/17/0709/07/40028542_669963176.shtml\n",
    "    \n",
    "    https://github.com/thibo73800/deep_generation/tree/master/c_code\n",
    "    \n",
    "    \n",
    "    http://www.360doc.com/content/16/1208/20/99071_613105062.shtml \n",
    "    \n",
    "    \n",
    "    http://www.egouz.com/topics/12845.html \n",
    "    \n",
    "    https://doc.mbalib.com/view/528ed217d993b0c39fc374aaa022e589.html 基于语言模型的英语语法错误检查及纠正\n",
    "    \n",
    "    http://www.wanfangdata.com.cn/details/detail.do?_type=degree&id=D553229 基于神经网络的英语作文自动评分模型研究与实现\n",
    "    \n",
    "    http://www.aboutyun.com/thread-20745-1-1.html 深度学习如何指导机器自动编写出能正确执行的代码 "
   ]
  }
 ],
 "metadata": {
  "kernelspec": {
   "display_name": "Python 3",
   "language": "python",
   "name": "python3"
  },
  "language_info": {
   "codemirror_mode": {
    "name": "ipython",
    "version": 3
   },
   "file_extension": ".py",
   "mimetype": "text/x-python",
   "name": "python",
   "nbconvert_exporter": "python",
   "pygments_lexer": "ipython3",
   "version": "3.6.3"
  }
 },
 "nbformat": 4,
 "nbformat_minor": 2
}
