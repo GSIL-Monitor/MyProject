{
 "cells": [
  {
   "cell_type": "markdown",
   "metadata": {},
   "source": [
    "# CTC 原理及实现"
   ]
  },
  {
   "cell_type": "markdown",
   "metadata": {},
   "source": [
    "    这里大体根据 Alex Graves 的开山之作[1]，讨论 CTC 的算法原理，并基于 numpy 从零实现 CTC 的推理及训练算法。\n",
    "    \n",
    "    序列问题可以形式化为如下函数：\n",
    "\n",
    "    Nw:(Rm)T→(Rn)T\n",
    "    Nw:(Rm)T→(Rn)T\n",
    "\n",
    "    其中，序列目标为字符串（词表大小为 nn），即 NwNw 输出为 nn 维多项概率分布（e.g. 经过 softmax 处理）。\n",
    "    \n",
    "    网络输出为：y=Nwy=Nw，其中，ytkykt tt 表示时刻第 kk 项的概率。"
   ]
  },
  {
   "cell_type": "code",
   "execution_count": 4,
   "metadata": {},
   "outputs": [
    {
     "name": "stdout",
     "output_type": "stream",
     "text": [
      "[[0.24654511 0.18837589 0.16937668 0.16757465 0.22812766]\n",
      " [0.25443629 0.14992236 0.22945293 0.17240658 0.19378184]\n",
      " [0.24134404 0.17179604 0.23572466 0.12994237 0.22119288]\n",
      " [0.27216255 0.13054313 0.2679252  0.14184499 0.18752413]\n",
      " [0.32558002 0.13485564 0.25228604 0.09743785 0.18984045]\n",
      " [0.23855586 0.14800386 0.23100255 0.17158135 0.21085638]\n",
      " [0.38534786 0.11524603 0.18220093 0.14617864 0.17102655]\n",
      " [0.21867406 0.18511892 0.21305488 0.16472572 0.21842642]\n",
      " [0.29856607 0.13646801 0.27196606 0.11562552 0.17737434]\n",
      " [0.242347   0.14102063 0.21716951 0.2355229  0.16393996]\n",
      " [0.26597326 0.10009752 0.23362892 0.24560198 0.15469832]\n",
      " [0.23337289 0.11918746 0.28540761 0.20197928 0.16005275]]\n"
     ]
    }
   ],
   "source": [
    "# 序列建模\n",
    "import numpy as np\n",
    "\n",
    "np.random.seed(1111)\n",
    "\n",
    "T, V = 12, 5\n",
    "m, n = 6, V\n",
    "\n",
    "x = np.random.random([T, m])  # T x m\n",
    "w = np.random.random([m, n])  # weights, m x n\n",
    "\n",
    "def softmax(logits):\n",
    "    max_value = np.max(logits, axis=1, keepdims=True)\n",
    "    exp = np.exp(logits - max_value)\n",
    "    exp_sum = np.sum(exp, axis=1, keepdims=True)\n",
    "    dist = exp / exp_sum\n",
    "    return dist\n",
    "\n",
    "def toy_nw(x):\n",
    "    y = np.matmul(x, w)  # T x n \n",
    "    y = softmax(y)\n",
    "    return y\n",
    "\n",
    "y = toy_nw(x)\n",
    "print(y)\n",
    "# print(y.sum(1, keepdims=True))"
   ]
  },
  {
   "cell_type": "markdown",
   "metadata": {},
   "source": [
    "# align-free 变长映射"
   ]
  },
  {
   "cell_type": "markdown",
   "metadata": {},
   "source": [
    "    上面的形式是输入和输出的一对一的映射。序列学习任务一般而言是多对多的映射关系（如语音识别中，上百帧输出可能仅对应若干音节或字符，并且每个输入和输出之间，也没有清楚的对应关系）。CTC 通过引入一个特殊的 blank 字符（用 % 表示），解决多对一映射问题。\n",
    "\n",
    "    扩展原始词表 LL 为 L′=L∪{blank}L′=L∪{blank}。对输出字符串，定义操作 BB：1）合并连续的相同符号；2）去掉 blank 字符。\n",
    "\n",
    "    例如，对于 “aa%bb%%cc”，应用 BB，则实际上代表的是字符串 “abc”。同理“%a%b%cc%” 也同样代表 “abc”。 \n",
    "    B(aa%bb%%cc)=B(%a%b%cc%)=abc\n",
    "    B(aa%bb%%cc)=B(%a%b%cc%)=abc\n",
    "    通过引入blank 及 BB，可以实现了变长的映射。 \n",
    "    L′T→L≤T\n",
    "    L′T→L≤T\n",
    "    因为这个原因，CTC 只能建模输出长度小于输入长度的序列问题。"
   ]
  },
  {
   "cell_type": "code",
   "execution_count": 7,
   "metadata": {
    "scrolled": true
   },
   "outputs": [
    {
     "name": "stdout",
     "output_type": "stream",
     "text": [
      "[[2.46545113e-01 1.67574654e-01 0.00000000e+00 0.00000000e+00\n",
      "  0.00000000e+00 0.00000000e+00 0.00000000e+00]\n",
      " [6.27300235e-02 7.13969720e-02 4.26370730e-02 0.00000000e+00\n",
      "  0.00000000e+00 0.00000000e+00 0.00000000e+00]\n",
      " [1.51395174e-02 1.74287803e-02 2.75214373e-02 5.54036251e-03\n",
      "  0.00000000e+00 0.00000000e+00 0.00000000e+00]\n",
      " [4.12040964e-03 4.61964998e-03 1.22337658e-02 4.68965079e-03\n",
      "  1.50787918e-03 1.03895167e-03 0.00000000e+00]\n",
      " [1.34152305e-03 8.51612635e-04 5.48713543e-03 1.64898136e-03\n",
      "  2.01779193e-03 1.37377693e-03 3.38261905e-04]\n",
      " [3.20028190e-04 3.76301179e-04 1.51214552e-03 1.22442454e-03\n",
      "  8.74730268e-04 1.06283215e-03 4.08416903e-04]\n",
      " [1.23322177e-04 1.01788478e-04 7.27708889e-04 4.00028082e-04\n",
      "  8.08904808e-04 5.40783712e-04 5.66942671e-04]\n",
      " [2.69673617e-05 3.70815141e-05 1.81389560e-04 1.85767281e-04\n",
      "  2.64362267e-04 3.82184328e-04 2.42231029e-04]\n",
      " [8.05153930e-06 7.40568461e-06 6.52280509e-05 4.24527009e-05\n",
      "  1.34393412e-04 1.47631121e-04 1.86429242e-04]\n",
      " [1.95126637e-06 3.64053019e-06 1.76025677e-05 2.53612828e-05\n",
      "  4.28581244e-05 5.31947855e-05 8.09585256e-05]\n",
      " [5.18984675e-07 1.37335633e-06 5.65009596e-06 1.05520069e-05\n",
      "  1.81445380e-05 1.87825719e-05 3.56811933e-05]\n",
      " [1.21116956e-07 3.82213679e-07 1.63908339e-06 3.27248912e-06\n",
      "  6.69699576e-06 7.59916314e-06 1.27103665e-05]]\n",
      "6.8181127117679896e-06\n"
     ]
    }
   ],
   "source": [
    "# 前向计算\n",
    "def forward(y, labels):\n",
    "    T, V = y.shape\n",
    "    L = len(labels)\n",
    "    alpha = np.zeros([T, L])\n",
    "\n",
    "    # init\n",
    "    alpha[0, 0] = y[0, labels[0]]\n",
    "    alpha[0, 1] = y[0, labels[1]]\n",
    "\n",
    "    for t in range(1, T):\n",
    "        for i in range(L):\n",
    "            s = labels[i]\n",
    "\n",
    "            a = alpha[t - 1, i] \n",
    "            if i - 1 >= 0:\n",
    "                a += alpha[t - 1, i - 1]\n",
    "            if i - 2 >= 0 and s != 0 and s != labels[i - 2]:\n",
    "                a += alpha[t - 1, i - 2]\n",
    "\n",
    "            alpha[t, i] = a * y[t, s]\n",
    "\n",
    "    return alpha\n",
    "labels = [0, 3, 0, 3, 0, 4, 0]  # 0 for blank\n",
    "alpha = forward(y, labels)\n",
    "print(alpha)\n",
    "\n",
    "# 最后可以得到似然 p(l|x)=αT(|l′|)+αT(|l′|−1)p(l|x)=αT(|l′|)+αT(|l′|−1)。  最大似然\n",
    "p = alpha[-1, labels[-1]] + alpha[-1, labels[-2]]\n",
    "print(p)"
   ]
  },
  {
   "cell_type": "code",
   "execution_count": 8,
   "metadata": {},
   "outputs": [
    {
     "name": "stdout",
     "output_type": "stream",
     "text": [
      "[[1.25636660e-05 7.74586366e-06 8.69559539e-06 3.30990037e-06\n",
      "  2.41325357e-06 4.30516936e-07 1.21116956e-07]\n",
      " [3.00418145e-05 2.09170784e-05 2.53062822e-05 9.96351200e-06\n",
      "  8.39236521e-06 1.39591874e-06 4.91256769e-07]\n",
      " [7.14014755e-05 4.66705755e-05 7.46535563e-05 2.48066359e-05\n",
      "  2.77113594e-05 5.27279259e-06 1.93076535e-06]\n",
      " [1.69926001e-04 1.25923340e-04 2.33240296e-04 7.60839197e-05\n",
      "  9.89830489e-05 1.58379311e-05 8.00005392e-06]\n",
      " [4.20893778e-04 2.03461048e-04 6.84292101e-04 1.72696845e-04\n",
      "  3.08627225e-04 5.50636993e-05 2.93943967e-05]\n",
      " [4.81953899e-04 8.10796738e-04 1.27731424e-03 8.24448952e-04\n",
      "  7.48161143e-04 1.99769340e-04 9.02831714e-05]\n",
      " [9.80428697e-04 1.03986915e-03 3.68556718e-03 1.66879393e-03\n",
      "  2.56724754e-03 5.68961868e-04 3.78457146e-04]\n",
      " [2.40870506e-04 2.30339872e-03 4.81028886e-03 4.75397134e-03\n",
      "  4.31752827e-03 2.34462771e-03 9.82118206e-04]\n",
      " [0.00000000e+00 1.10150469e-03 1.28817322e-02 9.11579592e-03\n",
      "  1.35011919e-02 6.24293419e-03 4.49124231e-03]\n",
      " [0.00000000e+00 0.00000000e+00 9.52648414e-03 3.36188472e-02\n",
      "  2.50664437e-02 2.01536701e-02 1.50427081e-02]\n",
      " [0.00000000e+00 0.00000000e+00 0.00000000e+00 3.93092725e-02\n",
      "  4.25697510e-02 6.08622868e-02 6.20709492e-02]\n",
      " [0.00000000e+00 0.00000000e+00 0.00000000e+00 0.00000000e+00\n",
      "  0.00000000e+00 1.60052748e-01 2.33372894e-01]]\n"
     ]
    }
   ],
   "source": [
    "# 后向计算\n",
    "\n",
    "def backward(y, labels):\n",
    "    T, V = y.shape\n",
    "    L = len(labels)\n",
    "    beta = np.zeros([T, L])\n",
    "\n",
    "    # init\n",
    "    beta[-1, -1] = y[-1, labels[-1]]\n",
    "    beta[-1, -2] = y[-1, labels[-2]]\n",
    "\n",
    "    for t in range(T - 2, -1, -1):\n",
    "        for i in range(L):\n",
    "            s = labels[i]\n",
    "\n",
    "            a = beta[t + 1, i] \n",
    "            if i + 1 < L:\n",
    "                a += beta[t + 1, i + 1]\n",
    "            if i + 2 < L and s != 0 and s != labels[i + 2]:\n",
    "                a += beta[t + 1, i + 2]\n",
    "\n",
    "            beta[t, i] = a * y[t, s]\n",
    "\n",
    "    return beta\n",
    "\n",
    "beta = backward(y, labels)\n",
    "print(beta)"
   ]
  },
  {
   "cell_type": "code",
   "execution_count": 9,
   "metadata": {},
   "outputs": [
    {
     "name": "stdout",
     "output_type": "stream",
     "text": [
      "[[2.50911241 0.         0.         2.27594441 0.        ]\n",
      " [2.25397118 0.         0.         2.47384957 0.        ]\n",
      " [2.65058465 0.         0.         2.77274592 0.        ]\n",
      " [2.46136916 0.         0.         2.29678159 0.02303985]\n",
      " [2.300259   0.         0.         2.37548238 0.10334851]\n",
      " [2.40271071 0.         0.         2.19860276 0.23513657]\n",
      " [1.68914157 0.         0.         1.78214377 0.51794046]\n",
      " [2.32536762 0.         0.         1.75750877 0.92477606]\n",
      " [1.92883907 0.         0.         1.45529832 1.44239844]\n",
      " [2.06219335 0.         0.         0.7568118  1.96405515]\n",
      " [2.07914466 0.         0.         0.33858403 2.35197258]\n",
      " [2.6816852  0.         0.         0.         2.3377753 ]]\n"
     ]
    }
   ],
   "source": [
    "# 梯度计算\n",
    "\n",
    "def gradient(y, labels):\n",
    "    T, V = y.shape\n",
    "    L = len(labels)\n",
    "\n",
    "    alpha = forward(y, labels)\n",
    "    beta = backward(y, labels)\n",
    "    p = alpha[-1, -1] + alpha[-1, -2]\n",
    "\n",
    "    grad = np.zeros([T, V])\n",
    "    for t in range(T):\n",
    "        for s in range(V):\n",
    "            lab = [i for i, c in enumerate(labels) if c == s]\n",
    "            for i in lab:\n",
    "                grad[t, s] += alpha[t, i] * beta[t, i] \n",
    "            grad[t, s] /= y[t, s] ** 2\n",
    "\n",
    "    grad /= p\n",
    "    return grad\n",
    "\n",
    "grad = gradient(y, labels)\n",
    "print(grad)"
   ]
  },
  {
   "cell_type": "code",
   "execution_count": null,
   "metadata": {},
   "outputs": [],
   "source": [
    "def check_grad(y, labels, w=-1, v=-1, toleration=1e-3):\n",
    "    grad_1 = gradient(y, labels)[w, v]\n",
    "\n",
    "    delta = 1e-10\n",
    "    original = y[w, v]\n",
    "\n",
    "    y[w, v] = original + delta\n",
    "    alpha = forward(y, labels)\n",
    "    log_p1 = np.log(alpha[-1, -1] + alpha[-1, -2])\n",
    "\n",
    "    y[w, v] = original - delta\n",
    "    alpha = forward(y, labels)\n",
    "    log_p2 = np.log(alpha[-1, -1] + alpha[-1, -2])\n",
    "\n",
    "    y[w, v] = original\n",
    "\n",
    "    grad_2 = (log_p1 - log_p2) / (2 * delta)\n",
    "    if np.abs(grad_1 - grad_2) > toleration:\n",
    "        print('[%d, %d]：%.2e' % (w, v, np.abs(grad_1 - grad_2)))\n",
    "\n",
    "for toleration in [1e-5, 1e-6]:\n",
    "    print('%.e' % toleration)\n",
    "    for w in range(y.shape[0]):\n",
    "        for v in range(y.shape[1]):\n",
    "            check_grad(y, labels, w, v, toleration)"
   ]
  }
 ],
 "metadata": {
  "kernelspec": {
   "display_name": "Python 3",
   "language": "python",
   "name": "python3"
  },
  "language_info": {
   "codemirror_mode": {
    "name": "ipython",
    "version": 3
   },
   "file_extension": ".py",
   "mimetype": "text/x-python",
   "name": "python",
   "nbconvert_exporter": "python",
   "pygments_lexer": "ipython3",
   "version": "3.6.3"
  }
 },
 "nbformat": 4,
 "nbformat_minor": 2
}
